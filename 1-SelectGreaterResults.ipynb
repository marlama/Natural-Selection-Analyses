{
 "cells": [
  {
   "cell_type": "code",
   "execution_count": 1,
   "metadata": {},
   "outputs": [],
   "source": [
    "import pandas as pd\n",
    "import numpy as np"
   ]
  },
  {
   "cell_type": "markdown",
   "metadata": {},
   "source": [
    "### Read Files"
   ]
  },
  {
   "cell_type": "markdown",
   "metadata": {},
   "source": [
    "##### PBS"
   ]
  },
  {
   "cell_type": "code",
   "execution_count": 2,
   "metadata": {},
   "outputs": [],
   "source": [
    "PBSIndia=pd.read_csv('IndiaResults/India/PBSNormalizado_India_CEU_YRI_Bins.txt', sep=\"\\t\", header=0)\n",
    "PBSCaste=pd.read_csv('IndiaResults/Caste/PBSNormalizado_Caste_CEU_YRI_Bins.txt', sep=\"\\t\", header=0)\n",
    "PBSTribe=pd.read_csv('IndiaResults/Tribe/PBSNormalizado_Tribe_CEU_YRI_Bins.txt', sep=\"\\t\", header=0)\n",
    "PBSIndia1kgp=pd.read_csv('IndiaResults/India1kgp/PBSNormalizado_Indian1kgp_CEU_YRI_Bins.txt', sep=\"\\t\", header=0)"
   ]
  },
  {
   "cell_type": "code",
   "execution_count": 13,
   "metadata": {},
   "outputs": [],
   "source": [
    "PBSIndia1kgp_HC=pd.read_csv('PBSNormalizado_India1kgp_CEU_YRI_Bins.txt',low_memory=False, sep=\"\\t\", header=0)"
   ]
  },
  {
   "cell_type": "markdown",
   "metadata": {},
   "source": [
    "##### xpEHH"
   ]
  },
  {
   "cell_type": "code",
   "execution_count": 9,
   "metadata": {},
   "outputs": [],
   "source": [
    "xpEHHIndia=pd.read_csv('IndiaResults/India/xpEHH_India_CEU.xpehh.txt', sep=\"\\t\", header=0)\n",
    "xpEHHCaste=pd.read_csv('IndiaResults/Caste/xpEHH_Caste_CEU.xpehh.txt', sep=\"\\t\", header=0)\n",
    "xpEHHTribe=pd.read_csv('IndiaResults/Tribe/xpEHH_Tribe_CEU.xpehh.txt', sep=\"\\t\", header=0)\n",
    "xpEHHIndia1kgp=pd.read_csv('IndiaResults/India1kgp/xpEHH_Indian1kgp_CEU.xpehh.txt', sep=\"\\t\", header=0)"
   ]
  },
  {
   "cell_type": "markdown",
   "metadata": {},
   "source": [
    "##### iHS"
   ]
  },
  {
   "cell_type": "code",
   "execution_count": 10,
   "metadata": {},
   "outputs": [],
   "source": [
    "iHSIndia=pd.read_csv('IndiaResults/India/iHS_India_SecondTry.txt', sep=\"\\t\", header=0)\n",
    "iHSCaste=pd.read_csv('IndiaResults/Caste/iHS_Caste_SecondTry.txt', sep=\"\\t\", header=0)\n",
    "iHSTribe=pd.read_csv('IndiaResults/Tribe/iHS_Tribe_SecondTry.txt', sep=\"\\t\", header=0)\n",
    "iHSIndia1kgp=pd.read_csv('IndiaResults/India1kgp/iHS_India1kgp_SecondTry.txt', sep=\"\\t\", header=0)"
   ]
  },
  {
   "cell_type": "markdown",
   "metadata": {},
   "source": [
    "##### Tajima's D"
   ]
  },
  {
   "cell_type": "code",
   "execution_count": 2,
   "metadata": {},
   "outputs": [],
   "source": [
    "TajimasDIndia=pd.read_csv('IndiaResults/India/TajimasD_AllIndians.Tajima.D', sep=\"\\t\", header=0)\n",
    "TajimasDCaste=pd.read_csv('IndiaResults/Caste/TajimasD_JustCaste.Tajima.D', sep=\"\\t\", header=0)\n",
    "TajimasDTribe=pd.read_csv('IndiaResults/Tribe/TajimasD_JustTribe.Tajima.D', sep=\"\\t\", header=0)\n",
    "TajimasDIndia1kgp=pd.read_csv('IndiaResults/India1kgp/TajimasD_JustIndian1kgp.Tajima.D', sep=\"\\t\", header=0)\n",
    "\n",
    "TajimasDIndia_100kb=pd.read_csv('IndiaResults/India/TajimasD_AllIndians_100000bp.Tajima.D', sep=\"\\t\", header=0)\n",
    "TajimasDCaste_100kb=pd.read_csv('IndiaResults/Caste/TajimasD_JustCaste_100000bp.Tajima.D', sep=\"\\t\", header=0)\n",
    "TajimasDTribe_100kb=pd.read_csv('IndiaResults/Tribe/TajimasD_JustTribe_100000bp.Tajima.D', sep=\"\\t\", header=0)\n",
    "TajimasDIndia1kgp_100kb=pd.read_csv('IndiaResults/India1kgp/TajimasD_JustIndian1kgp_100000bp.Tajima.D', sep=\"\\t\", header=0)\n"
   ]
  },
  {
   "cell_type": "code",
   "execution_count": 2,
   "metadata": {},
   "outputs": [],
   "source": [
    "TajimaDIndia1kgp_HC=pd.read_csv('TajimasD_Indian1kgpHC_FinalFile.txt',low_memory=False, sep=\"\\t\", header=0)"
   ]
  },
  {
   "cell_type": "markdown",
   "metadata": {},
   "source": [
    "##### CLR"
   ]
  },
  {
   "cell_type": "code",
   "execution_count": 15,
   "metadata": {},
   "outputs": [],
   "source": [
    "CLRIndia=pd.read_csv('IndiaResults/India/CLR_India_200kb.txt', sep=\"\\t\", header=0)\n",
    "CLRCaste=pd.read_csv('IndiaResults/Caste/CLR_Caste_200kb.txt', sep=\"\\t\", header=0)\n",
    "CLRTribe=pd.read_csv('IndiaResults/Tribe/CLR_Tribe_200kb.txt', sep=\"\\t\", header=0)\n",
    "CLRIndia1kgp=pd.read_csv('IndiaResults/India1kgp/CLR_India1kgp_200kb.txt', sep=\"\\t\", header=0)\n",
    "CLRGreater10SNPs=pd.read_csv('IndiaResults/CLR/CLR200kb_JustGreater10SNPs', sep=\"\\t\", header=None)"
   ]
  },
  {
   "cell_type": "code",
   "execution_count": 20,
   "metadata": {},
   "outputs": [],
   "source": [
    "CLRIndia_10SNPs=open('IndiaResults/India/CLR_India_200kb_10SNPs.txt','w')\n",
    "for i in range(len(CLRIndia)):\n",
    "    for a in range(len(CLRGreater10SNPs)):\n",
    "        if CLRIndia['Position'][i] == CLRGreater10SNPs[0][a]:\n",
    "            CLRIndia_10SNPs.write(f\"{CLRIndia['10'][i]}\\t{CLRIndia['Position'][i]}\\t{CLRIndia['Likelihood'][i]}\\t{CLRIndia['Alpha'][i]}\\n\")"
   ]
  },
  {
   "cell_type": "code",
   "execution_count": 21,
   "metadata": {},
   "outputs": [],
   "source": [
    "CLRCaste_10SNPs=open('IndiaResults/Caste/CLR_Caste_200kb_10SNPs.txt','w')\n",
    "for i in range(len(CLRCaste)):\n",
    "    for a in range(len(CLRGreater10SNPs)):\n",
    "        if CLRCaste['Position'][i] == CLRGreater10SNPs[0][a]:\n",
    "            CLRCaste_10SNPs.write(f\"{CLRCaste['10'][i]}\\t{CLRCaste['Position'][i]}\\t{CLRCaste['Likelihood'][i]}\\t{CLRCaste['Alpha'][i]}\\n\")"
   ]
  },
  {
   "cell_type": "code",
   "execution_count": 22,
   "metadata": {},
   "outputs": [],
   "source": [
    "CLRTribe_10SNPs=open('IndiaResults/Tribe/CLR_Tribe_200kb_10SNPs.txt','w')\n",
    "for i in range(len(CLRTribe)):\n",
    "    for a in range(len(CLRGreater10SNPs)):\n",
    "        if CLRTribe['Position'][i] == CLRGreater10SNPs[0][a]:\n",
    "            CLRTribe_10SNPs.write(f\"{CLRTribe['10'][i]}\\t{CLRTribe['Position'][i]}\\t{CLRTribe['Likelihood'][i]}\\t{CLRTribe['Alpha'][i]}\\n\")"
   ]
  },
  {
   "cell_type": "code",
   "execution_count": 23,
   "metadata": {},
   "outputs": [],
   "source": [
    "CLRIndia1kgp_10SNPs=open('IndiaResults/India1kgp/CLR_India1kgp_200kb_10SNPs.txt','w')\n",
    "for i in range(len(CLRIndia1kgp)):\n",
    "    for a in range(len(CLRGreater10SNPs)):\n",
    "        if CLRIndia1kgp['Position'][i] == CLRGreater10SNPs[0][a]:\n",
    "            CLRIndia1kgp_10SNPs.write(f\"{CLRIndia1kgp['10'][i]}\\t{CLRIndia1kgp['Position'][i]}\\t{CLRIndia1kgp['Likelihood'][i]}\\t{CLRIndia1kgp['Alpha'][i]}\\n\")"
   ]
  },
  {
   "cell_type": "code",
   "execution_count": 72,
   "metadata": {},
   "outputs": [],
   "source": [
    "CLRIndia_10SNPs=pd.read_csv('IndiaResults/India/CLR_India_200kb_10SNPs.txt', sep=\"\\t\", header=0)\n",
    "CLRCaste_10SNPs=pd.read_csv('IndiaResults/Caste/CLR_Caste_200kb_10SNPs.txt', sep=\"\\t\", header=0)\n",
    "CLRTribe_10SNPs=pd.read_csv('IndiaResults/Tribe/CLR_Tribe_200kb_10SNPs.txt', sep=\"\\t\", header=0)\n",
    "CLRIndia1kgp_10SNPs=pd.read_csv('IndiaResults/India1kgp/CLR_India1kgp_200kb_10SNPs.txt', sep=\"\\t\", header=0)"
   ]
  },
  {
   "cell_type": "code",
   "execution_count": 15,
   "metadata": {},
   "outputs": [],
   "source": [
    "CLRIndia1kgp_HC=pd.read_csv('CLR_India1kgpHC_200kb_FinalFile.txt',low_memory=False, sep=\"\\t\", header=0)"
   ]
  },
  {
   "cell_type": "markdown",
   "metadata": {},
   "source": [
    "##### GRoSS"
   ]
  },
  {
   "cell_type": "code",
   "execution_count": 44,
   "metadata": {},
   "outputs": [],
   "source": [
    "GRoSSIndia=pd.read_csv('IndiaResults/India/OutputGRoSS_Indians_1KGP_SGDP_QC_Autossomic_maf0.05_Unrelated_IndiaGroup.tsv', sep=\"\\t\", header=0)\n",
    "GRoSSCasteTribe=pd.read_csv('IndiaResults/Caste/GRoSS_Indians_1KGP_SGDP_QC_Autossomic_maf0.05_Unrelated_TribeCasteGroup_Esteban.tsv', sep=\"\\t\", header=0)\n",
    "GRoSSIndiaInputed=pd.read_csv('IndiaResults/Caste/OutputGRoSS_IndiansImputedData_CasteTribeGroup.tsv', sep=\"\\t\", header=0)\n",
    "GRoSSIndia1kgp=pd.read_csv('IndiaResults/India1kgp/OutputGRoSS_Indians_1KGP_SGDP_QC_Autossomic_maf0.05_Unrelated_India1kgpGroup.tsv', sep=\"\\t\", header=0)"
   ]
  },
  {
   "cell_type": "markdown",
   "metadata": {},
   "source": [
    "### Calcule 1%"
   ]
  },
  {
   "cell_type": "markdown",
   "metadata": {},
   "source": [
    "##### PBS"
   ]
  },
  {
   "cell_type": "code",
   "execution_count": 8,
   "metadata": {},
   "outputs": [],
   "source": [
    "umporcento_PBSIndia=len(PBSIndia)/100\n",
    "umporcento_PBSCaste=len(PBSCaste)/100\n",
    "umporcento_PBSTribe=len(PBSTribe)/100\n",
    "umporcento_PBSIndia1kgp=len(PBSIndia1kgp)/100"
   ]
  },
  {
   "cell_type": "code",
   "execution_count": 17,
   "metadata": {},
   "outputs": [],
   "source": [
    "umporcento_PBSIndia1kgp_HC=len(PBSIndia1kgp_HC)/100"
   ]
  },
  {
   "cell_type": "code",
   "execution_count": 9,
   "metadata": {},
   "outputs": [
    {
     "data": {
      "text/plain": [
       "564"
      ]
     },
     "execution_count": 9,
     "metadata": {},
     "output_type": "execute_result"
    }
   ],
   "source": [
    "int(umporcento_PBSIndia)\n",
    "int(umporcento_PBSCaste)\n",
    "int(umporcento_PBSTribe)\n",
    "int(umporcento_PBSIndia1kgp)"
   ]
  },
  {
   "cell_type": "code",
   "execution_count": 18,
   "metadata": {},
   "outputs": [
    {
     "data": {
      "text/plain": [
       "13350"
      ]
     },
     "execution_count": 18,
     "metadata": {},
     "output_type": "execute_result"
    }
   ],
   "source": [
    "int(umporcento_PBSIndia1kgp_HC)"
   ]
  },
  {
   "cell_type": "markdown",
   "metadata": {},
   "source": [
    "##### xpEHH"
   ]
  },
  {
   "cell_type": "code",
   "execution_count": 12,
   "metadata": {},
   "outputs": [],
   "source": [
    "umporcento_xpEHHIndia=len(xpEHHIndia)/100\n",
    "umporcento_xpEHHCaste=len(xpEHHCaste)/100\n",
    "umporcento_xpEHHTribe=len(xpEHHTribe)/100\n",
    "umporcento_xpEHHIndia1kgp=len(xpEHHIndia1kgp)/100"
   ]
  },
  {
   "cell_type": "code",
   "execution_count": 13,
   "metadata": {},
   "outputs": [
    {
     "data": {
      "text/plain": [
       "2761"
      ]
     },
     "execution_count": 13,
     "metadata": {},
     "output_type": "execute_result"
    }
   ],
   "source": [
    "int(umporcento_xpEHHIndia)\n",
    "int(umporcento_xpEHHCaste)\n",
    "int(umporcento_xpEHHTribe)\n",
    "int(umporcento_xpEHHIndia1kgp)"
   ]
  },
  {
   "cell_type": "markdown",
   "metadata": {},
   "source": [
    "##### iHS"
   ]
  },
  {
   "cell_type": "code",
   "execution_count": 12,
   "metadata": {},
   "outputs": [],
   "source": [
    "umporcento_iHSIndia=len(iHSIndia)/100\n",
    "umporcento_iHSCaste=len(iHSCaste)/100\n",
    "umporcento_iHSTribe=len(iHSTribe)/100\n",
    "umporcento_iHSIndia1kgp=len(iHSIndia1kgp)/100"
   ]
  },
  {
   "cell_type": "code",
   "execution_count": 13,
   "metadata": {},
   "outputs": [
    {
     "data": {
      "text/plain": [
       "2476"
      ]
     },
     "execution_count": 13,
     "metadata": {},
     "output_type": "execute_result"
    }
   ],
   "source": [
    "int(umporcento_iHSIndia)\n",
    "int(umporcento_iHSCaste)\n",
    "int(umporcento_iHSTribe)\n",
    "int(umporcento_iHSIndia1kgp)"
   ]
  },
  {
   "cell_type": "markdown",
   "metadata": {},
   "source": [
    "##### Tajima's D"
   ]
  },
  {
   "cell_type": "code",
   "execution_count": 4,
   "metadata": {},
   "outputs": [],
   "source": [
    "umporcento_TajimasDIndia_100kb=len(TajimasDIndia_100kb)/100\n",
    "umporcento_TajimasDCaste_100kb=len(TajimasDCaste_100kb)/100\n",
    "umporcento_TajimasDTribe_100kb=len(TajimasDTribe_100kb)/100\n",
    "umporcento_TajimasDIndia1kgp_100kb=len(TajimasDIndia1kgp_100kb)/100"
   ]
  },
  {
   "cell_type": "code",
   "execution_count": 3,
   "metadata": {},
   "outputs": [],
   "source": [
    "umporcento_TajimasDIndia1kgpHC_100kb=len(TajimaDIndia1kgp_HC)/100"
   ]
  },
  {
   "cell_type": "code",
   "execution_count": 5,
   "metadata": {},
   "outputs": [
    {
     "data": {
      "text/plain": [
       "279"
      ]
     },
     "execution_count": 5,
     "metadata": {},
     "output_type": "execute_result"
    }
   ],
   "source": [
    "int(umporcento_TajimasDIndia_100kb)\n",
    "int(umporcento_TajimasDCaste_100kb)\n",
    "int(umporcento_TajimasDTribe_100kb)\n",
    "int(umporcento_TajimasDIndia1kgp_100kb)"
   ]
  },
  {
   "cell_type": "code",
   "execution_count": 4,
   "metadata": {},
   "outputs": [
    {
     "data": {
      "text/plain": [
       "299"
      ]
     },
     "execution_count": 4,
     "metadata": {},
     "output_type": "execute_result"
    }
   ],
   "source": [
    "int(umporcento_TajimasDIndia1kgpHC_100kb)"
   ]
  },
  {
   "cell_type": "markdown",
   "metadata": {},
   "source": [
    "##### CLR"
   ]
  },
  {
   "cell_type": "code",
   "execution_count": 74,
   "metadata": {},
   "outputs": [],
   "source": [
    "umporcento_CLRIndia=len(CLRIndia_10SNPs)/100\n",
    "umporcento_CLRCaste=len(CLRCaste_10SNPs)/100\n",
    "umporcento_CLRTribe=len(CLRTribe_10SNPs)/100\n",
    "umporcento_CLRIndia1kgp=len(CLRIndia1kgp_10SNPs)/100"
   ]
  },
  {
   "cell_type": "code",
   "execution_count": 3,
   "metadata": {},
   "outputs": [],
   "source": [
    "umporcento_CLRIndia1kgpHC_10SNPs=len(CLRIndia1kgp_HC)/100"
   ]
  },
  {
   "cell_type": "code",
   "execution_count": 38,
   "metadata": {},
   "outputs": [
    {
     "data": {
      "text/plain": [
       "107"
      ]
     },
     "execution_count": 38,
     "metadata": {},
     "output_type": "execute_result"
    }
   ],
   "source": [
    "int(umporcento_CLRIndia)\n",
    "int(umporcento_CLRCaste)\n",
    "int(umporcento_CLRTribe)\n",
    "int(umporcento_CLRIndia1kgp)"
   ]
  },
  {
   "cell_type": "code",
   "execution_count": 4,
   "metadata": {},
   "outputs": [
    {
     "data": {
      "text/plain": [
       "149"
      ]
     },
     "execution_count": 4,
     "metadata": {},
     "output_type": "execute_result"
    }
   ],
   "source": [
    "int(umporcento_CLRIndia1kgpHC_10SNPs)"
   ]
  },
  {
   "cell_type": "markdown",
   "metadata": {},
   "source": [
    "##### GRoSS"
   ]
  },
  {
   "cell_type": "code",
   "execution_count": 18,
   "metadata": {},
   "outputs": [],
   "source": [
    "umporcento_GRoSSIndia=len(GRoSSIndia)/100\n",
    "umporcento_GRoSSCaste=len(GRoSSCasteTribe)/100\n",
    "umporcento_GRoSSTribe=len(GRoSSCasteTribe)/100\n",
    "umporcento_GRoSSIndiaInputed=len(GRoSSIndiaInputed)/100\n",
    "umporcento_GRoSSIndia1kgp=len(GRoSSIndia1kgp)/100"
   ]
  },
  {
   "cell_type": "code",
   "execution_count": 19,
   "metadata": {},
   "outputs": [
    {
     "data": {
      "text/plain": [
       "2828"
      ]
     },
     "execution_count": 19,
     "metadata": {},
     "output_type": "execute_result"
    }
   ],
   "source": [
    "int(umporcento_GRoSSIndia)\n",
    "int(umporcento_GRoSSCaste)\n",
    "int(umporcento_GRoSSTribe)\n",
    "int(umporcento_GRoSSIndiaInputed)\n",
    "int(umporcento_GRoSSIndia1kgp)"
   ]
  },
  {
   "cell_type": "markdown",
   "metadata": {},
   "source": [
    "## Calcule 0.5%"
   ]
  },
  {
   "cell_type": "markdown",
   "metadata": {},
   "source": [
    "#### PBS"
   ]
  },
  {
   "cell_type": "code",
   "execution_count": 4,
   "metadata": {},
   "outputs": [],
   "source": [
    "zerocincoporcento_PBSIndia=len(PBSIndia)/200\n",
    "zerocincoporcento_PBSCaste=len(PBSCaste)/200\n",
    "zerocincoporcento_PBSTribe=len(PBSTribe)/200\n",
    "zerocincoporcento_PBSIndia1kgp=len(PBSIndia1kgp)/200"
   ]
  },
  {
   "cell_type": "code",
   "execution_count": 19,
   "metadata": {},
   "outputs": [],
   "source": [
    "zerocincoporcento_PBSIndia1kgp_HC=len(PBSIndia1kgp_HC)/200"
   ]
  },
  {
   "cell_type": "code",
   "execution_count": 5,
   "metadata": {},
   "outputs": [
    {
     "data": {
      "text/plain": [
       "282"
      ]
     },
     "execution_count": 5,
     "metadata": {},
     "output_type": "execute_result"
    }
   ],
   "source": [
    "int(zerocincoporcento_PBSIndia)\n",
    "int(zerocincoporcento_PBSCaste)\n",
    "int(zerocincoporcento_PBSTribe)\n",
    "int(zerocincoporcento_PBSIndia1kgp)"
   ]
  },
  {
   "cell_type": "code",
   "execution_count": 20,
   "metadata": {},
   "outputs": [
    {
     "data": {
      "text/plain": [
       "6675"
      ]
     },
     "execution_count": 20,
     "metadata": {},
     "output_type": "execute_result"
    }
   ],
   "source": [
    "int(zerocincoporcento_PBSIndia1kgp_HC)"
   ]
  },
  {
   "cell_type": "markdown",
   "metadata": {},
   "source": [
    "#### xpEHH"
   ]
  },
  {
   "cell_type": "code",
   "execution_count": 14,
   "metadata": {},
   "outputs": [],
   "source": [
    "zerocincoporcento_xpEHHIndia=len(xpEHHIndia)/200\n",
    "zerocincoporcento_xpEHHCaste=len(xpEHHCaste)/200\n",
    "zerocincoporcento_xpEHHTribe=len(xpEHHTribe)/200\n",
    "zerocincoporcento_xpEHHIndia1kgp=len(xpEHHIndia1kgp)/200"
   ]
  },
  {
   "cell_type": "code",
   "execution_count": 15,
   "metadata": {},
   "outputs": [
    {
     "data": {
      "text/plain": [
       "1380"
      ]
     },
     "execution_count": 15,
     "metadata": {},
     "output_type": "execute_result"
    }
   ],
   "source": [
    "int(zerocincoporcento_xpEHHIndia)\n",
    "int(zerocincoporcento_xpEHHCaste)\n",
    "int(zerocincoporcento_xpEHHTribe)\n",
    "int(zerocincoporcento_xpEHHIndia1kgp)"
   ]
  },
  {
   "cell_type": "markdown",
   "metadata": {},
   "source": [
    "#### iHS"
   ]
  },
  {
   "cell_type": "code",
   "execution_count": 16,
   "metadata": {},
   "outputs": [],
   "source": [
    "zerocincoporcento_iHSIndia=len(iHSIndia)/200\n",
    "zerocincoporcento_iHSCaste=len(iHSCaste)/200\n",
    "zerocincoporcento_iHSTribe=len(iHSTribe)/200\n",
    "zerocincoporcento_iHSIndia1kgp=len(iHSIndia1kgp)/200"
   ]
  },
  {
   "cell_type": "code",
   "execution_count": 17,
   "metadata": {},
   "outputs": [
    {
     "data": {
      "text/plain": [
       "1238"
      ]
     },
     "execution_count": 17,
     "metadata": {},
     "output_type": "execute_result"
    }
   ],
   "source": [
    "int(zerocincoporcento_iHSIndia)\n",
    "int(zerocincoporcento_iHSCaste)\n",
    "int(zerocincoporcento_iHSTribe)\n",
    "int(zerocincoporcento_iHSIndia1kgp)"
   ]
  },
  {
   "cell_type": "markdown",
   "metadata": {},
   "source": [
    "#### TajimasD"
   ]
  },
  {
   "cell_type": "code",
   "execution_count": 6,
   "metadata": {},
   "outputs": [],
   "source": [
    "zerocincoporcento_TajimasDIndia_100kb=len(TajimasDIndia_100kb)/200\n",
    "zerocincoporcento_TajimasDCaste_100kb=len(TajimasDCaste_100kb)/200\n",
    "zerocincoporcento_TajimasDTribe_100kb=len(TajimasDTribe_100kb)/200\n",
    "zerocincoporcento_TajimasDIndia1kgp_100kb=len(TajimasDIndia1kgp_100kb)/200"
   ]
  },
  {
   "cell_type": "code",
   "execution_count": 7,
   "metadata": {},
   "outputs": [],
   "source": [
    "zerocincoporcento_TajimasDIndia1kgpHC_100kb=len(TajimaDIndia1kgp_HC)/200"
   ]
  },
  {
   "cell_type": "code",
   "execution_count": 7,
   "metadata": {},
   "outputs": [
    {
     "data": {
      "text/plain": [
       "139"
      ]
     },
     "execution_count": 7,
     "metadata": {},
     "output_type": "execute_result"
    }
   ],
   "source": [
    "int(zerocincoporcento_TajimasDIndia_100kb)\n",
    "int(zerocincoporcento_TajimasDCaste_100kb)\n",
    "int(zerocincoporcento_TajimasDTribe_100kb)\n",
    "int(zerocincoporcento_TajimasDIndia1kgp_100kb)"
   ]
  },
  {
   "cell_type": "code",
   "execution_count": 8,
   "metadata": {},
   "outputs": [
    {
     "data": {
      "text/plain": [
       "149"
      ]
     },
     "execution_count": 8,
     "metadata": {},
     "output_type": "execute_result"
    }
   ],
   "source": [
    "int(zerocincoporcento_TajimasDIndia1kgpHC_100kb)"
   ]
  },
  {
   "cell_type": "markdown",
   "metadata": {},
   "source": [
    "#### CLR"
   ]
  },
  {
   "cell_type": "code",
   "execution_count": 39,
   "metadata": {},
   "outputs": [],
   "source": [
    "zerocincoporcento_CLRIndia=len(CLRIndia_10SNP)/200\n",
    "zerocincoporcento_CLRCaste=len(CLRCaste_10SNP)/200\n",
    "zerocincoporcento_CLRTribe=len(CLRTribe_10SNP)/200\n",
    "zerocincoporcento_CLRIndia1kgp=len(CLRIndia1kgp_10SNP)/200"
   ]
  },
  {
   "cell_type": "code",
   "execution_count": 8,
   "metadata": {},
   "outputs": [],
   "source": [
    "zerocincoporcento_CLRIndia1kgpHC_10SNPs=len(CLRIndia1kgp_HC)/200"
   ]
  },
  {
   "cell_type": "code",
   "execution_count": 40,
   "metadata": {},
   "outputs": [
    {
     "data": {
      "text/plain": [
       "53"
      ]
     },
     "execution_count": 40,
     "metadata": {},
     "output_type": "execute_result"
    }
   ],
   "source": [
    "int(zerocincoporcento_CLRIndia)\n",
    "int(zerocincoporcento_CLRCaste)\n",
    "int(zerocincoporcento_CLRTribe)\n",
    "int(zerocincoporcento_CLRIndia1kgp)"
   ]
  },
  {
   "cell_type": "code",
   "execution_count": 9,
   "metadata": {},
   "outputs": [
    {
     "data": {
      "text/plain": [
       "74"
      ]
     },
     "execution_count": 9,
     "metadata": {},
     "output_type": "execute_result"
    }
   ],
   "source": [
    "int(zerocincoporcento_CLRIndia1kgpHC_10SNPs)"
   ]
  },
  {
   "cell_type": "markdown",
   "metadata": {},
   "source": [
    "#### GRoSS"
   ]
  },
  {
   "cell_type": "code",
   "execution_count": 23,
   "metadata": {},
   "outputs": [],
   "source": [
    "zerocincoporcento_GRoSSIndia=len(GRoSSIndia)/200\n",
    "zerocincoporcento_GRoSSCaste=len(GRoSSCasteTribe)/200\n",
    "zerocincoporcento_GRoSSTribe=len(GRoSSCasteTribe)/200\n",
    "zerocincoporcento_GRoSSIndia1kgp=len(GRoSSIndia1kgp)/200"
   ]
  },
  {
   "cell_type": "code",
   "execution_count": 25,
   "metadata": {},
   "outputs": [
    {
     "data": {
      "text/plain": [
       "1414"
      ]
     },
     "execution_count": 25,
     "metadata": {},
     "output_type": "execute_result"
    }
   ],
   "source": [
    "int(zerocincoporcento_GRoSSIndia)\n",
    "int(zerocincoporcento_GRoSSCaste)\n",
    "int(zerocincoporcento_GRoSSTribe)\n",
    "int(zerocincoporcento_GRoSSIndia1kgp)"
   ]
  },
  {
   "cell_type": "markdown",
   "metadata": {},
   "source": [
    "## Calcule 0.1%"
   ]
  },
  {
   "cell_type": "markdown",
   "metadata": {},
   "source": [
    "##### PBS"
   ]
  },
  {
   "cell_type": "code",
   "execution_count": 21,
   "metadata": {},
   "outputs": [],
   "source": [
    "zeroumporcento_PBSIndia=len(PBSIndia)/1000\n",
    "zeroumporcento_PBSCaste=len(PBSCaste)/1000\n",
    "zeroumporcento_PBSTribe=len(PBSTribe)/1000\n",
    "zeroumporcento_PBSIndia1kgp=len(PBSIndia1kgp)/1000"
   ]
  },
  {
   "cell_type": "code",
   "execution_count": 23,
   "metadata": {},
   "outputs": [],
   "source": [
    "zeroumporcento_PBSIndia1kgp_HC=len(PBSIndia1kgp_HC)/1000"
   ]
  },
  {
   "cell_type": "code",
   "execution_count": 22,
   "metadata": {},
   "outputs": [
    {
     "data": {
      "text/plain": [
       "56"
      ]
     },
     "execution_count": 22,
     "metadata": {},
     "output_type": "execute_result"
    }
   ],
   "source": [
    "int(zeroumporcento_PBSIndia)\n",
    "int(zeroumporcento_PBSCaste)\n",
    "int(zeroumporcento_PBSTribe)\n",
    "int(zeroumporcento_PBSIndia1kgp)"
   ]
  },
  {
   "cell_type": "code",
   "execution_count": 24,
   "metadata": {},
   "outputs": [
    {
     "data": {
      "text/plain": [
       "1335"
      ]
     },
     "execution_count": 24,
     "metadata": {},
     "output_type": "execute_result"
    }
   ],
   "source": [
    "int(zeroumporcento_PBSIndia1kgp_HC)"
   ]
  },
  {
   "cell_type": "markdown",
   "metadata": {},
   "source": [
    "##### xpEHH"
   ]
  },
  {
   "cell_type": "code",
   "execution_count": 23,
   "metadata": {},
   "outputs": [],
   "source": [
    "zeroumporcento_xpEHHIndia=len(xpEHHIndia)/1000\n",
    "zeroumporcento_xpEHHCaste=len(xpEHHCaste)/1000\n",
    "zeroumporcento_xpEHHTribe=len(xpEHHTribe)/1000\n",
    "zeroumporcento_xpEHHIndia1kgp=len(xpEHHIndia1kgp)/1000"
   ]
  },
  {
   "cell_type": "code",
   "execution_count": 24,
   "metadata": {},
   "outputs": [
    {
     "data": {
      "text/plain": [
       "276"
      ]
     },
     "execution_count": 24,
     "metadata": {},
     "output_type": "execute_result"
    }
   ],
   "source": [
    "int(zeroumporcento_xpEHHIndia)\n",
    "int(zeroumporcento_xpEHHCaste)\n",
    "int(zeroumporcento_xpEHHTribe)\n",
    "int(zeroumporcento_xpEHHIndia1kgp)"
   ]
  },
  {
   "cell_type": "markdown",
   "metadata": {},
   "source": [
    "##### iHS"
   ]
  },
  {
   "cell_type": "code",
   "execution_count": 25,
   "metadata": {},
   "outputs": [],
   "source": [
    "zeroumporcento_iHSIndia=len(iHSIndia)/1000\n",
    "zeroumporcento_iHSCaste=len(iHSCaste)/1000\n",
    "zeroumporcento_iHSTribe=len(iHSTribe)/1000\n",
    "zeroumporcento_iHSIndia1kgp=len(iHSIndia1kgp)/1000"
   ]
  },
  {
   "cell_type": "code",
   "execution_count": 26,
   "metadata": {},
   "outputs": [
    {
     "data": {
      "text/plain": [
       "247"
      ]
     },
     "execution_count": 26,
     "metadata": {},
     "output_type": "execute_result"
    }
   ],
   "source": [
    "int(zeroumporcento_iHSIndia)\n",
    "int(zeroumporcento_iHSCaste)\n",
    "int(zeroumporcento_iHSTribe)\n",
    "int(zeroumporcento_iHSIndia1kgp)"
   ]
  },
  {
   "cell_type": "markdown",
   "metadata": {},
   "source": [
    "##### Tajima's D"
   ]
  },
  {
   "cell_type": "code",
   "execution_count": 8,
   "metadata": {},
   "outputs": [],
   "source": [
    "zeroumporcento_TajimasDIndia_100kb=len(TajimasDIndia_100kb)/1000\n",
    "zeroumporcento_TajimasDCaste_100kb=len(TajimasDCaste_100kb)/1000\n",
    "zeroumporcento_TajimasDTribe_100kb=len(TajimasDTribe_100kb)/1000\n",
    "zeroumporcento_TajimasDIndia1kgp_100kb=len(TajimasDIndia1kgp_100kb)/1000"
   ]
  },
  {
   "cell_type": "code",
   "execution_count": 5,
   "metadata": {},
   "outputs": [],
   "source": [
    "zeroumporcento_TajimasDIndia1kgpHC_100kb=len(TajimaDIndia1kgp_HC)/1000"
   ]
  },
  {
   "cell_type": "code",
   "execution_count": 9,
   "metadata": {},
   "outputs": [
    {
     "data": {
      "text/plain": [
       "27"
      ]
     },
     "execution_count": 9,
     "metadata": {},
     "output_type": "execute_result"
    }
   ],
   "source": [
    "int(zeroumporcento_TajimasDIndia_100kb)\n",
    "int(zeroumporcento_TajimasDCaste_100kb)\n",
    "int(zeroumporcento_TajimasDTribe_100kb)\n",
    "int(zeroumporcento_TajimasDIndia1kgp_100kb)"
   ]
  },
  {
   "cell_type": "code",
   "execution_count": 6,
   "metadata": {},
   "outputs": [
    {
     "data": {
      "text/plain": [
       "29"
      ]
     },
     "execution_count": 6,
     "metadata": {},
     "output_type": "execute_result"
    }
   ],
   "source": [
    "int(zeroumporcento_TajimasDIndia1kgpHC_100kb)"
   ]
  },
  {
   "cell_type": "markdown",
   "metadata": {},
   "source": [
    "##### CLR"
   ]
  },
  {
   "cell_type": "code",
   "execution_count": 42,
   "metadata": {},
   "outputs": [],
   "source": [
    "zeroumporcento_CLRIndia=len(CLRIndia_10SNP)/1000\n",
    "zeroumporcento_CLRCaste=len(CLRCaste_10SNP)/1000\n",
    "zeroumporcento_CLRTribe=len(CLRTribe_10SNP)/1000\n",
    "zeroumporcento_CLRIndia1kgp=len(CLRIndia1kgp_10SNP)/1000"
   ]
  },
  {
   "cell_type": "code",
   "execution_count": 10,
   "metadata": {},
   "outputs": [],
   "source": [
    "zeroumporcento_CLRIndia1kgpHC_10SNPs=len(CLRIndia1kgp_HC)/1000"
   ]
  },
  {
   "cell_type": "code",
   "execution_count": 43,
   "metadata": {},
   "outputs": [
    {
     "data": {
      "text/plain": [
       "10"
      ]
     },
     "execution_count": 43,
     "metadata": {},
     "output_type": "execute_result"
    }
   ],
   "source": [
    "int(zeroumporcento_CLRIndia)\n",
    "int(zeroumporcento_CLRCaste)\n",
    "int(zeroumporcento_CLRTribe)\n",
    "int(zeroumporcento_CLRIndia1kgp)"
   ]
  },
  {
   "cell_type": "code",
   "execution_count": 11,
   "metadata": {},
   "outputs": [
    {
     "data": {
      "text/plain": [
       "14"
      ]
     },
     "execution_count": 11,
     "metadata": {},
     "output_type": "execute_result"
    }
   ],
   "source": [
    "int(zeroumporcento_CLRIndia1kgpHC_10SNPs)"
   ]
  },
  {
   "cell_type": "markdown",
   "metadata": {},
   "source": [
    "##### GRoSS"
   ]
  },
  {
   "cell_type": "code",
   "execution_count": 31,
   "metadata": {},
   "outputs": [],
   "source": [
    "zeroumporcento_GRoSSIndia=len(GRoSSIndia)/1000\n",
    "zeroumporcento_GRoSSCaste=len(GRoSSCasteTribe)/1000\n",
    "zeroumporcento_GRoSSTribe=len(GRoSSCasteTribe)/1000\n",
    "zeroumporcento_GRoSSIndiaInputed=len(GRoSSIndiaInputed)/1000\n",
    "zeroumporcento_GRoSSIndia1kgp=len(GRoSSIndia1kgp)/1000"
   ]
  },
  {
   "cell_type": "code",
   "execution_count": 32,
   "metadata": {},
   "outputs": [
    {
     "data": {
      "text/plain": [
       "282"
      ]
     },
     "execution_count": 32,
     "metadata": {},
     "output_type": "execute_result"
    }
   ],
   "source": [
    "int(zeroumporcento_GRoSSIndia)\n",
    "int(zeroumporcento_GRoSSCaste)\n",
    "int(zeroumporcento_GRoSSTribe)\n",
    "int(zeroumporcento_GRoSSIndiaInputed)\n",
    "int(zeroumporcento_GRoSSIndia1kgp)"
   ]
  },
  {
   "cell_type": "markdown",
   "metadata": {},
   "source": [
    "## Select 1% values "
   ]
  },
  {
   "cell_type": "markdown",
   "metadata": {},
   "source": [
    "##### PBS"
   ]
  },
  {
   "cell_type": "code",
   "execution_count": 36,
   "metadata": {},
   "outputs": [],
   "source": [
    "PBSIndia_ordenado=PBSIndia[[\"chr\",\"InitialPosition\",\"FinalPosition\",\"SNPBiggerPBS\",\"BiggerPBSValue\"]].sort_values(ascending=False, by=\"BiggerPBSValue\").drop_duplicates(subset=\"SNPBiggerPBS\")\n",
    "PBSIndia_ordenado[\"chr\"]=list(map(lambda x: f\"chr{x}\",PBSIndia_ordenado[\"chr\"]))\n",
    "GreaterPBSIndia_SNP_Values=PBSIndia_ordenado[0:int(umporcento_PBSIndia)]\n",
    "Input_UCSC_PBSIndia_SNP_Values=PBSIndia_ordenado[0:int(umporcento_PBSIndia)]\n",
    "del Input_UCSC_PBSIndia_SNP_Values[\"BiggerPBSValue\"]\n",
    "del Input_UCSC_PBSIndia_SNP_Values[\"SNPBiggerPBS\"]\n",
    "\n",
    "GreaterPBSIndia_SNP_Values.to_csv(\"IndiaResults/PBS/PBS_India_GreaterOnePercent.txt\",sep=\"\\t\", index=False)\n",
    "Input_UCSC_PBSIndia_SNP_Values.to_csv(\"IndiaResults/PBS/Input_UCSC_PBS_India_GreaterOnePercent.txt\",sep=\"\\t\", index=False, header=None)\n"
   ]
  },
  {
   "cell_type": "code",
   "execution_count": 37,
   "metadata": {},
   "outputs": [],
   "source": [
    "PBSCaste_ordenado=PBSCaste[[\"chr\",\"InitialPosition\",\"FinalPosition\",\"SNPBiggerPBS\",\"BiggerPBSValue\"]].sort_values(ascending=False, by=\"BiggerPBSValue\")\n",
    "PBSCaste_ordenado[\"chr\"]=list(map(lambda x: f\"chr{x}\",PBSCaste_ordenado[\"chr\"]))\n",
    "GreaterPBSCaste_SNP_Values=PBSCaste_ordenado[0:int(umporcento_PBSCaste)]\n",
    "Input_UCSC_PBSCaste_SNP_Values=PBSCaste_ordenado[0:int(umporcento_PBSCaste)]\n",
    "del Input_UCSC_PBSCaste_SNP_Values[\"BiggerPBSValue\"]\n",
    "del Input_UCSC_PBSCaste_SNP_Values[\"SNPBiggerPBS\"]\n",
    "\n",
    "GreaterPBSCaste_SNP_Values.to_csv(\"IndiaResults/PBS/PBS_Caste_GreaterOnePercent.txt\",sep=\"\\t\", index=False)\n",
    "Input_UCSC_PBSCaste_SNP_Values.to_csv(\"IndiaResults/PBS/Input_UCSC_PBS_Caste_GreaterOnePercent.txt\",sep=\"\\t\", index=False, header=None)\n"
   ]
  },
  {
   "cell_type": "code",
   "execution_count": 38,
   "metadata": {},
   "outputs": [],
   "source": [
    "PBSTribe_ordenado=PBSTribe[[\"chr\",\"InitialPosition\",\"FinalPosition\",\"SNPBiggerPBS\",\"BiggerPBSValue\"]].sort_values(ascending=False, by=\"BiggerPBSValue\")\n",
    "PBSTribe_ordenado[\"chr\"]=list(map(lambda x: f\"chr{x}\",PBSTribe_ordenado[\"chr\"]))\n",
    "GreaterPBSTribe_SNP_Values=PBSTribe_ordenado[0:int(umporcento_PBSTribe)]\n",
    "Input_UCSC_PBSTribe_SNP_Values=PBSTribe_ordenado[0:int(umporcento_PBSTribe)]\n",
    "del Input_UCSC_PBSTribe_SNP_Values[\"BiggerPBSValue\"]\n",
    "del Input_UCSC_PBSTribe_SNP_Values[\"SNPBiggerPBS\"]\n",
    "\n",
    "GreaterPBSTribe_SNP_Values.to_csv(\"IndiaResults/PBS/PBS_Tribe_GreaterOnePercent.txt\",sep=\"\\t\", index=False)\n",
    "Input_UCSC_PBSTribe_SNP_Values.to_csv(\"IndiaResults/PBS/Input_UCSC_PBS_Tribe_GreaterOnePercent.txt\",sep=\"\\t\", index=False, header=None)\n"
   ]
  },
  {
   "cell_type": "code",
   "execution_count": 39,
   "metadata": {},
   "outputs": [],
   "source": [
    "PBSIndia1kgp_ordenado=PBSIndia1kgp[[\"chr\",\"InitialPosition\",\"FinalPosition\",\"SNPBiggerPBS\",\"BiggerPBSValue\"]].sort_values(ascending=False, by=\"BiggerPBSValue\")\n",
    "PBSIndia1kgp_ordenado[\"chr\"]=list(map(lambda x: f\"chr{x}\",PBSIndia1kgp_ordenado[\"chr\"]))\n",
    "GreaterPBSIndia1kgp_SNP_Values=PBSIndia1kgp_ordenado[0:int(umporcento_PBSIndia1kgp)]\n",
    "Input_UCSC_PBSIndia1kgp_SNP_Values=PBSIndia1kgp_ordenado[0:int(umporcento_PBSIndia1kgp)]\n",
    "del Input_UCSC_PBSIndia1kgp_SNP_Values[\"BiggerPBSValue\"]\n",
    "del Input_UCSC_PBSIndia1kgp_SNP_Values[\"SNPBiggerPBS\"]\n",
    "\n",
    "GreaterPBSIndia1kgp_SNP_Values.to_csv(\"IndiaResults/PBS/PBS_India1kgp_GreaterOnePercent.txt\",sep=\"\\t\", index=False)\n",
    "Input_UCSC_PBSIndia1kgp_SNP_Values.to_csv(\"IndiaResults/PBS/Input_UCSC_PBS_India1kgp_GreaterOnePercent.txt\",sep=\"\\t\", index=False, header=None)"
   ]
  },
  {
   "cell_type": "code",
   "execution_count": 30,
   "metadata": {},
   "outputs": [],
   "source": [
    "PBSIndia1kgpHC_ordenado=PBSIndia1kgp_HC[[\"chr\",\"InitialPosition\",\"FinalPosition\",\"SNPBiggerPBS\",\"BiggerPBSValue\"]].sort_values(ascending=False, by=\"BiggerPBSValue\")\n",
    "PBSIndia1kgpHC_ordenado[\"chr\"]=list(map(lambda x: f\"chr{x}\",PBSIndia1kgpHC_ordenado[\"chr\"]))\n",
    "GreaterPBSIndia1kgpHC_SNP_Values=PBSIndia1kgpHC_ordenado[0:int(umporcento_PBSIndia1kgp_HC)]\n",
    "Input_UCSC_PBSIndia1kgpHC_SNP_Values=PBSIndia1kgpHC_ordenado[0:int(umporcento_PBSIndia1kgp_HC)]\n",
    "del Input_UCSC_PBSIndia1kgpHC_SNP_Values[\"BiggerPBSValue\"]\n",
    "del Input_UCSC_PBSIndia1kgpHC_SNP_Values[\"SNPBiggerPBS\"]\n",
    "\n",
    "GreaterPBSIndia1kgpHC_SNP_Values.to_csv(\"PBS_India1kgpHC_GreaterOnePercent.txt\",sep=\"\\t\", index=False)\n",
    "Input_UCSC_PBSIndia1kgpHC_SNP_Values.to_csv(\"Input_UCSC_PBS_India1kgpHC_GreaterOnePercent.txt\",sep=\"\\t\", index=False, header=None)"
   ]
  },
  {
   "cell_type": "markdown",
   "metadata": {},
   "source": [
    "##### xpEHH"
   ]
  },
  {
   "cell_type": "code",
   "execution_count": 33,
   "metadata": {},
   "outputs": [],
   "source": [
    "xpEHHIndia_ordenado=xpEHHIndia[[\"chr\",\"pos\",\"normxpehh\"]].sort_values(ascending=False, by=\"normxpehh\").reset_index()\n",
    "xpEHHIndia_ordenado[\"chr\"]=list(map(lambda x: f\"chr{x}\",xpEHHIndia_ordenado[\"chr\"]))\n",
    "GreaterxpEHHIndia_CHR_POS_Values=xpEHHIndia_ordenado[0:int(umporcento_xpEHHIndia)]\n",
    "del GreaterxpEHHIndia_CHR_POS_Values[\"normxpehh\"]\n",
    "\n",
    "\n",
    "File_Input_UCSC_xpEHHIndia_1=open(\"IndiaResults/xpEHH/Input_UCSC_xpEHH_India_1_200kb.txt\", \"w\")\n",
    "\n",
    "for i in range(len(GreaterxpEHHIndia_CHR_POS_Values)):\n",
    "    File_Input_UCSC_xpEHHIndia_1.write(f\"{GreaterxpEHHIndia_CHR_POS_Values['chr'][i]}\\t{GreaterxpEHHIndia_CHR_POS_Values['pos'][i]-100000}\\t{GreaterxpEHHIndia_CHR_POS_Values['pos'][i]+100000}\\n\")\n",
    "\n",
    "File_Input_UCSC_xpEHHIndia_1.close()"
   ]
  },
  {
   "cell_type": "code",
   "execution_count": 34,
   "metadata": {},
   "outputs": [],
   "source": [
    "xpEHHCaste_ordenado=xpEHHCaste[[\"chr\",\"pos\",\"normxpehh\"]].sort_values(ascending=False, by=\"normxpehh\").reset_index()\n",
    "xpEHHCaste_ordenado[\"chr\"]=list(map(lambda x: f\"chr{x}\",xpEHHCaste_ordenado[\"chr\"]))\n",
    "GreaterxpEHHCaste_CHR_POS_Values=xpEHHCaste_ordenado[0:int(umporcento_xpEHHCaste)]\n",
    "del GreaterxpEHHCaste_CHR_POS_Values[\"normxpehh\"]\n",
    "\n",
    "\n",
    "File_Input_UCSC_xpEHHCaste_1=open(\"IndiaResults/xpEHH/Input_UCSC_xpEHH_Caste_1_200kb.txt\", \"w\")\n",
    "\n",
    "for i in range(len(GreaterxpEHHCaste_CHR_POS_Values)):\n",
    "    File_Input_UCSC_xpEHHCaste_1.write(f\"{GreaterxpEHHCaste_CHR_POS_Values['chr'][i]}\\t{GreaterxpEHHCaste_CHR_POS_Values['pos'][i]-100000}\\t{GreaterxpEHHCaste_CHR_POS_Values['pos'][i]+100000}\\n\")\n",
    "\n",
    "File_Input_UCSC_xpEHHCaste_1.close()"
   ]
  },
  {
   "cell_type": "code",
   "execution_count": 35,
   "metadata": {},
   "outputs": [],
   "source": [
    "xpEHHTribe_ordenado=xpEHHTribe[[\"chr\",\"pos\",\"normxpehh\"]].sort_values(ascending=False, by=\"normxpehh\").reset_index()\n",
    "xpEHHTribe_ordenado[\"chr\"]=list(map(lambda x: f\"chr{x}\",xpEHHTribe_ordenado[\"chr\"]))\n",
    "GreaterxpEHHTribe_CHR_POS_Values=xpEHHTribe_ordenado[0:int(umporcento_xpEHHTribe)]\n",
    "del GreaterxpEHHTribe_CHR_POS_Values[\"normxpehh\"]\n",
    "\n",
    "\n",
    "File_Input_UCSC_xpEHHTribe_1=open(\"IndiaResults/xpEHH/Input_UCSC_xpEHH_Tribe_1_200kb.txt\", \"w\")\n",
    "\n",
    "for i in range(len(GreaterxpEHHTribe_CHR_POS_Values)):\n",
    "    File_Input_UCSC_xpEHHTribe_1.write(f\"{GreaterxpEHHTribe_CHR_POS_Values['chr'][i]}\\t{GreaterxpEHHTribe_CHR_POS_Values['pos'][i]-100000}\\t{GreaterxpEHHTribe_CHR_POS_Values['pos'][i]+100000}\\n\")\n",
    "\n",
    "File_Input_UCSC_xpEHHTribe_1.close()"
   ]
  },
  {
   "cell_type": "code",
   "execution_count": 36,
   "metadata": {},
   "outputs": [],
   "source": [
    "xpEHHIndia1kgp_ordenado=xpEHHIndia1kgp[[\"chr\",\"pos\",\"normxpehh\"]].sort_values(ascending=False, by=\"normxpehh\").reset_index()\n",
    "xpEHHIndia1kgp_ordenado[\"chr\"]=list(map(lambda x: f\"chr{x}\",xpEHHIndia1kgp_ordenado[\"chr\"]))\n",
    "GreaterxpEHHIndia1kgp_CHR_POS_Values=xpEHHIndia1kgp_ordenado[0:int(umporcento_xpEHHIndia1kgp)]\n",
    "del GreaterxpEHHIndia1kgp_CHR_POS_Values[\"normxpehh\"]\n",
    "\n",
    "\n",
    "File_Input_UCSC_xpEHHIndia1kgp_1=open(\"IndiaResults/xpEHH/Input_UCSC_xpEHH_India1kgp_1_200kb.txt\", \"w\")\n",
    "\n",
    "for i in range(len(GreaterxpEHHIndia1kgp_CHR_POS_Values)):\n",
    "    File_Input_UCSC_xpEHHIndia1kgp_1.write(f\"{GreaterxpEHHIndia1kgp_CHR_POS_Values['chr'][i]}\\t{GreaterxpEHHIndia1kgp_CHR_POS_Values['pos'][i]-100000}\\t{GreaterxpEHHIndia1kgp_CHR_POS_Values['pos'][i]+100000}\\n\")\n",
    "\n",
    "File_Input_UCSC_xpEHHIndia1kgp_1.close()"
   ]
  },
  {
   "cell_type": "markdown",
   "metadata": {},
   "source": [
    "##### iHS"
   ]
  },
  {
   "cell_type": "code",
   "execution_count": 25,
   "metadata": {},
   "outputs": [],
   "source": [
    "iHSIndia_ordenado=iHSIndia[[\"chr\",\"pos\",\"normIHS\"]].sort_values(ascending=False, by=\"normIHS\").reset_index()\n",
    "iHSIndia_ordenado[\"chr\"]=list(map(lambda x: f\"chr{x}\",iHSIndia_ordenado[\"chr\"]))\n",
    "GreateriHSIndia_CHR_POS_Values=iHSIndia_ordenado[0:int(umporcento_iHSIndia)]\n",
    "del GreateriHSIndia_CHR_POS_Values[\"normIHS\"]\n",
    "\n",
    "\n",
    "File_Input_UCSC_iHSIndia_1=open(\"IndiaResults/iHS/Input_UCSC_iHS_India_1_200kb.txt\", \"w\")\n",
    "\n",
    "for i in range(len(GreateriHSIndia_CHR_POS_Values)):\n",
    "    File_Input_UCSC_iHSIndia_1.write(f\"{GreateriHSIndia_CHR_POS_Values['chr'][i]}\\t{GreateriHSIndia_CHR_POS_Values['pos'][i]-100000}\\t{GreateriHSIndia_CHR_POS_Values['pos'][i]+100000}\\n\")\n",
    "\n",
    "File_Input_UCSC_iHSIndia_1.close()"
   ]
  },
  {
   "cell_type": "code",
   "execution_count": 26,
   "metadata": {},
   "outputs": [],
   "source": [
    "iHSCaste_ordenado=iHSCaste[[\"chr\",\"pos\",\"normIHS\"]].sort_values(ascending=False, by=\"normIHS\").reset_index()\n",
    "iHSCaste_ordenado[\"chr\"]=list(map(lambda x: f\"chr{x}\",iHSCaste_ordenado[\"chr\"]))\n",
    "GreateriHSCaste_CHR_POS_Values=iHSCaste_ordenado[0:int(umporcento_iHSCaste)]\n",
    "del GreateriHSCaste_CHR_POS_Values[\"normIHS\"]\n",
    "\n",
    "\n",
    "File_Input_UCSC_iHSCaste_1=open(\"IndiaResults/iHS/Input_UCSC_iHS_Caste_1_200kb.txt\", \"w\")\n",
    "\n",
    "for i in range(len(GreateriHSCaste_CHR_POS_Values)):\n",
    "    File_Input_UCSC_iHSCaste_1.write(f\"{GreateriHSCaste_CHR_POS_Values['chr'][i]}\\t{GreateriHSCaste_CHR_POS_Values['pos'][i]-100000}\\t{GreateriHSCaste_CHR_POS_Values['pos'][i]+100000}\\n\")\n",
    "\n",
    "File_Input_UCSC_iHSCaste_1.close()"
   ]
  },
  {
   "cell_type": "code",
   "execution_count": 27,
   "metadata": {},
   "outputs": [],
   "source": [
    "iHSTribe_ordenado=iHSTribe[[\"chr\",\"pos\",\"normIHS\"]].sort_values(ascending=False, by=\"normIHS\").reset_index()\n",
    "iHSTribe_ordenado[\"chr\"]=list(map(lambda x: f\"chr{x}\",iHSTribe_ordenado[\"chr\"]))\n",
    "GreateriHSTribe_CHR_POS_Values=iHSTribe_ordenado[0:int(umporcento_iHSTribe)]\n",
    "del GreateriHSTribe_CHR_POS_Values[\"normIHS\"]\n",
    "\n",
    "\n",
    "File_Input_UCSC_iHSTribe_1=open(\"IndiaResults/iHS/Input_UCSC_iHS_Tribe_1_200kb.txt\", \"w\")\n",
    "\n",
    "for i in range(len(GreateriHSTribe_CHR_POS_Values)):\n",
    "    File_Input_UCSC_iHSTribe_1.write(f\"{GreateriHSTribe_CHR_POS_Values['chr'][i]}\\t{GreateriHSTribe_CHR_POS_Values['pos'][i]-100000}\\t{GreateriHSTribe_CHR_POS_Values['pos'][i]+100000}\\n\")\n",
    "\n",
    "File_Input_UCSC_iHSTribe_1.close()"
   ]
  },
  {
   "cell_type": "code",
   "execution_count": 29,
   "metadata": {},
   "outputs": [],
   "source": [
    "iHSIndia1kgp_ordenado=iHSIndia1kgp[[\"chr\",\"pos\",\"normIHS\"]].sort_values(ascending=False, by=\"normIHS\").reset_index()\n",
    "iHSIndia1kgp_ordenado[\"chr\"]=list(map(lambda x: f\"chr{x}\",iHSIndia1kgp_ordenado[\"chr\"]))\n",
    "GreateriHSIndia1kgp_CHR_POS_Values=iHSIndia1kgp_ordenado[0:int(umporcento_iHSIndia1kgp)]\n",
    "del GreateriHSIndia1kgp_CHR_POS_Values[\"normIHS\"]\n",
    "\n",
    "\n",
    "File_Input_UCSC_iHSIndia1kgp_1=open(\"IndiaResults/iHS/Input_UCSC_iHS_India1kgp_1_200kb.txt\", \"w\")\n",
    "\n",
    "for i in range(len(GreateriHSIndia1kgp_CHR_POS_Values)):\n",
    "    File_Input_UCSC_iHSIndia1kgp_1.write(f\"{GreateriHSIndia1kgp_CHR_POS_Values['chr'][i]}\\t{GreateriHSIndia1kgp_CHR_POS_Values['pos'][i]-100000}\\t{GreateriHSIndia1kgp_CHR_POS_Values['pos'][i]+100000}\\n\")\n",
    "\n",
    "File_Input_UCSC_iHSIndia1kgp_1.close()"
   ]
  },
  {
   "cell_type": "markdown",
   "metadata": {},
   "source": [
    "##### TajimasD"
   ]
  },
  {
   "cell_type": "code",
   "execution_count": 10,
   "metadata": {},
   "outputs": [],
   "source": [
    "TajimasDIndia_ordenado_100kb=TajimasDIndia_100kb[[\"CHROM\",\"BIN_START\",\"TajimaD\"]].sort_values(ascending=True, by=\"TajimaD\").reset_index()\n",
    "TajimasDIndia_ordenado_100kb[\"CHROM\"]=list(map(lambda x: f\"chr{x}\",TajimasDIndia_ordenado_100kb[\"CHROM\"]))\n",
    "LowestTajimasDIndia_CHR_POS_Values_100kb=TajimasDIndia_ordenado_100kb[0:int(umporcento_TajimasDIndia_100kb)]\n",
    "del LowestTajimasDIndia_CHR_POS_Values_100kb[\"TajimaD\"]\n",
    "\n",
    "\n",
    "File_Input_UCSC_TajimasDIndia_1_100kb=open(\"IndiaResults/TajimasD/Input_UCSC_TajimasD_India_1_100kb.txt\", \"w\")\n",
    "\n",
    "for i in range(len(LowestTajimasDIndia_CHR_POS_Values_100kb)):\n",
    "    File_Input_UCSC_TajimasDIndia_1_100kb.write(f\"{LowestTajimasDIndia_CHR_POS_Values_100kb['CHROM'][i]}\\t{LowestTajimasDIndia_CHR_POS_Values_100kb['BIN_START'][i]}\\t{LowestTajimasDIndia_CHR_POS_Values_100kb['BIN_START'][i]+100000}\\n\")\n",
    "\n",
    "File_Input_UCSC_TajimasDIndia_1_100kb.close()"
   ]
  },
  {
   "cell_type": "code",
   "execution_count": 11,
   "metadata": {},
   "outputs": [],
   "source": [
    "TajimasDCaste_ordenado_100kb=TajimasDCaste_100kb[[\"CHROM\",\"BIN_START\",\"TajimaD\"]].sort_values(ascending=True, by=\"TajimaD\").reset_index()\n",
    "TajimasDCaste_ordenado_100kb[\"CHROM\"]=list(map(lambda x: f\"chr{x}\",TajimasDCaste_ordenado_100kb[\"CHROM\"]))\n",
    "LowestTajimasDCaste_CHR_POS_Values_100kb=TajimasDCaste_ordenado_100kb[0:int(umporcento_TajimasDCaste_100kb)]\n",
    "del LowestTajimasDCaste_CHR_POS_Values_100kb[\"TajimaD\"]\n",
    "\n",
    "\n",
    "File_Input_UCSC_TajimasDCaste_1_100kb=open(\"IndiaResults/TajimasD/Input_UCSC_TajimasD_Caste_1_100kb.txt\", \"w\")\n",
    "\n",
    "for i in range(len(LowestTajimasDCaste_CHR_POS_Values_100kb)):\n",
    "    File_Input_UCSC_TajimasDCaste_1_100kb.write(f\"{LowestTajimasDCaste_CHR_POS_Values_100kb['CHROM'][i]}\\t{LowestTajimasDCaste_CHR_POS_Values_100kb['BIN_START'][i]}\\t{LowestTajimasDCaste_CHR_POS_Values_100kb['BIN_START'][i]+100000}\\n\")\n",
    "\n",
    "File_Input_UCSC_TajimasDCaste_1_100kb.close()"
   ]
  },
  {
   "cell_type": "code",
   "execution_count": 14,
   "metadata": {},
   "outputs": [],
   "source": [
    "TajimasDTribe_ordenado_100kb=TajimasDTribe_100kb[[\"CHROM\",\"BIN_START\",\"TajimaD\"]].sort_values(ascending=True, by=\"TajimaD\").reset_index()\n",
    "TajimasDTribe_ordenado_100kb[\"CHROM\"]=list(map(lambda x: f\"chr{x}\",TajimasDTribe_ordenado_100kb[\"CHROM\"]))\n",
    "LowestTajimasDTribe_CHR_POS_Values_100kb=TajimasDTribe_ordenado_100kb[0:int(umporcento_TajimasDTribe_100kb)]\n",
    "del LowestTajimasDTribe_CHR_POS_Values_100kb[\"TajimaD\"]\n",
    "\n",
    "\n",
    "File_Input_UCSC_TajimasDTribe_1_100kb=open(\"IndiaResults/TajimasD/Input_UCSC_TajimasD_Tribe_1_100kb.txt\", \"w\")\n",
    "\n",
    "for i in range(len(LowestTajimasDTribe_CHR_POS_Values_100kb)):\n",
    "    File_Input_UCSC_TajimasDTribe_1_100kb.write(f\"{LowestTajimasDTribe_CHR_POS_Values_100kb['CHROM'][i]}\\t{LowestTajimasDTribe_CHR_POS_Values_100kb['BIN_START'][i]}\\t{LowestTajimasDTribe_CHR_POS_Values_100kb['BIN_START'][i]+100000}\\n\")\n",
    "\n",
    "File_Input_UCSC_TajimasDTribe_1_100kb.close()"
   ]
  },
  {
   "cell_type": "code",
   "execution_count": 12,
   "metadata": {},
   "outputs": [
    {
     "ename": "NameError",
     "evalue": "name 'TajimasDIndia1kgpHC_100kb' is not defined",
     "output_type": "error",
     "traceback": [
      "\u001b[1;31m---------------------------------------------------------------------------\u001b[0m",
      "\u001b[1;31mNameError\u001b[0m                                 Traceback (most recent call last)",
      "\u001b[1;32m~\\AppData\\Local\\Temp/ipykernel_8420/1481459102.py\u001b[0m in \u001b[0;36m<module>\u001b[1;34m\u001b[0m\n\u001b[1;32m----> 1\u001b[1;33m \u001b[0mTajimasDIndia1kgp_ordenado_100kb\u001b[0m\u001b[1;33m=\u001b[0m\u001b[0mTajimasDIndia1kgpHC_100kb\u001b[0m\u001b[1;33m[\u001b[0m\u001b[1;33m[\u001b[0m\u001b[1;34m\"CHROM\"\u001b[0m\u001b[1;33m,\u001b[0m\u001b[1;34m\"BIN_START\"\u001b[0m\u001b[1;33m,\u001b[0m\u001b[1;34m\"TajimaD\"\u001b[0m\u001b[1;33m]\u001b[0m\u001b[1;33m]\u001b[0m\u001b[1;33m.\u001b[0m\u001b[0msort_values\u001b[0m\u001b[1;33m(\u001b[0m\u001b[0mascending\u001b[0m\u001b[1;33m=\u001b[0m\u001b[1;32mTrue\u001b[0m\u001b[1;33m,\u001b[0m \u001b[0mby\u001b[0m\u001b[1;33m=\u001b[0m\u001b[1;34m\"TajimaD\"\u001b[0m\u001b[1;33m)\u001b[0m\u001b[1;33m.\u001b[0m\u001b[0mreset_index\u001b[0m\u001b[1;33m(\u001b[0m\u001b[1;33m)\u001b[0m\u001b[1;33m\u001b[0m\u001b[1;33m\u001b[0m\u001b[0m\n\u001b[0m\u001b[0;32m      2\u001b[0m \u001b[0mTajimasDIndia1kgp_ordenado_100kb\u001b[0m\u001b[1;33m[\u001b[0m\u001b[1;34m\"CHROM\"\u001b[0m\u001b[1;33m]\u001b[0m\u001b[1;33m=\u001b[0m\u001b[0mlist\u001b[0m\u001b[1;33m(\u001b[0m\u001b[0mmap\u001b[0m\u001b[1;33m(\u001b[0m\u001b[1;32mlambda\u001b[0m \u001b[0mx\u001b[0m\u001b[1;33m:\u001b[0m \u001b[1;34mf\"chr{x}\"\u001b[0m\u001b[1;33m,\u001b[0m\u001b[0mTajimasDIndia1kgp_ordenado_100kb\u001b[0m\u001b[1;33m[\u001b[0m\u001b[1;34m\"CHROM\"\u001b[0m\u001b[1;33m]\u001b[0m\u001b[1;33m)\u001b[0m\u001b[1;33m)\u001b[0m\u001b[1;33m\u001b[0m\u001b[1;33m\u001b[0m\u001b[0m\n\u001b[0;32m      3\u001b[0m \u001b[0mLowestTajimasDIndia1kgp_CHR_POS_Values_100kb\u001b[0m\u001b[1;33m=\u001b[0m\u001b[0mTajimasDIndia1kgp_ordenado_100kb\u001b[0m\u001b[1;33m[\u001b[0m\u001b[1;36m0\u001b[0m\u001b[1;33m:\u001b[0m\u001b[0mint\u001b[0m\u001b[1;33m(\u001b[0m\u001b[0mumporcento_TajimasDIndia1kgp_100kb\u001b[0m\u001b[1;33m)\u001b[0m\u001b[1;33m]\u001b[0m\u001b[1;33m\u001b[0m\u001b[1;33m\u001b[0m\u001b[0m\n\u001b[0;32m      4\u001b[0m \u001b[1;32mdel\u001b[0m \u001b[0mLowestTajimasDIndia1kgp_CHR_POS_Values_100kb\u001b[0m\u001b[1;33m[\u001b[0m\u001b[1;34m\"TajimaD\"\u001b[0m\u001b[1;33m]\u001b[0m\u001b[1;33m\u001b[0m\u001b[1;33m\u001b[0m\u001b[0m\n\u001b[0;32m      5\u001b[0m \u001b[1;33m\u001b[0m\u001b[0m\n",
      "\u001b[1;31mNameError\u001b[0m: name 'TajimasDIndia1kgpHC_100kb' is not defined"
     ]
    }
   ],
   "source": [
    "TajimasDIndia1kgp_ordenado_100kb=TajimasDIndia1kgp_100kb[[\"CHROM\",\"BIN_START\",\"TajimaD\"]].sort_values(ascending=True, by=\"TajimaD\").reset_index()\n",
    "TajimasDIndia1kgp_ordenado_100kb[\"CHROM\"]=list(map(lambda x: f\"chr{x}\",TajimasDIndia1kgp_ordenado_100kb[\"CHROM\"]))\n",
    "LowestTajimasDIndia1kgp_CHR_POS_Values_100kb=TajimasDIndia1kgp_ordenado_100kb[0:int(umporcento_TajimasDIndia1kgp_100kb)]\n",
    "del LowestTajimasDIndia1kgp_CHR_POS_Values_100kb[\"TajimaD\"]\n",
    "\n",
    "\n",
    "File_Input_UCSC_TajimasDIndia1kgp_1_100kb=open(\"IndiaResults/TajimasD/Input_UCSC_TajimasD_India1kgp_1_100kb.txt\", \"w\")\n",
    "\n",
    "for i in range(len(LowestTajimasDIndia1kgp_CHR_POS_Values_100kb)):\n",
    "    File_Input_UCSC_TajimasDIndia1kgp_1_100kb.write(f\"{LowestTajimasDIndia1kgp_CHR_POS_Values_100kb['CHROM'][i]}\\t{LowestTajimasDIndia1kgp_CHR_POS_Values_100kb['BIN_START'][i]}\\t{LowestTajimasDIndia1kgp_CHR_POS_Values_100kb['BIN_START'][i]+100000}\\n\")\n",
    "\n",
    "File_Input_UCSC_TajimasDIndia1kgp_1_100kb.close()"
   ]
  },
  {
   "cell_type": "code",
   "execution_count": 9,
   "metadata": {},
   "outputs": [],
   "source": [
    "TajimasDIndia1kgpHC_ordenado_100kb=TajimaDIndia1kgp_HC[[\"CHROM\",\"BIN_START\",\"TajimaD\"]].sort_values(ascending=True, by=\"TajimaD\").reset_index()\n",
    "TajimasDIndia1kgpHC_ordenado_100kb[\"CHROM\"]=list(map(lambda x: f\"chr{x}\",TajimasDIndia1kgpHC_ordenado_100kb[\"CHROM\"]))\n",
    "LowestTajimasDIndia1kgpHC_CHR_POS_Values_100kb=TajimasDIndia1kgpHC_ordenado_100kb[0:int(umporcento_TajimasDIndia1kgpHC_100kb)]\n",
    "del LowestTajimasDIndia1kgpHC_CHR_POS_Values_100kb[\"TajimaD\"]\n",
    "\n",
    "\n",
    "File_Input_UCSC_TajimasDIndia1kgpHC_1_100kb=open(\"Input_UCSC_TajimasD_India1kgpHC_1_100kb.txt\", \"w\")\n",
    "\n",
    "for i in range(len(LowestTajimasDIndia1kgpHC_CHR_POS_Values_100kb)):\n",
    "    File_Input_UCSC_TajimasDIndia1kgpHC_1_100kb.write(f\"{LowestTajimasDIndia1kgpHC_CHR_POS_Values_100kb['CHROM'][i]}\\t{LowestTajimasDIndia1kgpHC_CHR_POS_Values_100kb['BIN_START'][i]}\\t{LowestTajimasDIndia1kgpHC_CHR_POS_Values_100kb['BIN_START'][i]+100000}\\n\")\n",
    "\n",
    "File_Input_UCSC_TajimasDIndia1kgpHC_1_100kb.close()"
   ]
  },
  {
   "cell_type": "markdown",
   "metadata": {},
   "source": [
    "##### CLR"
   ]
  },
  {
   "cell_type": "code",
   "execution_count": 66,
   "metadata": {},
   "outputs": [],
   "source": [
    "CLRIndia_ordenado=CLRIndia_10SNPs[[\"chr\",\"Position\",\"Likelihood\"]].sort_values(ascending=False, by=\"Likelihood\").reset_index()\n",
    "CLRIndia_ordenado[\"chr\"]=list(map(lambda x: f\"chr{x}\",CLRIndia_ordenado[\"chr\"]))\n",
    "GreaterCLRIndia_CHR_POS_Values=CLRIndia_ordenado[0:int(umporcento_CLRIndia)]\n",
    "del GreaterCLRIndia_CHR_POS_Values[\"Likelihood\"]\n",
    "\n",
    "\n",
    "File_Input_UCSC_CLRIndia_1=open(\"IndiaResults/CLR/Input_UCSC_CLR_India_1_200kb_10SNPs.txt\", \"w\")\n",
    "\n",
    "for i in range(len(GreaterCLRIndia_CHR_POS_Values)):\n",
    "    File_Input_UCSC_CLRIndia_1.write(f\"{GreaterCLRIndia_CHR_POS_Values['chr'][i]}\\t{GreaterCLRIndia_CHR_POS_Values['Position'][i]}\\t{GreaterCLRIndia_CHR_POS_Values['Position'][i]+200000}\\n\")\n",
    "\n",
    "File_Input_UCSC_CLRIndia_1.close()"
   ]
  },
  {
   "cell_type": "code",
   "execution_count": 62,
   "metadata": {},
   "outputs": [],
   "source": [
    "CLRCaste_ordenado=CLRCaste_10SNPs[[\"chr\",\"Position\",\"Likelihood\"]].sort_values(ascending=False, by=\"Likelihood\").reset_index()\n",
    "CLRCaste_ordenado[\"chr\"]=list(map(lambda x: f\"chr{x}\",CLRCaste_ordenado[\"chr\"]))\n",
    "GreaterCLRCaste_CHR_POS_Values=CLRCaste_ordenado[0:int(umporcento_CLRCaste)]\n",
    "del GreaterCLRCaste_CHR_POS_Values[\"Likelihood\"]\n",
    "\n",
    "\n",
    "File_Input_UCSC_CLRCaste_1=open(\"IndiaResults/CLR/Input_UCSC_CLR_Caste_1_200kb_10SNPs.txt\", \"w\")\n",
    "\n",
    "for i in range(len(GreaterCLRCaste_CHR_POS_Values)):\n",
    "    File_Input_UCSC_CLRCaste_1.write(f\"{GreaterCLRCaste_CHR_POS_Values['chr'][i]}\\t{GreaterCLRCaste_CHR_POS_Values['Position'][i]}\\t{GreaterCLRCaste_CHR_POS_Values['Position'][i]+200000}\\n\")\n",
    "\n",
    "File_Input_UCSC_CLRCaste_1.close()"
   ]
  },
  {
   "cell_type": "code",
   "execution_count": 63,
   "metadata": {},
   "outputs": [],
   "source": [
    "CLRTribe_ordenado=CLRTribe_10SNPs[[\"chr\",\"Position\",\"Likelihood\"]].sort_values(ascending=False, by=\"Likelihood\").reset_index()\n",
    "CLRTribe_ordenado[\"chr\"]=list(map(lambda x: f\"chr{x}\",CLRTribe_ordenado[\"chr\"]))\n",
    "GreaterCLRTribe_CHR_POS_Values=CLRTribe_ordenado[0:int(umporcento_CLRTribe)]\n",
    "del GreaterCLRTribe_CHR_POS_Values[\"Likelihood\"]\n",
    "\n",
    "\n",
    "File_Input_UCSC_CLRTribe_1=open(\"IndiaResults/CLR/Input_UCSC_CLR_Tribe_1_200kb_10SNPs.txt\", \"w\")\n",
    "\n",
    "for i in range(len(GreaterCLRTribe_CHR_POS_Values)):\n",
    "    File_Input_UCSC_CLRTribe_1.write(f\"{GreaterCLRTribe_CHR_POS_Values['chr'][i]}\\t{GreaterCLRTribe_CHR_POS_Values['Position'][i]}\\t{GreaterCLRTribe_CHR_POS_Values['Position'][i]+200000}\\n\")\n",
    "\n",
    "File_Input_UCSC_CLRTribe_1.close()"
   ]
  },
  {
   "cell_type": "code",
   "execution_count": 64,
   "metadata": {},
   "outputs": [],
   "source": [
    "CLRIndia1kgp_ordenado=CLRIndia1kgp_10SNPs[[\"chr\",\"Position\",\"Likelihood\"]].sort_values(ascending=False, by=\"Likelihood\").reset_index()\n",
    "CLRIndia1kgp_ordenado[\"chr\"]=list(map(lambda x: f\"chr{x}\",CLRIndia1kgp_ordenado[\"chr\"]))\n",
    "GreaterCLRIndia1kgp_CHR_POS_Values=CLRIndia1kgp_ordenado[0:int(umporcento_CLRIndia1kgp)]\n",
    "del GreaterCLRIndia1kgp_CHR_POS_Values[\"Likelihood\"]\n",
    "\n",
    "\n",
    "File_Input_UCSC_CLRIndia1kgp_1=open(\"IndiaResults/CLR/Input_UCSC_CLR_India1kgp_1_200kb_10SNPs.txt\", \"w\")\n",
    "\n",
    "for i in range(len(GreaterCLRIndia1kgp_CHR_POS_Values)):\n",
    "    File_Input_UCSC_CLRIndia1kgp_1.write(f\"{GreaterCLRIndia1kgp_CHR_POS_Values['chr'][i]}\\t{GreaterCLRIndia1kgp_CHR_POS_Values['Position'][i]}\\t{GreaterCLRIndia1kgp_CHR_POS_Values['Position'][i]+200000}\\n\")\n",
    "\n",
    "File_Input_UCSC_CLRIndia1kgp_1.close()"
   ]
  },
  {
   "cell_type": "code",
   "execution_count": 23,
   "metadata": {},
   "outputs": [],
   "source": [
    "CLRIndia1kgpHC_ordenado=CLRIndia1kgp_HC[[\"chr\",\"Position\",\"Likelihood\"]].sort_values(ascending=False, by=\"Likelihood\").reset_index()\n",
    "CLRIndia1kgpHC_ordenado[\"chr\"]=list(map(lambda x: f\"chr{x}\",CLRIndia1kgpHC_ordenado[\"chr\"]))\n",
    "GreaterCLRIndia1kgpHC_CHR_POS_Values=CLRIndia1kgpHC_ordenado[0:int(umporcento_CLRIndia1kgpHC_10SNPs)]\n",
    "del GreaterCLRIndia1kgpHC_CHR_POS_Values[\"Likelihood\"]\n",
    "\n",
    "\n",
    "File_Input_UCSC_CLRIndia1kgpHC_1=open(\"Input_UCSC_CLR_India1kgp_1_200kb_10SNPs.txt\", \"w\")\n",
    "\n",
    "for i in range(len(GreaterCLRIndia1kgpHC_CHR_POS_Values)):\n",
    "    File_Input_UCSC_CLRIndia1kgpHC_1.write(f\"{GreaterCLRIndia1kgpHC_CHR_POS_Values['chr'][i]}\\t{GreaterCLRIndia1kgpHC_CHR_POS_Values['Position'][i]}\\t{GreaterCLRIndia1kgpHC_CHR_POS_Values['Position'][i]+200000}\\n\")\n",
    "\n",
    "File_Input_UCSC_CLRIndia1kgpHC_1.close()"
   ]
  },
  {
   "cell_type": "markdown",
   "metadata": {},
   "source": [
    "##### GRoSS"
   ]
  },
  {
   "cell_type": "code",
   "execution_count": 65,
   "metadata": {},
   "outputs": [],
   "source": [
    "GRoSSIndia_ordenado=GRoSSIndia[[\"CHR\",\"START\",\"END\",\"Pval_PreIndia_Europe2\"]].sort_values(ascending=True, by=\"Pval_PreIndia_Europe2\").reset_index()\n",
    "GRoSSIndia_ordenado[\"CHR\"]=list(map(lambda x: f\"chr{x}\",GRoSSIndia_ordenado[\"CHR\"]))\n",
    "LowestGRoSSIndia_CHR_POS_Values=GRoSSIndia_ordenado[0:int(umporcento_GRoSSIndia)]\n",
    "del LowestGRoSSIndia_CHR_POS_Values[\"Pval_PreIndia_Europe2\"]\n",
    "\n",
    "\n",
    "File_Input_UCSC_GRoSSIndia_1=open(\"IndiaResults/GRoSS/Input_UCSC_GRoSS_India_1_200kb.txt\", \"w\")\n",
    "\n",
    "for i in range(len(LowestGRoSSIndia_CHR_POS_Values)):\n",
    "    File_Input_UCSC_GRoSSIndia_1.write(f\"{LowestGRoSSIndia_CHR_POS_Values['CHR'][i]}\\t{LowestGRoSSIndia_CHR_POS_Values['START'][i]-100000}\\t{LowestGRoSSIndia_CHR_POS_Values['END'][i]+100000}\\n\")\n",
    "\n",
    "File_Input_UCSC_GRoSSIndia_1.close()"
   ]
  },
  {
   "cell_type": "code",
   "execution_count": 66,
   "metadata": {},
   "outputs": [],
   "source": [
    "GRoSSCaste_ordenado=GRoSSCasteTribe[[\"CHR\",\"START\",\"END\",\"Pval_PreCaste_Europe2\"]].sort_values(ascending=True, by=\"Pval_PreCaste_Europe2\").reset_index()\n",
    "GRoSSCaste_ordenado[\"CHR\"]=list(map(lambda x: f\"chr{x}\",GRoSSCaste_ordenado[\"CHR\"]))\n",
    "LowestGRoSSCaste_CHR_POS_Values=GRoSSCaste_ordenado[0:int(umporcento_GRoSSCaste)]\n",
    "del LowestGRoSSCaste_CHR_POS_Values[\"Pval_PreCaste_Europe2\"]\n",
    "\n",
    "\n",
    "File_Input_UCSC_GRoSSCaste_1=open(\"IndiaResults/GRoSS/Input_UCSC_GRoSS_Caste_1_200kb.txt\", \"w\")\n",
    "\n",
    "for i in range(len(LowestGRoSSCaste_CHR_POS_Values)):\n",
    "    File_Input_UCSC_GRoSSCaste_1.write(f\"{LowestGRoSSCaste_CHR_POS_Values['CHR'][i]}\\t{LowestGRoSSCaste_CHR_POS_Values['START'][i]-100000}\\t{LowestGRoSSCaste_CHR_POS_Values['END'][i]+100000}\\n\")\n",
    "\n",
    "File_Input_UCSC_GRoSSCaste_1.close()"
   ]
  },
  {
   "cell_type": "code",
   "execution_count": 67,
   "metadata": {},
   "outputs": [],
   "source": [
    "GRoSSTribe_ordenado=GRoSSCasteTribe[[\"CHR\",\"START\",\"END\",\"Pval_PreTribe_Europe2\"]].sort_values(ascending=True, by=\"Pval_PreTribe_Europe2\").reset_index()\n",
    "GRoSSTribe_ordenado[\"CHR\"]=list(map(lambda x: f\"chr{x}\",GRoSSTribe_ordenado[\"CHR\"]))\n",
    "LowestGRoSSTribe_CHR_POS_Values=GRoSSTribe_ordenado[0:int(umporcento_GRoSSTribe)]\n",
    "del LowestGRoSSTribe_CHR_POS_Values[\"Pval_PreTribe_Europe2\"]\n",
    "\n",
    "\n",
    "File_Input_UCSC_GRoSSTribe_1=open(\"IndiaResults/GRoSS/Input_UCSC_GRoSS_Tribe_1_200kb.txt\", \"w\")\n",
    "\n",
    "for i in range(len(LowestGRoSSTribe_CHR_POS_Values)):\n",
    "    File_Input_UCSC_GRoSSTribe_1.write(f\"{LowestGRoSSTribe_CHR_POS_Values['CHR'][i]}\\t{LowestGRoSSTribe_CHR_POS_Values['START'][i]-100000}\\t{LowestGRoSSTribe_CHR_POS_Values['END'][i]+100000}\\n\")\n",
    "\n",
    "File_Input_UCSC_GRoSSTribe_1.close()"
   ]
  },
  {
   "cell_type": "code",
   "execution_count": 68,
   "metadata": {},
   "outputs": [],
   "source": [
    "GRoSSIndia1kgp_ordenado=GRoSSIndia1kgp[[\"CHR\",\"START\",\"END\",\"Pval_PreIndia_Europe2\"]].sort_values(ascending=True, by=\"Pval_PreIndia_Europe2\").reset_index()\n",
    "GRoSSIndia1kgp_ordenado[\"CHR\"]=list(map(lambda x: f\"chr{x}\",GRoSSIndia1kgp_ordenado[\"CHR\"]))\n",
    "LowestGRoSSIndia1kgp_CHR_POS_Values=GRoSSIndia1kgp_ordenado[0:int(umporcento_GRoSSIndia1kgp)]\n",
    "del LowestGRoSSIndia1kgp_CHR_POS_Values[\"Pval_PreIndia_Europe2\"]\n",
    "\n",
    "\n",
    "File_Input_UCSC_GRoSSIndia1kgp_1=open(\"IndiaResults/GRoSS/Input_UCSC_GRoSS_India1kgp_1_200kb.txt\", \"w\")\n",
    "\n",
    "for i in range(len(LowestGRoSSIndia1kgp_CHR_POS_Values)):\n",
    "    File_Input_UCSC_GRoSSIndia1kgp_1.write(f\"{LowestGRoSSIndia1kgp_CHR_POS_Values['CHR'][i]}\\t{LowestGRoSSIndia1kgp_CHR_POS_Values['START'][i]-100000}\\t{LowestGRoSSIndia1kgp_CHR_POS_Values['END'][i]+100000}\\n\")\n",
    "\n",
    "File_Input_UCSC_GRoSSIndia1kgp_1.close()"
   ]
  },
  {
   "cell_type": "markdown",
   "metadata": {},
   "source": [
    "## Select 0.5%"
   ]
  },
  {
   "cell_type": "markdown",
   "metadata": {},
   "source": [
    "#### PBS"
   ]
  },
  {
   "cell_type": "code",
   "execution_count": 18,
   "metadata": {},
   "outputs": [],
   "source": [
    "PBSIndia_ordenado=PBSIndia[[\"chr\",\"InitialPosition\",\"FinalPosition\",\"SNPBiggerPBS\",\"BiggerPBSValue\"]].sort_values(ascending=False, by=\"BiggerPBSValue\").drop_duplicates(subset=\"SNPBiggerPBS\")\n",
    "PBSIndia_ordenado[\"chr\"]=list(map(lambda x: f\"chr{x}\",PBSIndia_ordenado[\"chr\"]))\n",
    "GreaterPBSIndia_SNP_Values=PBSIndia_ordenado[0:int(zerocincoporcento_PBSIndia)]\n",
    "Input_UCSC_PBSIndia_SNP_Values=PBSIndia_ordenado[0:int(zerocincoporcento_PBSIndia)]\n",
    "del Input_UCSC_PBSIndia_SNP_Values[\"BiggerPBSValue\"]\n",
    "del Input_UCSC_PBSIndia_SNP_Values[\"SNPBiggerPBS\"]\n",
    "\n",
    "GreaterPBSIndia_SNP_Values.to_csv(\"IndiaResults/PBS/Input_UCSC_PBS_India_GreaterZeroCincoPercent.txt\",sep=\"\\t\", index=False)\n",
    "Input_UCSC_PBSIndia_SNP_Values.to_csv(\"IndiaResults/PBS/Input_UCSC_PBS_India_GreaterZeroCincoPercent.txt\",sep=\"\\t\", index=False, header=None)\n"
   ]
  },
  {
   "cell_type": "code",
   "execution_count": 19,
   "metadata": {},
   "outputs": [],
   "source": [
    "PBSCaste_ordenado=PBSCaste[[\"chr\",\"InitialPosition\",\"FinalPosition\",\"SNPBiggerPBS\",\"BiggerPBSValue\"]].sort_values(ascending=False, by=\"BiggerPBSValue\").drop_duplicates(subset=\"SNPBiggerPBS\")\n",
    "PBSCaste_ordenado[\"chr\"]=list(map(lambda x: f\"chr{x}\",PBSCaste_ordenado[\"chr\"]))\n",
    "GreaterPBSCaste_SNP_Values=PBSCaste_ordenado[0:int(zerocincoporcento_PBSCaste)]\n",
    "Input_UCSC_PBSCaste_SNP_Values=PBSCaste_ordenado[0:int(zerocincoporcento_PBSCaste)]\n",
    "del Input_UCSC_PBSCaste_SNP_Values[\"BiggerPBSValue\"]\n",
    "del Input_UCSC_PBSCaste_SNP_Values[\"SNPBiggerPBS\"]\n",
    "\n",
    "GreaterPBSCaste_SNP_Values.to_csv(\"IndiaResults/PBS/Input_UCSC_PBS_Caste_GreaterZeroCincoPercent.txt\",sep=\"\\t\", index=False)\n",
    "Input_UCSC_PBSCaste_SNP_Values.to_csv(\"IndiaResults/PBS/Input_UCSC_PBS_Caste_GreaterZeroCincoPercent.txt\",sep=\"\\t\", index=False, header=None)\n"
   ]
  },
  {
   "cell_type": "code",
   "execution_count": 22,
   "metadata": {},
   "outputs": [],
   "source": [
    "PBSTribe_ordenado=PBSTribe[[\"chr\",\"InitialPosition\",\"FinalPosition\",\"SNPBiggerPBS\",\"BiggerPBSValue\"]].sort_values(ascending=False, by=\"BiggerPBSValue\").drop_duplicates(subset=\"SNPBiggerPBS\")\n",
    "PBSTribe_ordenado[\"chr\"]=list(map(lambda x: f\"chr{x}\",PBSTribe_ordenado[\"chr\"]))\n",
    "GreaterPBSTribe_SNP_Values=PBSTribe_ordenado[0:int(zerocincoporcento_PBSTribe)]\n",
    "Input_UCSC_PBSTribe_SNP_Values=PBSTribe_ordenado[0:int(zerocincoporcento_PBSTribe)]\n",
    "del Input_UCSC_PBSTribe_SNP_Values[\"BiggerPBSValue\"]\n",
    "del Input_UCSC_PBSTribe_SNP_Values[\"SNPBiggerPBS\"]\n",
    "\n",
    "GreaterPBSTribe_SNP_Values.to_csv(\"IndiaResults/PBS/Input_UCSC_PBS_Tribe_GreaterZeroCincoPercent.txt\",sep=\"\\t\", index=False)\n",
    "Input_UCSC_PBSTribe_SNP_Values.to_csv(\"IndiaResults/PBS/Input_UCSC_PBS_Tribe_GreaterZeroCincoPercent.txt\",sep=\"\\t\", index=False, header=None)\n"
   ]
  },
  {
   "cell_type": "code",
   "execution_count": 21,
   "metadata": {},
   "outputs": [],
   "source": [
    "PBSIndia1kgp_ordenado=PBSIndia1kgp[[\"chr\",\"InitialPosition\",\"FinalPosition\",\"SNPBiggerPBS\",\"BiggerPBSValue\"]].sort_values(ascending=False, by=\"BiggerPBSValue\").drop_duplicates(subset=\"SNPBiggerPBS\")\n",
    "PBSIndia1kgp_ordenado[\"chr\"]=list(map(lambda x: f\"chr{x}\",PBSIndia1kgp_ordenado[\"chr\"]))\n",
    "GreaterPBSIndia1kgp_SNP_Values=PBSIndia1kgp_ordenado[0:int(zerocincoporcento_PBSIndia1kgp)]\n",
    "Input_UCSC_PBSIndia1kgp_SNP_Values=PBSIndia1kgp_ordenado[0:int(zerocincoporcento_PBSIndia1kgp)]\n",
    "del Input_UCSC_PBSIndia1kgp_SNP_Values[\"BiggerPBSValue\"]\n",
    "del Input_UCSC_PBSIndia1kgp_SNP_Values[\"SNPBiggerPBS\"]\n",
    "\n",
    "GreaterPBSIndia1kgp_SNP_Values.to_csv(\"IndiaResults/PBS/Input_UCSC_PBS_India1kgp_GreaterZeroCincoPercent.txt\",sep=\"\\t\", index=False)\n",
    "Input_UCSC_PBSIndia1kgp_SNP_Values.to_csv(\"IndiaResults/PBS/Input_UCSC_PBS_India1kgp_GreaterZeroCincoPercent.txt\",sep=\"\\t\", index=False, header=None)\n"
   ]
  },
  {
   "cell_type": "code",
   "execution_count": 37,
   "metadata": {},
   "outputs": [],
   "source": [
    "PBSIndia1kgpHC_ordenado=PBSIndia1kgp_HC[[\"chr\",\"InitialPosition\",\"FinalPosition\",\"SNPBiggerPBS\",\"BiggerPBSValue\"]].sort_values(ascending=False, by=\"BiggerPBSValue\")\n",
    "PBSIndia1kgpHC_ordenado[\"chr\"]=list(map(lambda x: f\"chr{x}\",PBSIndia1kgpHC_ordenado[\"chr\"]))\n",
    "GreaterPBSIndia1kgpHC_SNP_Values=PBSIndia1kgpHC_ordenado[0:int(zerocincoporcento_PBSIndia1kgp_HC)]\n",
    "Input_UCSC_PBSIndia1kgpHC_SNP_Values=PBSIndia1kgpHC_ordenado[0:int(zerocincoporcento_PBSIndia1kgp_HC)]\n",
    "del Input_UCSC_PBSIndia1kgpHC_SNP_Values[\"BiggerPBSValue\"]\n",
    "del Input_UCSC_PBSIndia1kgpHC_SNP_Values[\"SNPBiggerPBS\"]\n",
    "\n",
    "GreaterPBSIndia1kgpHC_SNP_Values.to_csv(\"PBS_India1kgpHC_GreaterZeroCincoPercent.txt\",sep=\"\\t\", index=False)\n",
    "Input_UCSC_PBSIndia1kgpHC_SNP_Values.to_csv(\"Input_UCSC_PBS_India1kgpHC_GreaterZeroCincoPercent.txt\",sep=\"\\t\", index=False, header=None)"
   ]
  },
  {
   "cell_type": "markdown",
   "metadata": {},
   "source": [
    "#### xpEHH"
   ]
  },
  {
   "cell_type": "code",
   "execution_count": 31,
   "metadata": {},
   "outputs": [],
   "source": [
    "xpEHHIndia_ordenado=xpEHHIndia[[\"chr\",\"pos\",\"normxpehh\"]].sort_values(ascending=False, by=\"normxpehh\").reset_index()\n",
    "xpEHHIndia_ordenado[\"chr\"]=list(map(lambda x: f\"chr{x}\",xpEHHIndia_ordenado[\"chr\"]))\n",
    "GreaterxpEHHIndia_CHR_POS_Values=xpEHHIndia_ordenado[0:int(zerocincoporcento_xpEHHIndia)]\n",
    "del GreaterxpEHHIndia_CHR_POS_Values[\"normxpehh\"]\n",
    "\n",
    "\n",
    "File_Input_UCSC_xpEHHIndia_1=open(\"IndiaResults/xpEHH/Input_UCSC_xpEHH_India_0.5_200kb.txt\", \"w\")\n",
    "\n",
    "for i in range(len(GreaterxpEHHIndia_CHR_POS_Values)):\n",
    "    File_Input_UCSC_xpEHHIndia_1.write(f\"{GreaterxpEHHIndia_CHR_POS_Values['chr'][i]}\\t{GreaterxpEHHIndia_CHR_POS_Values['pos'][i]-100000}\\t{GreaterxpEHHIndia_CHR_POS_Values['pos'][i]+100000}\\n\")\n",
    "\n",
    "File_Input_UCSC_xpEHHIndia_1.close()"
   ]
  },
  {
   "cell_type": "code",
   "execution_count": 33,
   "metadata": {},
   "outputs": [],
   "source": [
    "xpEHHCaste_ordenado=xpEHHCaste[[\"chr\",\"pos\",\"normxpehh\"]].sort_values(ascending=False, by=\"normxpehh\").reset_index()\n",
    "xpEHHCaste_ordenado[\"chr\"]=list(map(lambda x: f\"chr{x}\",xpEHHCaste_ordenado[\"chr\"]))\n",
    "GreaterxpEHHCaste_CHR_POS_Values=xpEHHCaste_ordenado[0:int(zerocincoporcento_xpEHHCaste)]\n",
    "del GreaterxpEHHCaste_CHR_POS_Values[\"normxpehh\"]\n",
    "\n",
    "\n",
    "File_Input_UCSC_xpEHHCaste_1=open(\"IndiaResults/xpEHH/Input_UCSC_xpEHH_Caste_0.5_200kb.txt\", \"w\")\n",
    "\n",
    "for i in range(len(GreaterxpEHHCaste_CHR_POS_Values)):\n",
    "    File_Input_UCSC_xpEHHCaste_1.write(f\"{GreaterxpEHHCaste_CHR_POS_Values['chr'][i]}\\t{GreaterxpEHHCaste_CHR_POS_Values['pos'][i]-100000}\\t{GreaterxpEHHCaste_CHR_POS_Values['pos'][i]+100000}\\n\")\n",
    "\n",
    "File_Input_UCSC_xpEHHCaste_1.close()"
   ]
  },
  {
   "cell_type": "code",
   "execution_count": 34,
   "metadata": {},
   "outputs": [],
   "source": [
    "xpEHHTribe_ordenado=xpEHHTribe[[\"chr\",\"pos\",\"normxpehh\"]].sort_values(ascending=False, by=\"normxpehh\").reset_index()\n",
    "xpEHHTribe_ordenado[\"chr\"]=list(map(lambda x: f\"chr{x}\",xpEHHTribe_ordenado[\"chr\"]))\n",
    "GreaterxpEHHTribe_CHR_POS_Values=xpEHHTribe_ordenado[0:int(zerocincoporcento_xpEHHTribe)]\n",
    "del GreaterxpEHHTribe_CHR_POS_Values[\"normxpehh\"]\n",
    "\n",
    "\n",
    "File_Input_UCSC_xpEHHTribe_1=open(\"IndiaResults/xpEHH/Input_UCSC_xpEHH_Tribe_0.5_200kb.txt\", \"w\")\n",
    "\n",
    "for i in range(len(GreaterxpEHHTribe_CHR_POS_Values)):\n",
    "    File_Input_UCSC_xpEHHTribe_1.write(f\"{GreaterxpEHHTribe_CHR_POS_Values['chr'][i]}\\t{GreaterxpEHHTribe_CHR_POS_Values['pos'][i]-100000}\\t{GreaterxpEHHTribe_CHR_POS_Values['pos'][i]+100000}\\n\")\n",
    "\n",
    "File_Input_UCSC_xpEHHTribe_1.close()"
   ]
  },
  {
   "cell_type": "code",
   "execution_count": 35,
   "metadata": {},
   "outputs": [],
   "source": [
    "xpEHHIndia1kgp_ordenado=xpEHHIndia1kgp[[\"chr\",\"pos\",\"normxpehh\"]].sort_values(ascending=False, by=\"normxpehh\").reset_index()\n",
    "xpEHHIndia1kgp_ordenado[\"chr\"]=list(map(lambda x: f\"chr{x}\",xpEHHIndia1kgp_ordenado[\"chr\"]))\n",
    "GreaterxpEHHIndia1kgp_CHR_POS_Values=xpEHHIndia1kgp_ordenado[0:int(zerocincoporcento_xpEHHIndia1kgp)]\n",
    "del GreaterxpEHHIndia1kgp_CHR_POS_Values[\"normxpehh\"]\n",
    "\n",
    "\n",
    "File_Input_UCSC_xpEHHIndia1kgp_1=open(\"IndiaResults/xpEHH/Input_UCSC_xpEHH_India1kgp_0.5_200kb.txt\", \"w\")\n",
    "\n",
    "for i in range(len(GreaterxpEHHIndia1kgp_CHR_POS_Values)):\n",
    "    File_Input_UCSC_xpEHHIndia1kgp_1.write(f\"{GreaterxpEHHIndia1kgp_CHR_POS_Values['chr'][i]}\\t{GreaterxpEHHIndia1kgp_CHR_POS_Values['pos'][i]-100000}\\t{GreaterxpEHHIndia1kgp_CHR_POS_Values['pos'][i]+100000}\\n\")\n",
    "\n",
    "File_Input_UCSC_xpEHHIndia1kgp_1.close()"
   ]
  },
  {
   "cell_type": "markdown",
   "metadata": {},
   "source": [
    "#### iHS"
   ]
  },
  {
   "cell_type": "code",
   "execution_count": 36,
   "metadata": {},
   "outputs": [],
   "source": [
    "iHSIndia_ordenado=iHSIndia[[\"chr\",\"pos\",\"normIHS\"]].sort_values(ascending=False, by=\"normIHS\").reset_index()\n",
    "iHSIndia_ordenado[\"chr\"]=list(map(lambda x: f\"chr{x}\",iHSIndia_ordenado[\"chr\"]))\n",
    "GreateriHSIndia_CHR_POS_Values=iHSIndia_ordenado[0:int(zerocincoporcento_iHSIndia)]\n",
    "del GreateriHSIndia_CHR_POS_Values[\"normIHS\"]\n",
    "\n",
    "\n",
    "File_Input_UCSC_iHSIndia_1=open(\"IndiaResults/iHS/Input_UCSC_iHS_India_0.5_200kb.txt\", \"w\")\n",
    "\n",
    "for i in range(len(GreateriHSIndia_CHR_POS_Values)):\n",
    "    File_Input_UCSC_iHSIndia_1.write(f\"{GreateriHSIndia_CHR_POS_Values['chr'][i]}\\t{GreateriHSIndia_CHR_POS_Values['pos'][i]-100000}\\t{GreateriHSIndia_CHR_POS_Values['pos'][i]+100000}\\n\")\n",
    "\n",
    "File_Input_UCSC_iHSIndia_1.close()"
   ]
  },
  {
   "cell_type": "code",
   "execution_count": 37,
   "metadata": {},
   "outputs": [],
   "source": [
    "iHSCaste_ordenado=iHSCaste[[\"chr\",\"pos\",\"normIHS\"]].sort_values(ascending=False, by=\"normIHS\").reset_index()\n",
    "iHSCaste_ordenado[\"chr\"]=list(map(lambda x: f\"chr{x}\",iHSCaste_ordenado[\"chr\"]))\n",
    "GreateriHSCaste_CHR_POS_Values=iHSCaste_ordenado[0:int(zerocincoporcento_iHSCaste)]\n",
    "del GreateriHSCaste_CHR_POS_Values[\"normIHS\"]\n",
    "\n",
    "\n",
    "File_Input_UCSC_iHSCaste_1=open(\"IndiaResults/iHS/Input_UCSC_iHS_Caste_0.5_200kb.txt\", \"w\")\n",
    "\n",
    "for i in range(len(GreateriHSCaste_CHR_POS_Values)):\n",
    "    File_Input_UCSC_iHSCaste_1.write(f\"{GreateriHSCaste_CHR_POS_Values['chr'][i]}\\t{GreateriHSCaste_CHR_POS_Values['pos'][i]-100000}\\t{GreateriHSCaste_CHR_POS_Values['pos'][i]+100000}\\n\")\n",
    "\n",
    "File_Input_UCSC_iHSCaste_1.close()"
   ]
  },
  {
   "cell_type": "code",
   "execution_count": 38,
   "metadata": {},
   "outputs": [],
   "source": [
    "iHSTribe_ordenado=iHSTribe[[\"chr\",\"pos\",\"normIHS\"]].sort_values(ascending=False, by=\"normIHS\").reset_index()\n",
    "iHSTribe_ordenado[\"chr\"]=list(map(lambda x: f\"chr{x}\",iHSTribe_ordenado[\"chr\"]))\n",
    "GreateriHSTribe_CHR_POS_Values=iHSTribe_ordenado[0:int(zerocincoporcento_iHSTribe)]\n",
    "del GreateriHSTribe_CHR_POS_Values[\"normIHS\"]\n",
    "\n",
    "\n",
    "File_Input_UCSC_iHSTribe_1=open(\"IndiaResults/iHS/Input_UCSC_iHS_Tribe_0.5_200kb.txt\", \"w\")\n",
    "\n",
    "for i in range(len(GreateriHSTribe_CHR_POS_Values)):\n",
    "    File_Input_UCSC_iHSTribe_1.write(f\"{GreateriHSTribe_CHR_POS_Values['chr'][i]}\\t{GreateriHSTribe_CHR_POS_Values['pos'][i]-100000}\\t{GreateriHSTribe_CHR_POS_Values['pos'][i]+100000}\\n\")\n",
    "\n",
    "File_Input_UCSC_iHSTribe_1.close()"
   ]
  },
  {
   "cell_type": "code",
   "execution_count": 39,
   "metadata": {},
   "outputs": [],
   "source": [
    "iHSIndia1kgp_ordenado=iHSIndia1kgp[[\"chr\",\"pos\",\"normIHS\"]].sort_values(ascending=False, by=\"normIHS\").reset_index()\n",
    "iHSIndia1kgp_ordenado[\"chr\"]=list(map(lambda x: f\"chr{x}\",iHSIndia1kgp_ordenado[\"chr\"]))\n",
    "GreateriHSIndia1kgp_CHR_POS_Values=iHSIndia1kgp_ordenado[0:int(zerocincoporcento_iHSIndia1kgp)]\n",
    "del GreateriHSIndia1kgp_CHR_POS_Values[\"normIHS\"]\n",
    "\n",
    "\n",
    "File_Input_UCSC_iHSIndia1kgp_1=open(\"IndiaResults/iHS/Input_UCSC_iHS_India1kgp_0.5_200kb.txt\", \"w\")\n",
    "\n",
    "for i in range(len(GreateriHSIndia1kgp_CHR_POS_Values)):\n",
    "    File_Input_UCSC_iHSIndia1kgp_1.write(f\"{GreateriHSIndia1kgp_CHR_POS_Values['chr'][i]}\\t{GreateriHSIndia1kgp_CHR_POS_Values['pos'][i]-100000}\\t{GreateriHSIndia1kgp_CHR_POS_Values['pos'][i]+100000}\\n\")\n",
    "\n",
    "File_Input_UCSC_iHSIndia1kgp_1.close()"
   ]
  },
  {
   "cell_type": "markdown",
   "metadata": {},
   "source": [
    "#### TajimasD"
   ]
  },
  {
   "cell_type": "code",
   "execution_count": 22,
   "metadata": {},
   "outputs": [],
   "source": [
    "TajimasDIndia_ordenado_100kb=TajimasDIndia_100kb[[\"CHROM\",\"BIN_START\",\"TajimaD\"]].sort_values(ascending=True, by=\"TajimaD\").reset_index()\n",
    "TajimasDIndia_ordenado_100kb[\"CHROM\"]=list(map(lambda x: f\"chr{x}\",TajimasDIndia_ordenado_100kb[\"CHROM\"]))\n",
    "LowestTajimasDIndia_CHR_POS_Values_05_100kb=TajimasDIndia_ordenado_100kb[0:int(zerocincoporcento_TajimasDIndia_100kb)]\n",
    "del LowestTajimasDIndia_CHR_POS_Values_05_100kb[\"TajimaD\"]\n",
    "\n",
    "\n",
    "File_Input_UCSC_TajimasDIndia_05_100kb=open(\"IndiaResults/TajimasD/Input_UCSC_TajimasD_India_05_100kb.txt\", \"w\")\n",
    "\n",
    "for i in range(len(LowestTajimasDIndia_CHR_POS_Values_05_100kb)):\n",
    "    File_Input_UCSC_TajimasDIndia_05_100kb.write(f\"{LowestTajimasDIndia_CHR_POS_Values_05_100kb['CHROM'][i]}\\t{LowestTajimasDIndia_CHR_POS_Values_05_100kb['BIN_START'][i]}\\t{LowestTajimasDIndia_CHR_POS_Values_05_100kb['BIN_START'][i]+100000}\\n\")\n",
    "\n",
    "File_Input_UCSC_TajimasDIndia_05_100kb.close()"
   ]
  },
  {
   "cell_type": "code",
   "execution_count": 17,
   "metadata": {},
   "outputs": [],
   "source": [
    "TajimasDCaste_ordenado_100kb=TajimasDCaste_100kb[[\"CHROM\",\"BIN_START\",\"TajimaD\"]].sort_values(ascending=True, by=\"TajimaD\").reset_index()\n",
    "TajimasDCaste_ordenado_100kb[\"CHROM\"]=list(map(lambda x: f\"chr{x}\",TajimasDCaste_ordenado_100kb[\"CHROM\"]))\n",
    "LowestTajimasDCaste_CHR_POS_Values_05_100kb=TajimasDCaste_ordenado_100kb[0:int(zerocincoporcento_TajimasDCaste_100kb)]\n",
    "del LowestTajimasDCaste_CHR_POS_Values_05_100kb[\"TajimaD\"]\n",
    "\n",
    "\n",
    "File_Input_UCSC_TajimasDCaste_05_100kb=open(\"IndiaResults/TajimasD/Input_UCSC_TajimasD_Caste_05_100kb.txt\", \"w\")\n",
    "\n",
    "for i in range(len(LowestTajimasDCaste_CHR_POS_Values_05_100kb)):\n",
    "    File_Input_UCSC_TajimasDCaste_05_100kb.write(f\"{LowestTajimasDCaste_CHR_POS_Values_05_100kb['CHROM'][i]}\\t{LowestTajimasDCaste_CHR_POS_Values_05_100kb['BIN_START'][i]}\\t{LowestTajimasDCaste_CHR_POS_Values_05_100kb['BIN_START'][i]+100000}\\n\")\n",
    "\n",
    "File_Input_UCSC_TajimasDCaste_05_100kb.close()"
   ]
  },
  {
   "cell_type": "code",
   "execution_count": 18,
   "metadata": {},
   "outputs": [],
   "source": [
    "TajimasDTribe_ordenado_100kb=TajimasDTribe_100kb[[\"CHROM\",\"BIN_START\",\"TajimaD\"]].sort_values(ascending=True, by=\"TajimaD\").reset_index()\n",
    "TajimasDTribe_ordenado_100kb[\"CHROM\"]=list(map(lambda x: f\"chr{x}\",TajimasDTribe_ordenado_100kb[\"CHROM\"]))\n",
    "LowestTajimasDTribe_CHR_POS_Values_05_100kb=TajimasDTribe_ordenado_100kb[0:int(zerocincoporcento_TajimasDTribe_100kb)]\n",
    "del LowestTajimasDTribe_CHR_POS_Values_05_100kb[\"TajimaD\"]\n",
    "\n",
    "\n",
    "File_Input_UCSC_TajimasDTribe_05_100kb=open(\"IndiaResults/TajimasD/Input_UCSC_TajimasD_Tribe_05_100kb.txt\", \"w\")\n",
    "\n",
    "for i in range(len(LowestTajimasDTribe_CHR_POS_Values_05_100kb)):\n",
    "    File_Input_UCSC_TajimasDTribe_05_100kb.write(f\"{LowestTajimasDTribe_CHR_POS_Values_05_100kb['CHROM'][i]}\\t{LowestTajimasDTribe_CHR_POS_Values_05_100kb['BIN_START'][i]}\\t{LowestTajimasDTribe_CHR_POS_Values_05_100kb['BIN_START'][i]+100000}\\n\")\n",
    "\n",
    "File_Input_UCSC_TajimasDTribe_05_100kb.close()"
   ]
  },
  {
   "cell_type": "code",
   "execution_count": 19,
   "metadata": {},
   "outputs": [],
   "source": [
    "TajimasDIndia1kgp_ordenado_100kb=TajimasDIndia1kgp_100kb[[\"CHROM\",\"BIN_START\",\"TajimaD\"]].sort_values(ascending=True, by=\"TajimaD\").reset_index()\n",
    "TajimasDIndia1kgp_ordenado_100kb[\"CHROM\"]=list(map(lambda x: f\"chr{x}\",TajimasDIndia1kgp_ordenado_100kb[\"CHROM\"]))\n",
    "LowestTajimasDIndia1kgp_CHR_POS_Values_05_100kb=TajimasDIndia1kgp_ordenado_100kb[0:int(zerocincoporcento_TajimasDIndia1kgp_100kb)]\n",
    "del LowestTajimasDIndia1kgp_CHR_POS_Values_05_100kb[\"TajimaD\"]\n",
    "\n",
    "\n",
    "File_Input_UCSC_TajimasDIndia1kgp_05_100kb=open(\"IndiaResults/TajimasD/Input_UCSC_TajimasD_India1kgp_05_100kb.txt\", \"w\")\n",
    "\n",
    "for i in range(len(LowestTajimasDIndia1kgp_CHR_POS_Values_05_100kb)):\n",
    "    File_Input_UCSC_TajimasDIndia1kgp_05_100kb.write(f\"{LowestTajimasDIndia1kgp_CHR_POS_Values_05_100kb['CHROM'][i]}\\t{LowestTajimasDIndia1kgp_CHR_POS_Values_05_100kb['BIN_START'][i]}\\t{LowestTajimasDIndia1kgp_CHR_POS_Values_05_100kb['BIN_START'][i]+100000}\\n\")\n",
    "\n",
    "File_Input_UCSC_TajimasDIndia1kgp_05_100kb.close()"
   ]
  },
  {
   "cell_type": "code",
   "execution_count": 10,
   "metadata": {},
   "outputs": [],
   "source": [
    "TajimasDIndia1kgpHC_ordenado_100kb=TajimaDIndia1kgp_HC[[\"CHROM\",\"BIN_START\",\"TajimaD\"]].sort_values(ascending=True, by=\"TajimaD\").reset_index()\n",
    "TajimasDIndia1kgpHC_ordenado_100kb[\"CHROM\"]=list(map(lambda x: f\"chr{x}\",TajimasDIndia1kgpHC_ordenado_100kb[\"CHROM\"]))\n",
    "LowestTajimasDIndia1kgpHC_CHR_POS_Values_05_100kb=TajimasDIndia1kgpHC_ordenado_100kb[0:int(zerocincoporcento_TajimasDIndia1kgpHC_100kb)]\n",
    "del LowestTajimasDIndia1kgpHC_CHR_POS_Values_05_100kb[\"TajimaD\"]\n",
    "\n",
    "\n",
    "File_Input_UCSC_TajimasDIndia1kgpHC_05_100kb=open(\"Input_UCSC_TajimasD_India1kgpHC_05_100kb.txt\", \"w\")\n",
    "\n",
    "for i in range(len(LowestTajimasDIndia1kgpHC_CHR_POS_Values_05_100kb)):\n",
    "    File_Input_UCSC_TajimasDIndia1kgpHC_05_100kb.write(f\"{LowestTajimasDIndia1kgpHC_CHR_POS_Values_05_100kb['CHROM'][i]}\\t{LowestTajimasDIndia1kgpHC_CHR_POS_Values_05_100kb['BIN_START'][i]}\\t{LowestTajimasDIndia1kgpHC_CHR_POS_Values_05_100kb['BIN_START'][i]+100000}\\n\")\n",
    "\n",
    "File_Input_UCSC_TajimasDIndia1kgpHC_05_100kb.close()"
   ]
  },
  {
   "cell_type": "markdown",
   "metadata": {},
   "source": [
    "#### CLR"
   ]
  },
  {
   "cell_type": "code",
   "execution_count": 67,
   "metadata": {},
   "outputs": [],
   "source": [
    "CLRIndia_ordenado=CLRIndia_10SNPs[[\"chr\",\"Position\",\"Likelihood\"]].sort_values(ascending=False, by=\"Likelihood\").reset_index()\n",
    "CLRIndia_ordenado[\"chr\"]=list(map(lambda x: f\"chr{x}\",CLRIndia_ordenado[\"chr\"]))\n",
    "GreaterCLRIndia_CHR_POS_Values=CLRIndia_ordenado[0:int(zerocincoporcento_CLRIndia)]\n",
    "del GreaterCLRIndia_CHR_POS_Values[\"Likelihood\"]\n",
    "\n",
    "\n",
    "File_Input_UCSC_CLRIndia_1=open(\"IndiaResults/CLR/Input_UCSC_CLR_India_0.5_200kb_10SNPs.txt\", \"w\")\n",
    "\n",
    "for i in range(len(GreaterCLRIndia_CHR_POS_Values)):\n",
    "    File_Input_UCSC_CLRIndia_1.write(f\"{GreaterCLRIndia_CHR_POS_Values['chr'][i]}\\t{GreaterCLRIndia_CHR_POS_Values['Position'][i]}\\t{GreaterCLRIndia_CHR_POS_Values['Position'][i]+200000}\\n\")\n",
    "\n",
    "File_Input_UCSC_CLRIndia_1.close()"
   ]
  },
  {
   "cell_type": "code",
   "execution_count": 68,
   "metadata": {},
   "outputs": [],
   "source": [
    "CLRCaste_ordenado=CLRCaste_10SNPs[[\"chr\",\"Position\",\"Likelihood\"]].sort_values(ascending=False, by=\"Likelihood\").reset_index()\n",
    "CLRCaste_ordenado[\"chr\"]=list(map(lambda x: f\"chr{x}\",CLRCaste_ordenado[\"chr\"]))\n",
    "GreaterCLRCaste_CHR_POS_Values=CLRCaste_ordenado[0:int(zerocincoporcento_CLRCaste)]\n",
    "del GreaterCLRCaste_CHR_POS_Values[\"Likelihood\"]\n",
    "\n",
    "\n",
    "File_Input_UCSC_CLRCaste_1=open(\"IndiaResults/CLR/Input_UCSC_CLR_Caste_0.5_200kb_10SNPs.txt\", \"w\")\n",
    "\n",
    "for i in range(len(GreaterCLRCaste_CHR_POS_Values)):\n",
    "    File_Input_UCSC_CLRCaste_1.write(f\"{GreaterCLRCaste_CHR_POS_Values['chr'][i]}\\t{GreaterCLRCaste_CHR_POS_Values['Position'][i]}\\t{GreaterCLRCaste_CHR_POS_Values['Position'][i]+200000}\\n\")\n",
    "\n",
    "File_Input_UCSC_CLRCaste_1.close()"
   ]
  },
  {
   "cell_type": "code",
   "execution_count": 69,
   "metadata": {},
   "outputs": [],
   "source": [
    "CLRTribe_ordenado=CLRTribe_10SNPs[[\"chr\",\"Position\",\"Likelihood\"]].sort_values(ascending=False, by=\"Likelihood\").reset_index()\n",
    "CLRTribe_ordenado[\"chr\"]=list(map(lambda x: f\"chr{x}\",CLRTribe_ordenado[\"chr\"]))\n",
    "GreaterCLRTribe_CHR_POS_Values=CLRTribe_ordenado[0:int(zerocincoporcento_CLRTribe)]\n",
    "del GreaterCLRTribe_CHR_POS_Values[\"Likelihood\"]\n",
    "\n",
    "\n",
    "File_Input_UCSC_CLRTribe_1=open(\"IndiaResults/CLR/Input_UCSC_CLR_Tribe_0.5_200kb_10SNPs.txt\", \"w\")\n",
    "\n",
    "for i in range(len(GreaterCLRTribe_CHR_POS_Values)):\n",
    "    File_Input_UCSC_CLRTribe_1.write(f\"{GreaterCLRTribe_CHR_POS_Values['chr'][i]}\\t{GreaterCLRTribe_CHR_POS_Values['Position'][i]}\\t{GreaterCLRTribe_CHR_POS_Values['Position'][i]+200000}\\n\")\n",
    "\n",
    "File_Input_UCSC_CLRTribe_1.close()"
   ]
  },
  {
   "cell_type": "code",
   "execution_count": 70,
   "metadata": {},
   "outputs": [],
   "source": [
    "CLRIndia1kgp_ordenado=CLRIndia1kgp_10SNPs[[\"chr\",\"Position\",\"Likelihood\"]].sort_values(ascending=False, by=\"Likelihood\").reset_index()\n",
    "CLRIndia1kgp_ordenado[\"chr\"]=list(map(lambda x: f\"chr{x}\",CLRIndia1kgp_ordenado[\"chr\"]))\n",
    "GreaterCLRIndia1kgp_CHR_POS_Values=CLRIndia1kgp_ordenado[0:int(zerocincoporcento_CLRIndia1kgp)]\n",
    "del GreaterCLRIndia1kgp_CHR_POS_Values[\"Likelihood\"]\n",
    "\n",
    "\n",
    "File_Input_UCSC_CLRIndia1kgp_1=open(\"IndiaResults/CLR/Input_UCSC_CLR_India1kgp_0.5_200kb_10SNPs.txt\", \"w\")\n",
    "\n",
    "for i in range(len(GreaterCLRIndia1kgp_CHR_POS_Values)):\n",
    "    File_Input_UCSC_CLRIndia1kgp_1.write(f\"{GreaterCLRIndia1kgp_CHR_POS_Values['chr'][i]}\\t{GreaterCLRIndia1kgp_CHR_POS_Values['Position'][i]}\\t{GreaterCLRIndia1kgp_CHR_POS_Values['Position'][i]+200000}\\n\")\n",
    "\n",
    "File_Input_UCSC_CLRIndia1kgp_1.close()"
   ]
  },
  {
   "cell_type": "code",
   "execution_count": 27,
   "metadata": {},
   "outputs": [],
   "source": [
    "CLRIndia1kgpHC_ordenado=CLRIndia1kgp_HC[[\"chr\",\"Position\",\"Likelihood\"]].sort_values(ascending=False, by=\"Likelihood\").reset_index()\n",
    "CLRIndia1kgpHC_ordenado[\"chr\"]=list(map(lambda x: f\"chr{x}\",CLRIndia1kgpHC_ordenado[\"chr\"]))\n",
    "GreaterCLRIndia1kgpHC_CHR_POS_Values=CLRIndia1kgpHC_ordenado[0:int(zerocincoporcento_CLRIndia1kgpHC_10SNPs)]\n",
    "del GreaterCLRIndia1kgpHC_CHR_POS_Values[\"Likelihood\"]\n",
    "\n",
    "\n",
    "File_Input_UCSC_CLRIndia1kgpHC_05=open(\"Input_UCSC_CLR_India1kgp_05_200kb_10SNPs.txt\", \"w\")\n",
    "\n",
    "for i in range(len(GreaterCLRIndia1kgpHC_CHR_POS_Values)):\n",
    "    File_Input_UCSC_CLRIndia1kgpHC_05.write(f\"{GreaterCLRIndia1kgpHC_CHR_POS_Values['chr'][i]}\\t{GreaterCLRIndia1kgpHC_CHR_POS_Values['Position'][i]}\\t{GreaterCLRIndia1kgpHC_CHR_POS_Values['Position'][i]+200000}\\n\")\n",
    "\n",
    "File_Input_UCSC_CLRIndia1kgpHC_05.close()"
   ]
  },
  {
   "cell_type": "markdown",
   "metadata": {},
   "source": [
    "#### GRoSS"
   ]
  },
  {
   "cell_type": "code",
   "execution_count": 51,
   "metadata": {},
   "outputs": [],
   "source": [
    "GRoSSIndia_ordenado=GRoSSIndia[[\"CHR\",\"START\",\"END\",\"Pval_PreIndia_Europe2\"]].sort_values(ascending=True, by=\"Pval_PreIndia_Europe2\").reset_index()\n",
    "GRoSSIndia_ordenado[\"CHR\"]=list(map(lambda x: f\"chr{x}\",GRoSSIndia_ordenado[\"CHR\"]))\n",
    "LowestGRoSSIndia_CHR_POS_Values=GRoSSIndia_ordenado[0:int(zerocincoporcento_GRoSSIndia)]\n",
    "del LowestGRoSSIndia_CHR_POS_Values[\"Pval_PreIndia_Europe2\"]\n",
    "\n",
    "\n",
    "File_Input_UCSC_GRoSSIndia_1=open(\"IndiaResults/GRoSS/Input_UCSC_GRoSS_India_0.5_200kb.txt\", \"w\")\n",
    "\n",
    "for i in range(len(LowestGRoSSIndia_CHR_POS_Values)):\n",
    "    File_Input_UCSC_GRoSSIndia_1.write(f\"{LowestGRoSSIndia_CHR_POS_Values['CHR'][i]}\\t{LowestGRoSSIndia_CHR_POS_Values['START'][i]-100000}\\t{LowestGRoSSIndia_CHR_POS_Values['END'][i]+100000}\\n\")\n",
    "\n",
    "File_Input_UCSC_GRoSSIndia_1.close()"
   ]
  },
  {
   "cell_type": "code",
   "execution_count": 53,
   "metadata": {},
   "outputs": [],
   "source": [
    "GRoSSCaste_ordenado=GRoSSCasteTribe[[\"CHR\",\"START\",\"END\",\"Pval_PreCaste_Europe2\"]].sort_values(ascending=True, by=\"Pval_PreCaste_Europe2\").reset_index()\n",
    "GRoSSCaste_ordenado[\"CHR\"]=list(map(lambda x: f\"chr{x}\",GRoSSCaste_ordenado[\"CHR\"]))\n",
    "LowestGRoSSCaste_CHR_POS_Values=GRoSSCaste_ordenado[0:int(zerocincoporcento_GRoSSCaste)]\n",
    "del LowestGRoSSCaste_CHR_POS_Values[\"Pval_PreCaste_Europe2\"]\n",
    "\n",
    "\n",
    "File_Input_UCSC_GRoSSCaste_1=open(\"IndiaResults/GRoSS/Input_UCSC_GRoSS_Caste_0.5_200kb.txt\", \"w\")\n",
    "\n",
    "for i in range(len(LowestGRoSSCaste_CHR_POS_Values)):\n",
    "    File_Input_UCSC_GRoSSCaste_1.write(f\"{LowestGRoSSCaste_CHR_POS_Values['CHR'][i]}\\t{LowestGRoSSCaste_CHR_POS_Values['START'][i]-100000}\\t{LowestGRoSSCaste_CHR_POS_Values['END'][i]+100000}\\n\")\n",
    "\n",
    "File_Input_UCSC_GRoSSCaste_1.close()"
   ]
  },
  {
   "cell_type": "code",
   "execution_count": 54,
   "metadata": {},
   "outputs": [],
   "source": [
    "GRoSSTribe_ordenado=GRoSSCasteTribe[[\"CHR\",\"START\",\"END\",\"Pval_PreTribe_Europe2\"]].sort_values(ascending=True, by=\"Pval_PreTribe_Europe2\").reset_index()\n",
    "GRoSSTribe_ordenado[\"CHR\"]=list(map(lambda x: f\"chr{x}\",GRoSSTribe_ordenado[\"CHR\"]))\n",
    "LowestGRoSSTribe_CHR_POS_Values=GRoSSTribe_ordenado[0:int(zerocincoporcento_GRoSSTribe)]\n",
    "del LowestGRoSSTribe_CHR_POS_Values[\"Pval_PreTribe_Europe2\"]\n",
    "\n",
    "\n",
    "File_Input_UCSC_GRoSSTribe_1=open(\"IndiaResults/GRoSS/Input_UCSC_GRoSS_Tribe_0.5_200kb.txt\", \"w\")\n",
    "\n",
    "for i in range(len(LowestGRoSSTribe_CHR_POS_Values)):\n",
    "    File_Input_UCSC_GRoSSTribe_1.write(f\"{LowestGRoSSTribe_CHR_POS_Values['CHR'][i]}\\t{LowestGRoSSTribe_CHR_POS_Values['START'][i]-100000}\\t{LowestGRoSSTribe_CHR_POS_Values['END'][i]+100000}\\n\")\n",
    "\n",
    "File_Input_UCSC_GRoSSTribe_1.close()"
   ]
  },
  {
   "cell_type": "code",
   "execution_count": 55,
   "metadata": {},
   "outputs": [],
   "source": [
    "GRoSSIndia1kgp_ordenado=GRoSSIndia1kgp[[\"CHR\",\"START\",\"END\",\"Pval_PreIndia_Europe2\"]].sort_values(ascending=True, by=\"Pval_PreIndia_Europe2\").reset_index()\n",
    "GRoSSIndia1kgp_ordenado[\"CHR\"]=list(map(lambda x: f\"chr{x}\",GRoSSIndia1kgp_ordenado[\"CHR\"]))\n",
    "LowestGRoSSIndia1kgp_CHR_POS_Values=GRoSSIndia1kgp_ordenado[0:int(zerocincoporcento_GRoSSIndia1kgp)]\n",
    "del LowestGRoSSIndia1kgp_CHR_POS_Values[\"Pval_PreIndia_Europe2\"]\n",
    "\n",
    "\n",
    "File_Input_UCSC_GRoSSIndia1kgp_1=open(\"IndiaResults/GRoSS/Input_UCSC_GRoSS_India1kgp_0.5_200kb.txt\", \"w\")\n",
    "\n",
    "for i in range(len(LowestGRoSSIndia1kgp_CHR_POS_Values)):\n",
    "    File_Input_UCSC_GRoSSIndia1kgp_1.write(f\"{LowestGRoSSIndia1kgp_CHR_POS_Values['CHR'][i]}\\t{LowestGRoSSIndia1kgp_CHR_POS_Values['START'][i]-100000}\\t{LowestGRoSSIndia1kgp_CHR_POS_Values['END'][i]+100000}\\n\")\n",
    "\n",
    "File_Input_UCSC_GRoSSIndia1kgp_1.close()"
   ]
  },
  {
   "cell_type": "markdown",
   "metadata": {},
   "source": [
    "## Select 0.1%"
   ]
  },
  {
   "cell_type": "markdown",
   "metadata": {},
   "source": [
    "##### PBS"
   ]
  },
  {
   "cell_type": "code",
   "execution_count": 101,
   "metadata": {},
   "outputs": [],
   "source": [
    "GreaterPBSIndia_SNP_Values_01=PBSIndia_ordenado[0:int(zeroumporcento_PBSIndia)]\n",
    "Input_UCSC_PBSIndia_SNP_Values_01=PBSIndia_ordenado[0:int(zeroumporcento_PBSIndia)]\n",
    "del Input_UCSC_PBSIndia_SNP_Values_01[\"BiggerPBSValue\"]\n",
    "del Input_UCSC_PBSIndia_SNP_Values_01[\"SNPBiggerPBS\"]\n",
    "\n",
    "GreaterPBSIndia_SNP_Values_01.to_csv(\"IndiaResults/PBS/PBS_India_GreaterZeroOnePercent.txt\",sep=\"\\t\", index=False)\n",
    "Input_UCSC_PBSIndia_SNP_Values_01.to_csv(\"IndiaResults/PBS/Input_UCSC_PBS_India_GreaterZeroOnePercent.txt\",sep=\"\\t\", index=False, header=None)\n"
   ]
  },
  {
   "cell_type": "code",
   "execution_count": 102,
   "metadata": {},
   "outputs": [],
   "source": [
    "GreaterPBSCaste_SNP_Values_01=PBSCaste_ordenado[0:int(zeroumporcento_PBSCaste)]\n",
    "Input_UCSC_PBSCaste_SNP_Values_01=PBSCaste_ordenado[0:int(zeroumporcento_PBSCaste)]\n",
    "del Input_UCSC_PBSCaste_SNP_Values_01[\"BiggerPBSValue\"]\n",
    "del Input_UCSC_PBSCaste_SNP_Values_01[\"SNPBiggerPBS\"]\n",
    "\n",
    "GreaterPBSCaste_SNP_Values_01.to_csv(\"IndiaResults/PBS/PBS_Caste_GreaterZeroOnePercent.txt\",sep=\"\\t\", index=False)\n",
    "Input_UCSC_PBSCaste_SNP_Values_01.to_csv(\"IndiaResults/PBS/Input_UCSC_PBS_Caste_GreaterZeroOnePercent.txt\",sep=\"\\t\", index=False, header=None)\n"
   ]
  },
  {
   "cell_type": "code",
   "execution_count": 103,
   "metadata": {},
   "outputs": [],
   "source": [
    "GreaterPBSTribe_SNP_Values_01=PBSTribe_ordenado[0:int(zeroumporcento_PBSTribe)]\n",
    "Input_UCSC_PBSTribe_SNP_Values_01=PBSTribe_ordenado[0:int(zeroumporcento_PBSTribe)]\n",
    "del Input_UCSC_PBSTribe_SNP_Values_01[\"BiggerPBSValue\"]\n",
    "del Input_UCSC_PBSTribe_SNP_Values_01[\"SNPBiggerPBS\"]\n",
    "\n",
    "GreaterPBSTribe_SNP_Values_01.to_csv(\"IndiaResults/PBS/PBS_Tribe_GreaterZeroOnePercent.txt\",sep=\"\\t\", index=False)\n",
    "Input_UCSC_PBSTribe_SNP_Values_01.to_csv(\"IndiaResults/PBS/Input_UCSC_PBS_Tribe_GreaterZeroOnePercent.txt\",sep=\"\\t\", index=False, header=None)\n"
   ]
  },
  {
   "cell_type": "code",
   "execution_count": 104,
   "metadata": {},
   "outputs": [],
   "source": [
    "GreaterPBSIndia1kgp_SNP_Values_01=PBSIndia1kgp_ordenado[0:int(zeroumporcento_PBSIndia1kgp)]\n",
    "Input_UCSC_PBSIndia1kgp_SNP_Values_01=PBSIndia1kgp_ordenado[0:int(zeroumporcento_PBSIndia1kgp)]\n",
    "del Input_UCSC_PBSIndia1kgp_SNP_Values_01[\"BiggerPBSValue\"]\n",
    "del Input_UCSC_PBSIndia1kgp_SNP_Values_01[\"SNPBiggerPBS\"]\n",
    "\n",
    "GreaterPBSIndia1kgp_SNP_Values_01.to_csv(\"IndiaResults/PBS/PBS_India1kgp_GreaterZeroOnePercent.txt\",sep=\"\\t\", index=False)\n",
    "Input_UCSC_PBSIndia1kgp_SNP_Values_01.to_csv(\"IndiaResults/PBS/Input_UCSC_PBS_India1kgp_GreaterZeroOnePercent.txt\",sep=\"\\t\", index=False, header=None)\n"
   ]
  },
  {
   "cell_type": "code",
   "execution_count": 46,
   "metadata": {},
   "outputs": [],
   "source": [
    "PBSIndia1kgpHC_ordenado=PBSIndia1kgp_HC[[\"chr\",\"InitialPosition\",\"FinalPosition\",\"SNPBiggerPBS\",\"BiggerPBSValue\"]].sort_values(ascending=False, by=\"BiggerPBSValue\")\n",
    "PBSIndia1kgpHC_ordenado[\"chr\"]=list(map(lambda x: f\"chr{x}\",PBSIndia1kgpHC_ordenado[\"chr\"]))\n",
    "GreaterPBSIndia1kgpHC_SNP_Values=PBSIndia1kgpHC_ordenado[0:int(zeroumporcento_PBSIndia1kgp_HC)]\n",
    "Input_UCSC_PBSIndia1kgpHC_SNP_Values=PBSIndia1kgpHC_ordenado[0:int(zeroumporcento_PBSIndia1kgp_HC)]\n",
    "del Input_UCSC_PBSIndia1kgpHC_SNP_Values[\"BiggerPBSValue\"]\n",
    "del Input_UCSC_PBSIndia1kgpHC_SNP_Values[\"SNPBiggerPBS\"]\n",
    "\n",
    "GreaterPBSIndia1kgpHC_SNP_Values.to_csv(\"PBS_India1kgpHC_GreaterZeroUmPercent.txt\",sep=\"\\t\", index=False)\n",
    "Input_UCSC_PBSIndia1kgpHC_SNP_Values.to_csv(\"Input_UCSC_PBS_India1kgpHC_GreaterZeroUmPercent.txt\",sep=\"\\t\", index=False, header=None)"
   ]
  },
  {
   "cell_type": "markdown",
   "metadata": {},
   "source": [
    "##### xpEHH"
   ]
  },
  {
   "cell_type": "code",
   "execution_count": 71,
   "metadata": {},
   "outputs": [],
   "source": [
    "xpEHHIndia_ordenado=xpEHHIndia[[\"chr\",\"pos\",\"normxpehh\"]].sort_values(ascending=False, by=\"normxpehh\").reset_index()\n",
    "xpEHHIndia_ordenado[\"chr\"]=list(map(lambda x: f\"chr{x}\",xpEHHIndia_ordenado[\"chr\"]))\n",
    "GreaterxpEHHIndia_CHR_POS_Values=xpEHHIndia_ordenado[0:int(zeroumporcento_xpEHHIndia)]\n",
    "del GreaterxpEHHIndia_CHR_POS_Values[\"normxpehh\"]\n",
    "\n",
    "\n",
    "File_Input_UCSC_xpEHHIndia_1=open(\"IndiaResults/xpEHH/Input_UCSC_xpEHH_India_01_200kb.txt\", \"w\")\n",
    "\n",
    "for i in range(len(GreaterxpEHHIndia_CHR_POS_Values)):\n",
    "    File_Input_UCSC_xpEHHIndia_1.write(f\"{GreaterxpEHHIndia_CHR_POS_Values['chr'][i]}\\t{GreaterxpEHHIndia_CHR_POS_Values['pos'][i]-100000}\\t{GreaterxpEHHIndia_CHR_POS_Values['pos'][i]+100000}\\n\")\n",
    "\n",
    "File_Input_UCSC_xpEHHIndia_1.close()"
   ]
  },
  {
   "cell_type": "code",
   "execution_count": 72,
   "metadata": {},
   "outputs": [],
   "source": [
    "xpEHHCaste_ordenado=xpEHHCaste[[\"chr\",\"pos\",\"normxpehh\"]].sort_values(ascending=False, by=\"normxpehh\").reset_index()\n",
    "xpEHHCaste_ordenado[\"chr\"]=list(map(lambda x: f\"chr{x}\",xpEHHCaste_ordenado[\"chr\"]))\n",
    "GreaterxpEHHCaste_CHR_POS_Values=xpEHHCaste_ordenado[0:int(zeroumporcento_xpEHHCaste)]\n",
    "del GreaterxpEHHCaste_CHR_POS_Values[\"normxpehh\"]\n",
    "\n",
    "\n",
    "File_Input_UCSC_xpEHHCaste_1=open(\"IndiaResults/xpEHH/Input_UCSC_xpEHH_Caste_01_200kb.txt\", \"w\")\n",
    "\n",
    "for i in range(len(GreaterxpEHHCaste_CHR_POS_Values)):\n",
    "    File_Input_UCSC_xpEHHCaste_1.write(f\"{GreaterxpEHHCaste_CHR_POS_Values['chr'][i]}\\t{GreaterxpEHHCaste_CHR_POS_Values['pos'][i]-100000}\\t{GreaterxpEHHCaste_CHR_POS_Values['pos'][i]+100000}\\n\")\n",
    "\n",
    "File_Input_UCSC_xpEHHCaste_1.close()"
   ]
  },
  {
   "cell_type": "code",
   "execution_count": 98,
   "metadata": {},
   "outputs": [],
   "source": [
    "xpEHHTribe_ordenado=xpEHHTribe[[\"chr\",\"pos\",\"normxpehh\"]].sort_values(ascending=False, by=\"normxpehh\").reset_index()\n",
    "xpEHHTribe_ordenado[\"chr\"]=list(map(lambda x: f\"chr{x}\",xpEHHTribe_ordenado[\"chr\"]))\n",
    "GreaterxpEHHTribe_CHR_POS_Values=xpEHHTribe_ordenado[0:int(zeroumporcento_xpEHHTribe)]\n",
    "del GreaterxpEHHTribe_CHR_POS_Values[\"normxpehh\"]\n",
    "\n",
    "\n",
    "File_Input_UCSC_xpEHHTribe_1=open(\"IndiaResults/xpEHH/Input_UCSC_xpEHH_Tribe_01_200kb.txt\", \"w\")\n",
    "\n",
    "for i in range(len(GreaterxpEHHTribe_CHR_POS_Values)):\n",
    "    File_Input_UCSC_xpEHHTribe_1.write(f\"{GreaterxpEHHTribe_CHR_POS_Values['chr'][i]}\\t{GreaterxpEHHTribe_CHR_POS_Values['pos'][i]-100000}\\t{GreaterxpEHHTribe_CHR_POS_Values['pos'][i]+100000}\\n\")\n",
    "\n",
    "File_Input_UCSC_xpEHHTribe_1.close()"
   ]
  },
  {
   "cell_type": "code",
   "execution_count": 99,
   "metadata": {},
   "outputs": [],
   "source": [
    "xpEHHIndia1kgp_ordenado=xpEHHIndia1kgp[[\"chr\",\"pos\",\"normxpehh\"]].sort_values(ascending=False, by=\"normxpehh\").reset_index()\n",
    "xpEHHIndia1kgp_ordenado[\"chr\"]=list(map(lambda x: f\"chr{x}\",xpEHHIndia1kgp_ordenado[\"chr\"]))\n",
    "GreaterxpEHHIndia1kgp_CHR_POS_Values=xpEHHIndia1kgp_ordenado[0:int(zeroumporcento_xpEHHIndia1kgp)]\n",
    "del GreaterxpEHHIndia1kgp_CHR_POS_Values[\"normxpehh\"]\n",
    "\n",
    "\n",
    "File_Input_UCSC_xpEHHIndia1kgp_1=open(\"IndiaResults/xpEHH/Input_UCSC_xpEHH_India1kgp_01_200kb.txt\", \"w\")\n",
    "\n",
    "for i in range(len(GreaterxpEHHIndia1kgp_CHR_POS_Values)):\n",
    "    File_Input_UCSC_xpEHHIndia1kgp_1.write(f\"{GreaterxpEHHIndia1kgp_CHR_POS_Values['chr'][i]}\\t{GreaterxpEHHIndia1kgp_CHR_POS_Values['pos'][i]-100000}\\t{GreaterxpEHHIndia1kgp_CHR_POS_Values['pos'][i]+100000}\\n\")\n",
    "\n",
    "File_Input_UCSC_xpEHHIndia1kgp_1.close()"
   ]
  },
  {
   "cell_type": "markdown",
   "metadata": {},
   "source": [
    "##### iHS"
   ]
  },
  {
   "cell_type": "code",
   "execution_count": 78,
   "metadata": {},
   "outputs": [],
   "source": [
    "iHSIndia_ordenado=iHSIndia[[\"chr\",\"pos\",\"normIHS\"]].sort_values(ascending=False, by=\"normIHS\").reset_index()\n",
    "iHSIndia_ordenado[\"chr\"]=list(map(lambda x: f\"chr{x}\",iHSIndia_ordenado[\"chr\"]))\n",
    "GreateriHSIndia_CHR_POS_Values=iHSIndia_ordenado[0:int(zeroumporcento_iHSIndia)]\n",
    "del GreateriHSIndia_CHR_POS_Values[\"normIHS\"]\n",
    "\n",
    "\n",
    "File_Input_UCSC_iHSIndia_1=open(\"IndiaResults/iHS/Input_UCSC_iHS_India_01_200kb.txt\", \"w\")\n",
    "\n",
    "for i in range(len(GreateriHSIndia_CHR_POS_Values)):\n",
    "    File_Input_UCSC_iHSIndia_1.write(f\"{GreateriHSIndia_CHR_POS_Values['chr'][i]}\\t{GreateriHSIndia_CHR_POS_Values['pos'][i]-100000}\\t{GreateriHSIndia_CHR_POS_Values['pos'][i]+100000}\\n\")\n",
    "\n",
    "File_Input_UCSC_iHSIndia_1.close()"
   ]
  },
  {
   "cell_type": "code",
   "execution_count": 79,
   "metadata": {},
   "outputs": [],
   "source": [
    "iHSCaste_ordenado=iHSCaste[[\"chr\",\"pos\",\"normIHS\"]].sort_values(ascending=False, by=\"normIHS\").reset_index()\n",
    "iHSCaste_ordenado[\"chr\"]=list(map(lambda x: f\"chr{x}\",iHSCaste_ordenado[\"chr\"]))\n",
    "GreateriHSCaste_CHR_POS_Values=iHSCaste_ordenado[0:int(zeroumporcento_iHSCaste)]\n",
    "del GreateriHSCaste_CHR_POS_Values[\"normIHS\"]\n",
    "\n",
    "\n",
    "File_Input_UCSC_iHSCaste_1=open(\"IndiaResults/iHS/Input_UCSC_iHS_Caste_01_200kb.txt\", \"w\")\n",
    "\n",
    "for i in range(len(GreateriHSCaste_CHR_POS_Values)):\n",
    "    File_Input_UCSC_iHSCaste_1.write(f\"{GreateriHSCaste_CHR_POS_Values['chr'][i]}\\t{GreateriHSCaste_CHR_POS_Values['pos'][i]-100000}\\t{GreateriHSCaste_CHR_POS_Values['pos'][i]+100000}\\n\")\n",
    "\n",
    "File_Input_UCSC_iHSCaste_1.close()"
   ]
  },
  {
   "cell_type": "code",
   "execution_count": 80,
   "metadata": {},
   "outputs": [],
   "source": [
    "iHSTribe_ordenado=iHSTribe[[\"chr\",\"pos\",\"normIHS\"]].sort_values(ascending=False, by=\"normIHS\").reset_index()\n",
    "iHSTribe_ordenado[\"chr\"]=list(map(lambda x: f\"chr{x}\",iHSTribe_ordenado[\"chr\"]))\n",
    "GreateriHSTribe_CHR_POS_Values=iHSTribe_ordenado[0:int(zeroumporcento_iHSTribe)]\n",
    "del GreateriHSTribe_CHR_POS_Values[\"normIHS\"]\n",
    "\n",
    "\n",
    "File_Input_UCSC_iHSTribe_1=open(\"IndiaResults/iHS/Input_UCSC_iHS_Tribe_01_200kb.txt\", \"w\")\n",
    "\n",
    "for i in range(len(GreateriHSTribe_CHR_POS_Values)):\n",
    "    File_Input_UCSC_iHSTribe_1.write(f\"{GreateriHSTribe_CHR_POS_Values['chr'][i]}\\t{GreateriHSTribe_CHR_POS_Values['pos'][i]-100000}\\t{GreateriHSTribe_CHR_POS_Values['pos'][i]+100000}\\n\")\n",
    "\n",
    "File_Input_UCSC_iHSTribe_1.close()"
   ]
  },
  {
   "cell_type": "code",
   "execution_count": 81,
   "metadata": {},
   "outputs": [],
   "source": [
    "iHSIndia1kgp_ordenado=iHSIndia1kgp[[\"chr\",\"pos\",\"normIHS\"]].sort_values(ascending=False, by=\"normIHS\").reset_index()\n",
    "iHSIndia1kgp_ordenado[\"chr\"]=list(map(lambda x: f\"chr{x}\",iHSIndia1kgp_ordenado[\"chr\"]))\n",
    "GreateriHSIndia1kgp_CHR_POS_Values=iHSIndia1kgp_ordenado[0:int(zeroumporcento_iHSIndia1kgp)]\n",
    "del GreateriHSIndia1kgp_CHR_POS_Values[\"normIHS\"]\n",
    "\n",
    "\n",
    "File_Input_UCSC_iHSIndia1kgp_1=open(\"IndiaResults/iHS/Input_UCSC_iHS_India1kgp_01_200kb.txt\", \"w\")\n",
    "\n",
    "for i in range(len(GreateriHSIndia1kgp_CHR_POS_Values)):\n",
    "    File_Input_UCSC_iHSIndia1kgp_1.write(f\"{GreateriHSIndia1kgp_CHR_POS_Values['chr'][i]}\\t{GreateriHSIndia1kgp_CHR_POS_Values['pos'][i]-100000}\\t{GreateriHSIndia1kgp_CHR_POS_Values['pos'][i]+100000}\\n\")\n",
    "\n",
    "File_Input_UCSC_iHSIndia1kgp_1.close()"
   ]
  },
  {
   "cell_type": "markdown",
   "metadata": {},
   "source": [
    "##### Tajima's D"
   ]
  },
  {
   "cell_type": "code",
   "execution_count": 23,
   "metadata": {},
   "outputs": [],
   "source": [
    "TajimasDIndia_ordenado_100kb=TajimasDIndia_100kb[[\"CHROM\",\"BIN_START\",\"TajimaD\"]].sort_values(ascending=True, by=\"TajimaD\").reset_index()\n",
    "TajimasDIndia_ordenado_100kb[\"CHROM\"]=list(map(lambda x: f\"chr{x}\",TajimasDIndia_ordenado_100kb[\"CHROM\"]))\n",
    "LowestTajimasDIndia_CHR_POS_Values_01_100kb=TajimasDIndia_ordenado_100kb[0:int(zeroumporcento_TajimasDIndia_100kb)]\n",
    "del LowestTajimasDIndia_CHR_POS_Values_01_100kb[\"TajimaD\"]\n",
    "\n",
    "\n",
    "File_Input_UCSC_TajimasDIndia_01_100kb=open(\"IndiaResults/TajimasD/Input_UCSC_TajimasD_India_01_100kb.txt\", \"w\")\n",
    "\n",
    "for i in range(len(LowestTajimasDIndia_CHR_POS_Values_01_100kb)):\n",
    "    File_Input_UCSC_TajimasDIndia_01_100kb.write(f\"{LowestTajimasDIndia_CHR_POS_Values_01_100kb['CHROM'][i]}\\t{LowestTajimasDIndia_CHR_POS_Values_01_100kb['BIN_START'][i]}\\t{LowestTajimasDIndia_CHR_POS_Values_01_100kb['BIN_START'][i]+100000}\\n\")\n",
    "\n",
    "File_Input_UCSC_TajimasDIndia_01_100kb.close()"
   ]
  },
  {
   "cell_type": "code",
   "execution_count": 24,
   "metadata": {},
   "outputs": [],
   "source": [
    "TajimasDCaste_ordenado_100kb=TajimasDCaste_100kb[[\"CHROM\",\"BIN_START\",\"TajimaD\"]].sort_values(ascending=True, by=\"TajimaD\").reset_index()\n",
    "TajimasDCaste_ordenado_100kb[\"CHROM\"]=list(map(lambda x: f\"chr{x}\",TajimasDCaste_ordenado_100kb[\"CHROM\"]))\n",
    "LowestTajimasDCaste_CHR_POS_Values_01_100kb=TajimasDCaste_ordenado_100kb[0:int(zeroumporcento_TajimasDCaste_100kb)]\n",
    "del LowestTajimasDCaste_CHR_POS_Values_01_100kb[\"TajimaD\"]\n",
    "\n",
    "\n",
    "File_Input_UCSC_TajimasDCaste_01_100kb=open(\"IndiaResults/TajimasD/Input_UCSC_TajimasD_Caste_01_100kb.txt\", \"w\")\n",
    "\n",
    "for i in range(len(LowestTajimasDCaste_CHR_POS_Values_01_100kb)):\n",
    "    File_Input_UCSC_TajimasDCaste_01_100kb.write(f\"{LowestTajimasDCaste_CHR_POS_Values_01_100kb['CHROM'][i]}\\t{LowestTajimasDCaste_CHR_POS_Values_01_100kb['BIN_START'][i]}\\t{LowestTajimasDCaste_CHR_POS_Values_01_100kb['BIN_START'][i]+100000}\\n\")\n",
    "\n",
    "File_Input_UCSC_TajimasDCaste_01_100kb.close()"
   ]
  },
  {
   "cell_type": "code",
   "execution_count": 25,
   "metadata": {},
   "outputs": [],
   "source": [
    "TajimasDTribe_ordenado_100kb=TajimasDTribe_100kb[[\"CHROM\",\"BIN_START\",\"TajimaD\"]].sort_values(ascending=True, by=\"TajimaD\").reset_index()\n",
    "TajimasDTribe_ordenado_100kb[\"CHROM\"]=list(map(lambda x: f\"chr{x}\",TajimasDTribe_ordenado_100kb[\"CHROM\"]))\n",
    "LowestTajimasDTribe_CHR_POS_Values_01_100kb=TajimasDTribe_ordenado_100kb[0:int(zeroumporcento_TajimasDTribe_100kb)]\n",
    "del LowestTajimasDTribe_CHR_POS_Values_01_100kb[\"TajimaD\"]\n",
    "\n",
    "\n",
    "File_Input_UCSC_TajimasDTribe_01_100kb=open(\"IndiaResults/TajimasD/Input_UCSC_TajimasD_Tribe_01_100kb.txt\", \"w\")\n",
    "\n",
    "for i in range(len(LowestTajimasDTribe_CHR_POS_Values_01_100kb)):\n",
    "    File_Input_UCSC_TajimasDTribe_01_100kb.write(f\"{LowestTajimasDTribe_CHR_POS_Values_01_100kb['CHROM'][i]}\\t{LowestTajimasDTribe_CHR_POS_Values_01_100kb['BIN_START'][i]}\\t{LowestTajimasDTribe_CHR_POS_Values_01_100kb['BIN_START'][i]+100000}\\n\")\n",
    "\n",
    "File_Input_UCSC_TajimasDTribe_01_100kb.close()"
   ]
  },
  {
   "cell_type": "code",
   "execution_count": 26,
   "metadata": {},
   "outputs": [],
   "source": [
    "TajimasDIndia1kgp_ordenado_100kb=TajimasDIndia1kgp_100kb[[\"CHROM\",\"BIN_START\",\"TajimaD\"]].sort_values(ascending=True, by=\"TajimaD\").reset_index()\n",
    "TajimasDIndia1kgp_ordenado_100kb[\"CHROM\"]=list(map(lambda x: f\"chr{x}\",TajimasDIndia1kgp_ordenado_100kb[\"CHROM\"]))\n",
    "LowestTajimasDIndia1kgp_CHR_POS_Values_01_100kb=TajimasDIndia1kgp_ordenado_100kb[0:int(zeroumporcento_TajimasDIndia1kgp_100kb)]\n",
    "del LowestTajimasDIndia1kgp_CHR_POS_Values_01_100kb[\"TajimaD\"]\n",
    "\n",
    "\n",
    "File_Input_UCSC_TajimasDIndia1kgp_01_100kb=open(\"IndiaResults/TajimasD/Input_UCSC_TajimasD_India1kgp_01_100kb.txt\", \"w\")\n",
    "\n",
    "for i in range(len(LowestTajimasDIndia1kgp_CHR_POS_Values_01_100kb)):\n",
    "    File_Input_UCSC_TajimasDIndia1kgp_01_100kb.write(f\"{LowestTajimasDIndia1kgp_CHR_POS_Values_01_100kb['CHROM'][i]}\\t{LowestTajimasDIndia1kgp_CHR_POS_Values_01_100kb['BIN_START'][i]}\\t{LowestTajimasDIndia1kgp_CHR_POS_Values_01_100kb['BIN_START'][i]+100000}\\n\")\n",
    "\n",
    "File_Input_UCSC_TajimasDIndia1kgp_01_100kb.close()"
   ]
  },
  {
   "cell_type": "code",
   "execution_count": 11,
   "metadata": {},
   "outputs": [],
   "source": [
    "TajimasDIndia1kgpHC_ordenado_100kb=TajimaDIndia1kgp_HC[[\"CHROM\",\"BIN_START\",\"TajimaD\"]].sort_values(ascending=True, by=\"TajimaD\").reset_index()\n",
    "TajimasDIndia1kgpHC_ordenado_100kb[\"CHROM\"]=list(map(lambda x: f\"chr{x}\",TajimasDIndia1kgpHC_ordenado_100kb[\"CHROM\"]))\n",
    "LowestTajimasDIndia1kgpHC_CHR_POS_Values_01_100kb=TajimasDIndia1kgpHC_ordenado_100kb[0:int(zeroumporcento_TajimasDIndia1kgpHC_100kb)]\n",
    "del LowestTajimasDIndia1kgpHC_CHR_POS_Values_01_100kb[\"TajimaD\"]\n",
    "\n",
    "\n",
    "File_Input_UCSC_TajimasDIndia1kgpHC_01_100kb=open(\"Input_UCSC_TajimasD_India1kgpHC_01_100kb.txt\", \"w\")\n",
    "\n",
    "for i in range(len(LowestTajimasDIndia1kgpHC_CHR_POS_Values_01_100kb)):\n",
    "    File_Input_UCSC_TajimasDIndia1kgpHC_01_100kb.write(f\"{LowestTajimasDIndia1kgpHC_CHR_POS_Values_01_100kb['CHROM'][i]}\\t{LowestTajimasDIndia1kgpHC_CHR_POS_Values_01_100kb['BIN_START'][i]}\\t{LowestTajimasDIndia1kgpHC_CHR_POS_Values_01_100kb['BIN_START'][i]+100000}\\n\")\n",
    "\n",
    "File_Input_UCSC_TajimasDIndia1kgpHC_01_100kb.close()"
   ]
  },
  {
   "cell_type": "markdown",
   "metadata": {},
   "source": [
    "##### CLR"
   ]
  },
  {
   "cell_type": "code",
   "execution_count": 75,
   "metadata": {},
   "outputs": [],
   "source": [
    "CLRIndia_ordenado=CLRIndia_10SNPs[[\"chr\",\"Position\",\"Likelihood\"]].sort_values(ascending=False, by=\"Likelihood\").reset_index()\n",
    "CLRIndia_ordenado[\"chr\"]=list(map(lambda x: f\"chr{x}\",CLRIndia_ordenado[\"chr\"]))\n",
    "GreaterCLRIndia_CHR_POS_Values=CLRIndia_ordenado[0:int(zeroumporcento_CLRIndia)]\n",
    "del GreaterCLRIndia_CHR_POS_Values[\"Likelihood\"]\n",
    "\n",
    "\n",
    "File_Input_UCSC_CLRIndia_1=open(\"IndiaResults/CLR/Input_UCSC_CLR_India_01_200kb_10SNPs.txt\", \"w\")\n",
    "\n",
    "for i in range(len(GreaterCLRIndia_CHR_POS_Values)):\n",
    "    File_Input_UCSC_CLRIndia_1.write(f\"{GreaterCLRIndia_CHR_POS_Values['chr'][i]}\\t{GreaterCLRIndia_CHR_POS_Values['Position'][i]}\\t{GreaterCLRIndia_CHR_POS_Values['Position'][i]+200000}\\n\")\n",
    "\n",
    "File_Input_UCSC_CLRIndia_1.close()"
   ]
  },
  {
   "cell_type": "code",
   "execution_count": 78,
   "metadata": {},
   "outputs": [],
   "source": [
    "CLRCaste_ordenado=CLRCaste_10SNPs[[\"chr\",\"Position\",\"Likelihood\"]].sort_values(ascending=False, by=\"Likelihood\").reset_index()\n",
    "CLRCaste_ordenado[\"chr\"]=list(map(lambda x: f\"chr{x}\",CLRCaste_ordenado[\"chr\"]))\n",
    "GreaterCLRCaste_CHR_POS_Values=CLRCaste_ordenado[0:int(zeroumporcento_CLRCaste)]\n",
    "del GreaterCLRCaste_CHR_POS_Values[\"Likelihood\"]\n",
    "\n",
    "\n",
    "File_Input_UCSC_CLRCaste_1=open(\"IndiaResults/CLR/Input_UCSC_CLR_Caste_01_200kb_10SNPs.txt\", \"w\")\n",
    "\n",
    "for i in range(len(GreaterCLRCaste_CHR_POS_Values)):\n",
    "    File_Input_UCSC_CLRCaste_1.write(f\"{GreaterCLRCaste_CHR_POS_Values['chr'][i]}\\t{GreaterCLRCaste_CHR_POS_Values['Position'][i]}\\t{GreaterCLRCaste_CHR_POS_Values['Position'][i]+200000}\\n\")\n",
    "\n",
    "File_Input_UCSC_CLRCaste_1.close()"
   ]
  },
  {
   "cell_type": "code",
   "execution_count": 79,
   "metadata": {},
   "outputs": [],
   "source": [
    "CLRTribe_ordenado=CLRTribe_10SNPs[[\"chr\",\"Position\",\"Likelihood\"]].sort_values(ascending=False, by=\"Likelihood\").reset_index()\n",
    "CLRTribe_ordenado[\"chr\"]=list(map(lambda x: f\"chr{x}\",CLRTribe_ordenado[\"chr\"]))\n",
    "GreaterCLRTribe_CHR_POS_Values=CLRTribe_ordenado[0:int(zeroumporcento_CLRTribe)]\n",
    "del GreaterCLRTribe_CHR_POS_Values[\"Likelihood\"]\n",
    "\n",
    "\n",
    "File_Input_UCSC_CLRTribe_1=open(\"IndiaResults/CLR/Input_UCSC_CLR_Tribe_01_200kb_10SNPs.txt\", \"w\")\n",
    "\n",
    "for i in range(len(GreaterCLRTribe_CHR_POS_Values)):\n",
    "    File_Input_UCSC_CLRTribe_1.write(f\"{GreaterCLRTribe_CHR_POS_Values['chr'][i]}\\t{GreaterCLRTribe_CHR_POS_Values['Position'][i]}\\t{GreaterCLRTribe_CHR_POS_Values['Position'][i]+200000}\\n\")\n",
    "\n",
    "File_Input_UCSC_CLRTribe_1.close()"
   ]
  },
  {
   "cell_type": "code",
   "execution_count": 80,
   "metadata": {},
   "outputs": [],
   "source": [
    "CLRIndia1kgp_ordenado=CLRIndia1kgp_10SNPs[[\"chr\",\"Position\",\"Likelihood\"]].sort_values(ascending=False, by=\"Likelihood\").reset_index()\n",
    "CLRIndia1kgp_ordenado[\"chr\"]=list(map(lambda x: f\"chr{x}\",CLRIndia1kgp_ordenado[\"chr\"]))\n",
    "GreaterCLRIndia1kgp_CHR_POS_Values=CLRIndia1kgp_ordenado[0:int(zeroumporcento_CLRIndia1kgp)]\n",
    "del GreaterCLRIndia1kgp_CHR_POS_Values[\"Likelihood\"]\n",
    "\n",
    "\n",
    "File_Input_UCSC_CLRIndia1kgp_1=open(\"IndiaResults/CLR/Input_UCSC_CLR_India1kgp_01_200kb_10SNPs.txt\", \"w\")\n",
    "\n",
    "for i in range(len(GreaterCLRIndia1kgp_CHR_POS_Values)):\n",
    "    File_Input_UCSC_CLRIndia1kgp_1.write(f\"{GreaterCLRIndia1kgp_CHR_POS_Values['chr'][i]}\\t{GreaterCLRIndia1kgp_CHR_POS_Values['Position'][i]}\\t{GreaterCLRIndia1kgp_CHR_POS_Values['Position'][i]+200000}\\n\")\n",
    "\n",
    "File_Input_UCSC_CLRIndia1kgp_1.close()"
   ]
  },
  {
   "cell_type": "code",
   "execution_count": 32,
   "metadata": {},
   "outputs": [],
   "source": [
    "CLRIndia1kgpHC_ordenado=CLRIndia1kgp_HC[[\"chr\",\"Position\",\"Likelihood\"]].sort_values(ascending=False, by=\"Likelihood\").reset_index()\n",
    "CLRIndia1kgpHC_ordenado[\"chr\"]=list(map(lambda x: f\"chr{x}\",CLRIndia1kgpHC_ordenado[\"chr\"]))\n",
    "GreaterCLRIndia1kgpHC_CHR_POS_Values=CLRIndia1kgpHC_ordenado[0:int(zeroumporcento_CLRIndia1kgpHC_10SNPs)]\n",
    "del GreaterCLRIndia1kgpHC_CHR_POS_Values[\"Likelihood\"]\n",
    "\n",
    "\n",
    "File_Input_UCSC_CLRIndia1kgpHC_01=open(\"Input_UCSC_CLR_India1kgp_01_200kb_10SNPs.txt\", \"w\")\n",
    "\n",
    "for i in range(len(GreaterCLRIndia1kgpHC_CHR_POS_Values)):\n",
    "    File_Input_UCSC_CLRIndia1kgpHC_01.write(f\"{GreaterCLRIndia1kgpHC_CHR_POS_Values['chr'][i]}\\t{GreaterCLRIndia1kgpHC_CHR_POS_Values['Position'][i]}\\t{GreaterCLRIndia1kgpHC_CHR_POS_Values['Position'][i]+200000}\\n\")\n",
    "\n",
    "File_Input_UCSC_CLRIndia1kgpHC_01.close()"
   ]
  },
  {
   "cell_type": "markdown",
   "metadata": {},
   "source": [
    "##### GRoSS"
   ]
  },
  {
   "cell_type": "code",
   "execution_count": 90,
   "metadata": {},
   "outputs": [],
   "source": [
    "GRoSSIndia_ordenado=GRoSSIndia[[\"CHR\",\"START\",\"END\",\"Pval_PreIndia_Europe2\"]].sort_values(ascending=True, by=\"Pval_PreIndia_Europe2\").reset_index()\n",
    "GRoSSIndia_ordenado[\"CHR\"]=list(map(lambda x: f\"chr{x}\",GRoSSIndia_ordenado[\"CHR\"]))\n",
    "LowestGRoSSIndia_CHR_POS_Values=GRoSSIndia_ordenado[0:int(zeroumporcento_GRoSSIndia)]\n",
    "del LowestGRoSSIndia_CHR_POS_Values[\"Pval_PreIndia_Europe2\"]\n",
    "\n",
    "\n",
    "File_Input_UCSC_GRoSSIndia_1=open(\"IndiaResults/GRoSS/Input_UCSC_GRoSS_India_01_200kb.txt\", \"w\")\n",
    "\n",
    "for i in range(len(LowestGRoSSIndia_CHR_POS_Values)):\n",
    "    File_Input_UCSC_GRoSSIndia_1.write(f\"{LowestGRoSSIndia_CHR_POS_Values['CHR'][i]}\\t{LowestGRoSSIndia_CHR_POS_Values['START'][i]-100000}\\t{LowestGRoSSIndia_CHR_POS_Values['END'][i]+100000}\\n\")\n",
    "\n",
    "File_Input_UCSC_GRoSSIndia_1.close()"
   ]
  },
  {
   "cell_type": "code",
   "execution_count": 91,
   "metadata": {},
   "outputs": [],
   "source": [
    "GRoSSCaste_ordenado=GRoSSCasteTribe[[\"CHR\",\"START\",\"END\",\"Pval_PreCaste_Europe2\"]].sort_values(ascending=True, by=\"Pval_PreCaste_Europe2\").reset_index()\n",
    "GRoSSCaste_ordenado[\"CHR\"]=list(map(lambda x: f\"chr{x}\",GRoSSCaste_ordenado[\"CHR\"]))\n",
    "LowestGRoSSCaste_CHR_POS_Values=GRoSSCaste_ordenado[0:int(zeroumporcento_GRoSSCaste)]\n",
    "del LowestGRoSSCaste_CHR_POS_Values[\"Pval_PreCaste_Europe2\"]\n",
    "\n",
    "\n",
    "File_Input_UCSC_GRoSSCaste_1=open(\"IndiaResults/GRoSS/Input_UCSC_GRoSS_Caste_01_200kb.txt\", \"w\")\n",
    "\n",
    "for i in range(len(LowestGRoSSCaste_CHR_POS_Values)):\n",
    "    File_Input_UCSC_GRoSSCaste_1.write(f\"{LowestGRoSSCaste_CHR_POS_Values['CHR'][i]}\\t{LowestGRoSSCaste_CHR_POS_Values['START'][i]-100000}\\t{LowestGRoSSCaste_CHR_POS_Values['END'][i]+100000}\\n\")\n",
    "\n",
    "File_Input_UCSC_GRoSSCaste_1.close()"
   ]
  },
  {
   "cell_type": "code",
   "execution_count": 94,
   "metadata": {},
   "outputs": [],
   "source": [
    "GRoSSTribe_ordenado=GRoSSCasteTribe[[\"CHR\",\"START\",\"END\",\"Pval_PreTribe_Europe2\"]].sort_values(ascending=True, by=\"Pval_PreTribe_Europe2\").reset_index()\n",
    "GRoSSTribe_ordenado[\"CHR\"]=list(map(lambda x: f\"chr{x}\",GRoSSTribe_ordenado[\"CHR\"]))\n",
    "LowestGRoSSTribe_CHR_POS_Values=GRoSSTribe_ordenado[0:int(zeroumporcento_GRoSSTribe)]\n",
    "del LowestGRoSSTribe_CHR_POS_Values[\"Pval_PreTribe_Europe2\"]\n",
    "\n",
    "\n",
    "File_Input_UCSC_GRoSSTribe_1=open(\"IndiaResults/GRoSS/Input_UCSC_GRoSS_Tribe_01_200kb.txt\", \"w\")\n",
    "\n",
    "for i in range(len(LowestGRoSSTribe_CHR_POS_Values)):\n",
    "    File_Input_UCSC_GRoSSTribe_1.write(f\"{LowestGRoSSTribe_CHR_POS_Values['CHR'][i]}\\t{LowestGRoSSTribe_CHR_POS_Values['START'][i]-100000}\\t{LowestGRoSSTribe_CHR_POS_Values['END'][i]+100000}\\n\")\n",
    "\n",
    "File_Input_UCSC_GRoSSTribe_1.close()"
   ]
  },
  {
   "cell_type": "code",
   "execution_count": 97,
   "metadata": {},
   "outputs": [],
   "source": [
    "GRoSSIndia1kgp_ordenado=GRoSSIndia1kgp[[\"CHR\",\"START\",\"END\",\"Pval_PreIndia_Europe2\"]].sort_values(ascending=True, by=\"Pval_PreIndia_Europe2\").reset_index()\n",
    "GRoSSIndia1kgp_ordenado[\"CHR\"]=list(map(lambda x: f\"chr{x}\",GRoSSIndia1kgp_ordenado[\"CHR\"]))\n",
    "LowestGRoSSIndia1kgp_CHR_POS_Values=GRoSSIndia1kgp_ordenado[0:int(zeroumporcento_GRoSSIndia1kgp)]\n",
    "del LowestGRoSSIndia1kgp_CHR_POS_Values[\"Pval_PreIndia_Europe2\"]\n",
    "\n",
    "\n",
    "File_Input_UCSC_GRoSSIndia1kgp_1=open(\"IndiaResults/GRoSS/Input_UCSC_GRoSS_India1kgp_01_200kb.txt\", \"w\")\n",
    "\n",
    "for i in range(len(LowestGRoSSIndia1kgp_CHR_POS_Values)):\n",
    "    File_Input_UCSC_GRoSSIndia1kgp_1.write(f\"{LowestGRoSSIndia1kgp_CHR_POS_Values['CHR'][i]}\\t{LowestGRoSSIndia1kgp_CHR_POS_Values['START'][i]-100000}\\t{LowestGRoSSIndia1kgp_CHR_POS_Values['END'][i]+100000}\\n\")\n",
    "\n",
    "File_Input_UCSC_GRoSSIndia1kgp_1.close()"
   ]
  }
 ],
 "metadata": {
  "kernelspec": {
   "display_name": "Python 3 (ipykernel)",
   "language": "python",
   "name": "python3"
  },
  "language_info": {
   "codemirror_mode": {
    "name": "ipython",
    "version": 3
   },
   "file_extension": ".py",
   "mimetype": "text/x-python",
   "name": "python",
   "nbconvert_exporter": "python",
   "pygments_lexer": "ipython3",
   "version": "3.9.6"
  }
 },
 "nbformat": 4,
 "nbformat_minor": 4
}
