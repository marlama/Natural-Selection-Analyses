{
 "cells": [
  {
   "cell_type": "code",
   "execution_count": 1,
   "metadata": {},
   "outputs": [],
   "source": [
    "import pandas as pd\n",
    "import numpy as np"
   ]
  },
  {
   "cell_type": "markdown",
   "metadata": {},
   "source": [
    "### Read Files\n"
   ]
  },
  {
   "cell_type": "code",
   "execution_count": 3,
   "metadata": {},
   "outputs": [],
   "source": [
    "Genes_PBS_India=pd.read_csv('IndiaResults/PBS/FinalResultsGenes/1%/PBS_India_1%_UCSC_GenesForRegions', sep=\"\\t\", header=0)\n",
    "Genes_PBS_Caste=pd.read_csv('IndiaResults/PBS/FinalResultsGenes/1%/PBS_Caste_1%_UCSC_GenesForRegions', sep=\"\\t\", header=0)\n",
    "Genes_PBS_Tribe=pd.read_csv('IndiaResults/PBS/FinalResultsGenes/1%/PBS_Tribe_1%_UCSC_GenesForRegions', sep=\"\\t\", header=0)\n",
    "Genes_PBS_India1kgp=pd.read_csv('IndiaResults/PBS/FinalResultsGenes/1%/PBS_India1kgp_1%_UCSC_GenesForRegions', sep=\"\\t\", header=0)"
   ]
  },
  {
   "cell_type": "code",
   "execution_count": 4,
   "metadata": {},
   "outputs": [],
   "source": [
    "Genes_PBS_India_01=pd.read_csv('IndiaResults/PBS/FinalResultsGenes/0.1%/PBS_India_01%_UCSC_GenesForRegions', sep=\"\\t\", header=0)\n",
    "Genes_PBS_Caste_01=pd.read_csv('IndiaResults/PBS/FinalResultsGenes/0.1%/PBS_Caste_01%_UCSC_GenesForRegions', sep=\"\\t\", header=0)\n",
    "Genes_PBS_Tribe_01=pd.read_csv('IndiaResults/PBS/FinalResultsGenes/0.1%/PBS_Tribe_01%_UCSC_GenesForRegions', sep=\"\\t\", header=0)\n",
    "Genes_PBS_India1kgp_01=pd.read_csv('IndiaResults/PBS/FinalResultsGenes/0.1%/PBS_India1kgp_01%_UCSC_GenesForRegions', sep=\"\\t\", header=0)"
   ]
  },
  {
   "cell_type": "code",
   "execution_count": 2,
   "metadata": {},
   "outputs": [],
   "source": [
    "Genes_PBS_India1kgpHC=pd.read_csv('PBS_India1kgpHC_01%_UCSC_GenesForRegions', sep=\"\\t\", header=0)"
   ]
  },
  {
   "cell_type": "code",
   "execution_count": 5,
   "metadata": {},
   "outputs": [],
   "source": [
    "Genes_PBS_India_05=pd.read_csv('IndiaResults/PBS/FinalResultsGenes/0.5%/PBS_India_0.5%_UCSC_GenesForRegions', sep=\"\\t\", header=0)\n",
    "Genes_PBS_Caste_05=pd.read_csv('IndiaResults/PBS/FinalResultsGenes/0.5%/PBS_Caste_0.5%_UCSC_GenesForRegions', sep=\"\\t\", header=0)\n",
    "Genes_PBS_Tribe_05=pd.read_csv('IndiaResults/PBS/FinalResultsGenes/0.5%/PBS_Tribe_0.5%_UCSC_GenesForRegions', sep=\"\\t\", header=0)\n",
    "Genes_PBS_India5kgp_05=pd.read_csv('IndiaResults/PBS/FinalResultsGenes/0.5%/PBS_Indian1kgp_0.5%_UCSC_GenesForRegions', sep=\"\\t\", header=0)"
   ]
  },
  {
   "cell_type": "code",
   "execution_count": null,
   "metadata": {},
   "outputs": [],
   "source": []
  },
  {
   "cell_type": "code",
   "execution_count": 6,
   "metadata": {},
   "outputs": [],
   "source": [
    "Genes_xpEHH_India_200kb=pd.read_csv('IndiaResults/xpEHH/FinalResultsGenes/1%/xpEHH_India_1%_UCSC_GenesForRegions_200kb', sep=\"\\t\", header=0)\n",
    "Genes_xpEHH_Caste_200kb=pd.read_csv('IndiaResults/xpEHH/FinalResultsGenes/1%/xpEHH_Caste_1%_UCSC_GenesForRegions_200kb', sep=\"\\t\", header=0)\n",
    "Genes_xpEHH_Tribe_200kb=pd.read_csv('IndiaResults/xpEHH/FinalResultsGenes/1%/xpEHH_Tribe_1%_UCSC_GenesForRegions_200kb', sep=\"\\t\", header=0)\n",
    "Genes_xpEHH_India1kgp_200kb=pd.read_csv('IndiaResults/xpEHH/FinalResultsGenes/1%/xpEHH_Indian1kgp_1%_UCSC_GenesForRegions_200kb', sep=\"\\t\", header=0)"
   ]
  },
  {
   "cell_type": "code",
   "execution_count": 7,
   "metadata": {},
   "outputs": [],
   "source": [
    "Genes_xpEHH_India_01_200kb=pd.read_csv('IndiaResults/xpEHH/FinalResultsGenes/0.1%/xpEHH_India_01%_UCSC_GenesForRegions_200kb', sep=\"\\t\", header=0)\n",
    "Genes_xpEHH_Caste_01_200kb=pd.read_csv('IndiaResults/xpEHH/FinalResultsGenes/0.1%/xpEHH_Caste_01%_UCSC_GenesForRegions_200kb', sep=\"\\t\", header=0)\n",
    "Genes_xpEHH_Tribe_01_200kb=pd.read_csv('IndiaResults/xpEHH/FinalResultsGenes/0.1%/xpEHH_Tribe_01%_UCSC_GenesForRegions_200kb', sep=\"\\t\", header=0)\n",
    "Genes_xpEHH_India1kgp_01_200kb=pd.read_csv('IndiaResults/xpEHH/FinalResultsGenes/0.1%/xpEHH_India1kgp_01%_UCSC_GenesForRegions_200kb', sep=\"\\t\", header=0)"
   ]
  },
  {
   "cell_type": "code",
   "execution_count": 8,
   "metadata": {},
   "outputs": [],
   "source": [
    "Genes_xpEHH_India_05_200kb=pd.read_csv('IndiaResults/xpEHH/FinalResultsGenes/0.5%/xpEHH_India_0.5%.5%_UCSC_GenesForRegions_200kb', sep=\"\\t\", header=0)\n",
    "Genes_xpEHH_Caste_05_200kb=pd.read_csv('IndiaResults/xpEHH/FinalResultsGenes/0.5%/xpEHH_Caste_0.5%.5%_UCSC_GenesForRegions_200kb', sep=\"\\t\", header=0)\n",
    "Genes_xpEHH_Tribe_05_200kb=pd.read_csv('IndiaResults/xpEHH/FinalResultsGenes/0.5%/xpEHH_Tribe_0.5%.5%_UCSC_GenesForRegions_200kb', sep=\"\\t\", header=0)\n",
    "Genes_xpEHH_India5kgp_05_200kb=pd.read_csv('IndiaResults/xpEHH/FinalResultsGenes/0.5%/xpEHH_Indian1kgp_0.5%.5%_UCSC_GenesForRegions_200kb', sep=\"\\t\", header=0)"
   ]
  },
  {
   "cell_type": "code",
   "execution_count": null,
   "metadata": {},
   "outputs": [],
   "source": []
  },
  {
   "cell_type": "code",
   "execution_count": 9,
   "metadata": {},
   "outputs": [],
   "source": [
    "Genes_iHS_India_200kb=pd.read_csv('IndiaResults/iHS/FinalResultsGenes/1%/iHS_India_1%_UCSC_GenesForRegions_200kb', sep=\"\\t\", header=0)\n",
    "Genes_iHS_Caste_200kb=pd.read_csv('IndiaResults/iHS/FinalResultsGenes/1%/iHS_Caste_1%_UCSC_GenesForRegions_200kb', sep=\"\\t\", header=0)\n",
    "Genes_iHS_Tribe_200kb=pd.read_csv('IndiaResults/iHS/FinalResultsGenes/1%/iHS_Tribe_1%_UCSC_GenesForRegions_200kb', sep=\"\\t\", header=0)\n",
    "Genes_iHS_India1kgp_200kb=pd.read_csv('IndiaResults/iHS/FinalResultsGenes/1%/iHS_Indian1kgp_1%_UCSC_GenesForRegions_200kb', sep=\"\\t\", header=0)"
   ]
  },
  {
   "cell_type": "code",
   "execution_count": 10,
   "metadata": {},
   "outputs": [],
   "source": [
    "Genes_iHS_India_01_200kb=pd.read_csv('IndiaResults/iHS/FinalResultsGenes/0.1%/iHS_India_01%_UCSC_GenesForRegions_200kb', sep=\"\\t\", header=0)\n",
    "Genes_iHS_Caste_01_200kb=pd.read_csv('IndiaResults/iHS/FinalResultsGenes/0.1%/iHS_Caste_01%_UCSC_GenesForRegions_200kb', sep=\"\\t\", header=0)\n",
    "Genes_iHS_Tribe_01_200kb=pd.read_csv('IndiaResults/iHS/FinalResultsGenes/0.1%/iHS_Tribe_01%_UCSC_GenesForRegions_200kb', sep=\"\\t\", header=0)\n",
    "Genes_iHS_India1kgp_01_200kb=pd.read_csv('IndiaResults/iHS/FinalResultsGenes/0.1%/iHS_India1kgp_01%_UCSC_GenesForRegions_200kb', sep=\"\\t\", header=0)"
   ]
  },
  {
   "cell_type": "code",
   "execution_count": 11,
   "metadata": {},
   "outputs": [],
   "source": [
    "Genes_iHS_India_05_200kb=pd.read_csv('IndiaResults/iHS/FinalResultsGenes/0.5%/iHS_India_0.5%.5%_UCSC_GenesForRegions_200kb', sep=\"\\t\", header=0)\n",
    "Genes_iHS_Caste_05_200kb=pd.read_csv('IndiaResults/iHS/FinalResultsGenes/0.5%/iHS_Caste_0.5%.5%_UCSC_GenesForRegions_200kb', sep=\"\\t\", header=0)\n",
    "Genes_iHS_Tribe_05_200kb=pd.read_csv('IndiaResults/iHS/FinalResultsGenes/0.5%/iHS_Tribe_0.5%.5%_UCSC_GenesForRegions_200kb', sep=\"\\t\", header=0)\n",
    "Genes_iHS_India5kgp_05_200kb=pd.read_csv('IndiaResults/iHS/FinalResultsGenes/0.5%/iHS_Indian1kgp_0.5%.5%_UCSC_GenesForRegions_200kb', sep=\"\\t\", header=0)"
   ]
  },
  {
   "cell_type": "code",
   "execution_count": null,
   "metadata": {},
   "outputs": [],
   "source": []
  },
  {
   "cell_type": "code",
   "execution_count": 32,
   "metadata": {},
   "outputs": [],
   "source": [
    "Genes_CLR_India_200kb=pd.read_csv('IndiaResults/CLR/FinalResultsGenes/1%/CLR_India_10SNPs_1%_UCSC_GenesForRegions', sep=\"\\t\", header=0)\n",
    "Genes_CLR_Caste_200kb=pd.read_csv('IndiaResults/CLR/FinalResultsGenes/1%/CLR_Caste_10SNPs_1%_UCSC_GenesForRegions', sep=\"\\t\", header=0)\n",
    "Genes_CLR_Tribe_200kb=pd.read_csv('IndiaResults/CLR/FinalResultsGenes/1%/CLR_Tribe_10SNPs_1%_UCSC_GenesForRegions', sep=\"\\t\", header=0)\n",
    "Genes_CLR_India1kgp_200kb=pd.read_csv('IndiaResults/CLR/FinalResultsGenes/1%/CLR_India1kgp_10SNPs_1%_UCSC_GenesForRegions', sep=\"\\t\", header=0)"
   ]
  },
  {
   "cell_type": "code",
   "execution_count": 33,
   "metadata": {},
   "outputs": [],
   "source": [
    "Genes_CLR_India_01_200kb=pd.read_csv('IndiaResults/CLR/FinalResultsGenes/0.1%/CLR_India_10SNPs_01%_UCSC_GenesForRegions', sep=\"\\t\", header=0)\n",
    "Genes_CLR_Caste_01_200kb=pd.read_csv('IndiaResults/CLR/FinalResultsGenes/0.1%/CLR_Caste_10SNPs_01%_UCSC_GenesForRegions', sep=\"\\t\", header=0)\n",
    "Genes_CLR_Tribe_01_200kb=pd.read_csv('IndiaResults/CLR/FinalResultsGenes/0.1%/CLR_Tribe_10SNPs_01%_UCSC_GenesForRegions', sep=\"\\t\", header=0)\n",
    "Genes_CLR_India1kgp_01_200kb=pd.read_csv('IndiaResults/CLR/FinalResultsGenes/0.1%/CLR_India1kgp_10SNPs_01%_UCSC_GenesForRegions', sep=\"\\t\", header=0)"
   ]
  },
  {
   "cell_type": "code",
   "execution_count": 34,
   "metadata": {},
   "outputs": [],
   "source": [
    "Genes_CLR_India_05_200kb=pd.read_csv('IndiaResults/CLR/FinalResultsGenes/0.5%/CLR_India_10SNPs_0.5%_UCSC_GenesForRegions', sep=\"\\t\", header=0)\n",
    "Genes_CLR_Caste_05_200kb=pd.read_csv('IndiaResults/CLR/FinalResultsGenes/0.5%/CLR_Caste_10SNPs_0.5%_UCSC_GenesForRegions', sep=\"\\t\", header=0)\n",
    "Genes_CLR_Tribe_05_200kb=pd.read_csv('IndiaResults/CLR/FinalResultsGenes/0.5%/CLR_Tribe_10SNPs_0.5%_UCSC_GenesForRegions', sep=\"\\t\", header=0)\n",
    "Genes_CLR_India5kgp_05_200kb=pd.read_csv('IndiaResults/CLR/FinalResultsGenes/0.5%/CLR_India1kgp_10SNPs_0.5%_UCSC_GenesForRegions', sep=\"\\t\", header=0)"
   ]
  },
  {
   "cell_type": "code",
   "execution_count": null,
   "metadata": {},
   "outputs": [],
   "source": []
  },
  {
   "cell_type": "code",
   "execution_count": 18,
   "metadata": {},
   "outputs": [],
   "source": [
    "Genes_TajimasD_India_1_100kb=pd.read_csv('IndiaResults/TajimasD/FinalResultsGenes/1%/TajimasD_India_1%_UCSC_GenesForRegions_100kb', sep=\"\\t\", header=0)\n",
    "Genes_TajimasD_Caste_1_100kb=pd.read_csv('IndiaResults/TajimasD/FinalResultsGenes/1%/TajimasD_Caste_1%_UCSC_GenesForRegions_100kb', sep=\"\\t\", header=0)\n",
    "Genes_TajimasD_Tribe_1_100kb=pd.read_csv('IndiaResults/TajimasD/FinalResultsGenes/1%/TajimasD_Tribe_1%_UCSC_GenesForRegions_100kb', sep=\"\\t\", header=0)\n",
    "Genes_TajimasD_India1kgp_1_100kb=pd.read_csv('IndiaResults/TajimasD/FinalResultsGenes/1%/TajimasD_Indian1kgp_1%_UCSC_GenesForRegions_100kb', sep=\"\\t\", header=0)"
   ]
  },
  {
   "cell_type": "code",
   "execution_count": 19,
   "metadata": {},
   "outputs": [],
   "source": [
    "Genes_TajimasD_India_01_100kb=pd.read_csv('IndiaResults/TajimasD/FinalResultsGenes/0.1%/TajimasD_India_01%_UCSC_GenesForRegions_100kb', sep=\"\\t\", header=0)\n",
    "Genes_TajimasD_Caste_01_100kb=pd.read_csv('IndiaResults/TajimasD/FinalResultsGenes/0.1%/TajimasD_Caste_01%_UCSC_GenesForRegions_100kb', sep=\"\\t\", header=0)\n",
    "Genes_TajimasD_Tribe_01_100kb=pd.read_csv('IndiaResults/TajimasD/FinalResultsGenes/0.1%/TajimasD_Tribe_01%_UCSC_GenesForRegions_100kb', sep=\"\\t\", header=0)\n",
    "Genes_TajimasD_India1kgp_01_100kb=pd.read_csv('IndiaResults/TajimasD/FinalResultsGenes/0.1%/TajimasD_Indian1kgp_01%_UCSC_GenesForRegions_100kb', sep=\"\\t\", header=0)"
   ]
  },
  {
   "cell_type": "code",
   "execution_count": 20,
   "metadata": {},
   "outputs": [],
   "source": [
    "Genes_TajimasD_India_05_100kb=pd.read_csv('IndiaResults/TajimasD/FinalResultsGenes/0.5%/TajimasD_India_05%_UCSC_GenesForRegions_100kb', sep=\"\\t\", header=0)\n",
    "Genes_TajimasD_Caste_05_100kb=pd.read_csv('IndiaResults/TajimasD/FinalResultsGenes/0.5%/TajimasD_Caste_05%_UCSC_GenesForRegions_100kb', sep=\"\\t\", header=0)\n",
    "Genes_TajimasD_Tribe_05_100kb=pd.read_csv('IndiaResults/TajimasD/FinalResultsGenes/0.5%/TajimasD_Tribe_05%_UCSC_GenesForRegions_100kb', sep=\"\\t\", header=0)\n",
    "Genes_TajimasD_India5kgp_05_100kb=pd.read_csv('IndiaResults/TajimasD/FinalResultsGenes/0.5%/TajimasD_Indian1kgp_05%_UCSC_GenesForRegions_100kb', sep=\"\\t\", header=0)"
   ]
  },
  {
   "cell_type": "code",
   "execution_count": null,
   "metadata": {},
   "outputs": [],
   "source": []
  },
  {
   "cell_type": "code",
   "execution_count": 23,
   "metadata": {},
   "outputs": [],
   "source": [
    "Genes_GRoSS_India=pd.read_csv('IndiaResults/GRoSS/FinalResultsGenes/1%/GRoSS_India_1%_UCSC_GenesForRegions', sep=\"\\t\", header=0)\n",
    "Genes_GRoSS_Caste=pd.read_csv('IndiaResults/GRoSS/FinalResultsGenes/1%/GRoSS_Caste_1%_UCSC_GenesForRegions', sep=\"\\t\", header=0)\n",
    "Genes_GRoSS_Tribe=pd.read_csv('IndiaResults/GRoSS/FinalResultsGenes/1%/GRoSS_Tribe_1%_UCSC_GenesForRegions', sep=\"\\t\", header=0)\n",
    "Genes_GRoSS_India1kgp=pd.read_csv('IndiaResults/GRoSS/FinalResultsGenes/1%/GRoSS_India1kgp_1%_UCSC_GenesForRegions', sep=\"\\t\", header=0)"
   ]
  },
  {
   "cell_type": "code",
   "execution_count": 25,
   "metadata": {},
   "outputs": [],
   "source": [
    "Genes_GRoSS_India_200kb=pd.read_csv('IndiaResults/GRoSS/FinalResultsGenes/1%/GRoSS_India_1%_UCSC_GenesForRegions_200kb', sep=\"\\t\", header=0)\n",
    "Genes_GRoSS_Caste_200kb=pd.read_csv('IndiaResults/GRoSS/FinalResultsGenes/1%/GRoSS_Caste_1%_UCSC_GenesForRegions_200kb', sep=\"\\t\", header=0)\n",
    "Genes_GRoSS_Tribe_200kb=pd.read_csv('IndiaResults/GRoSS/FinalResultsGenes/1%/GRoSS_Tribe_1%_UCSC_GenesForRegions_200kb', sep=\"\\t\", header=0)\n",
    "Genes_GRoSS_India1kgp_200kb=pd.read_csv('IndiaResults/GRoSS/FinalResultsGenes/1%/GRoSS_Indian1kgp_1%_UCSC_GenesForRegions_200kb', sep=\"\\t\", header=0)"
   ]
  },
  {
   "cell_type": "code",
   "execution_count": 20,
   "metadata": {},
   "outputs": [],
   "source": [
    "Genes_GRoSS_India_01=pd.read_csv('IndiaResults/GRoSS/FinalResultsGenes/0.1%/GRoSS_India_01%_UCSC_GenesForRegions', sep=\"\\t\", header=0)\n",
    "Genes_GRoSS_Caste_01=pd.read_csv('IndiaResults/GRoSS/FinalResultsGenes/0.1%/GRoSS_Caste_01%_UCSC_GenesForRegions', sep=\"\\t\", header=0)\n",
    "Genes_GRoSS_Tribe_01=pd.read_csv('IndiaResults/GRoSS/FinalResultsGenes/0.1%/GRoSS_Tribe_01%_UCSC_GenesForRegions', sep=\"\\t\", header=0)\n",
    "Genes_GRoSS_India1kgp_01=pd.read_csv('IndiaResults/GRoSS/FinalResultsGenes/0.1%/GRoSS_India1kgp_01%_UCSC_GenesForRegions', sep=\"\\t\", header=0)"
   ]
  },
  {
   "cell_type": "code",
   "execution_count": 21,
   "metadata": {},
   "outputs": [],
   "source": [
    "Genes_GRoSS_India_01_200kb=pd.read_csv('IndiaResults/GRoSS/FinalResultsGenes/0.1%/GRoSS_India_01%_UCSC_GenesForRegions_200kb', sep=\"\\t\", header=0)\n",
    "Genes_GRoSS_Caste_01_200kb=pd.read_csv('IndiaResults/GRoSS/FinalResultsGenes/0.1%/GRoSS_Caste_01%_UCSC_GenesForRegions_200kb', sep=\"\\t\", header=0)\n",
    "Genes_GRoSS_Tribe_01_200kb=pd.read_csv('IndiaResults/GRoSS/FinalResultsGenes/0.1%/GRoSS_Tribe_01%_UCSC_GenesForRegions_200kb', sep=\"\\t\", header=0)\n",
    "Genes_GRoSS_India1kgp_01_200kb=pd.read_csv('IndiaResults/GRoSS/FinalResultsGenes/0.1%/GRoSS_India1kgp_01%_UCSC_GenesForRegions_200kb', sep=\"\\t\", header=0)"
   ]
  },
  {
   "cell_type": "code",
   "execution_count": 26,
   "metadata": {},
   "outputs": [],
   "source": [
    "Genes_GRoSS_India_05_200kb=pd.read_csv('IndiaResults/GRoSS/FinalResultsGenes/0.5%/GRoSS_India_0.5%.5%_UCSC_GenesForRegions_200kb', sep=\"\\t\", header=0)\n",
    "Genes_GRoSS_Caste_05_200kb=pd.read_csv('IndiaResults/GRoSS/FinalResultsGenes/0.5%/GRoSS_Caste_0.5%.5%_UCSC_GenesForRegions_200kb', sep=\"\\t\", header=0)\n",
    "Genes_GRoSS_Tribe_05_200kb=pd.read_csv('IndiaResults/GRoSS/FinalResultsGenes/0.5%/GRoSS_Tribe_0.5%.5%_UCSC_GenesForRegions_200kb', sep=\"\\t\", header=0)\n",
    "Genes_GRoSS_India5kgp_05_200kb=pd.read_csv('IndiaResults/GRoSS/FinalResultsGenes/0.5%/GRoSS_Indian1kgp_0.5%.5%_UCSC_GenesForRegions_200kb', sep=\"\\t\", header=0)"
   ]
  },
  {
   "cell_type": "markdown",
   "metadata": {},
   "source": [
    "### Common Genes Between Groups 1%"
   ]
  },
  {
   "cell_type": "markdown",
   "metadata": {},
   "source": [
    "#### PBS"
   ]
  },
  {
   "cell_type": "code",
   "execution_count": 12,
   "metadata": {},
   "outputs": [],
   "source": [
    "GenesComuns_PBS=np.intersect1d(np.intersect1d(Genes_PBS_India,Genes_PBS_Caste), np.intersect1d(Genes_PBS_Tribe,Genes_PBS_India1kgp))\n",
    "\n",
    "File_GenesComuns_PBS=open(\"IndiaResults/PBS/FinalResultsGenes/PBS_GenesComuns_GreaterOnePercent.txt\", \"w\")\n",
    "\n",
    "for i in range(len(GenesComuns_PBS)):\n",
    "    for a in range(len(Genes_PBS_India[\"hg19.kgXref.geneSymbol\"])):\n",
    "        if GenesComuns_PBS[i] == Genes_PBS_India[\"hg19.kgXref.geneSymbol\"][a]:\n",
    "            File_GenesComuns_PBS.write(f\"{Genes_PBS_India['hg19.knownGene.chrom'][a]}\\t{Genes_PBS_India['#hg19.knownGene.name'][a]}\\t{Genes_PBS_India['hg19.kgXref.geneSymbol'][a]}\\n\")"
   ]
  },
  {
   "cell_type": "markdown",
   "metadata": {},
   "source": [
    "#### xpEHH"
   ]
  },
  {
   "cell_type": "code",
   "execution_count": 23,
   "metadata": {},
   "outputs": [],
   "source": [
    "GenesComuns_xpEHH=np.intersect1d(np.intersect1d(Genes_xpEHH_India_200kb[\"hg19.kgXref.geneSymbol\"],Genes_xpEHH_Caste_200kb[\"hg19.kgXref.geneSymbol\"]), np.intersect1d(Genes_xpEHH_Tribe_200kb[\"hg19.kgXref.geneSymbol\"],Genes_xpEHH_India1kgp_200kb[\"hg19.kgXref.geneSymbol\"]))\n",
    "\n",
    "File_GenesComuns_xpEHH_1_200kb=open(\"IndiaResults/xpEHH/FinalResultsGenes/xpEHH_GenesComuns_GreaterOnePercent_200kb.txt\", \"w\")\n",
    "\n",
    "for i in range(len(GenesComuns_xpEHH)):\n",
    "    for a in range(len(Genes_xpEHH_India_200kb[\"hg19.kgXref.geneSymbol\"])):\n",
    "        if GenesComuns_xpEHH[i] == Genes_xpEHH_India_200kb[\"hg19.kgXref.geneSymbol\"][a]:\n",
    "            File_GenesComuns_xpEHH_1_200kb.write(f\"{Genes_xpEHH_India_200kb['hg19.knownGene.chrom'][a]}\\t{Genes_xpEHH_India_200kb['hg19.knownGene.txStart'][a]}\\t{Genes_xpEHH_India_200kb['hg19.knownGene.txEnd'][a]}\\t{Genes_xpEHH_India_200kb['#hg19.knownGene.name'][a]}\\t{Genes_xpEHH_India_200kb['hg19.kgXref.geneSymbol'][a]}\\n\")\n",
    "            "
   ]
  },
  {
   "cell_type": "markdown",
   "metadata": {},
   "source": [
    "#### iHS"
   ]
  },
  {
   "cell_type": "code",
   "execution_count": 25,
   "metadata": {},
   "outputs": [],
   "source": [
    "GenesComuns_iHS=np.intersect1d(np.intersect1d(Genes_iHS_India_200kb[\"hg19.kgXref.geneSymbol\"],Genes_iHS_Caste_200kb[\"hg19.kgXref.geneSymbol\"]), np.intersect1d(Genes_iHS_Tribe_200kb[\"hg19.kgXref.geneSymbol\"],Genes_iHS_India1kgp_200kb[\"hg19.kgXref.geneSymbol\"]))\n",
    "\n",
    "File_GenesComuns_iHS_1_200kb=open(\"IndiaResults/iHS/FinalResultsGenes/iHS_GenesComuns_GreaterOnePercent_200kb.txt\", \"w\")\n",
    "\n",
    "for i in range(len(GenesComuns_iHS)):\n",
    "    for a in range(len(Genes_iHS_India_200kb[\"hg19.kgXref.geneSymbol\"])):\n",
    "        if GenesComuns_iHS[i] == Genes_iHS_India_200kb[\"hg19.kgXref.geneSymbol\"][a]:\n",
    "            File_GenesComuns_iHS_1_200kb.write(f\"{Genes_iHS_India_200kb['hg19.knownGene.chrom'][a]}\\t{Genes_iHS_India_200kb['hg19.knownGene.txStart'][a]}\\t{Genes_iHS_India_200kb['hg19.knownGene.txEnd'][a]}\\t{Genes_iHS_India_200kb['#hg19.knownGene.name'][a]}\\t{Genes_iHS_India_200kb['hg19.kgXref.geneSymbol'][a]}\\n\")"
   ]
  },
  {
   "cell_type": "markdown",
   "metadata": {},
   "source": [
    "#### CLR"
   ]
  },
  {
   "cell_type": "code",
   "execution_count": 39,
   "metadata": {},
   "outputs": [],
   "source": [
    "GenesComuns_CLR=np.intersect1d(np.intersect1d(Genes_CLR_India_200kb[\"hg19.kgXref.geneSymbol\"],Genes_CLR_Caste_200kb[\"hg19.kgXref.geneSymbol\"]), np.intersect1d(Genes_CLR_Tribe_200kb[\"hg19.kgXref.geneSymbol\"],Genes_CLR_India1kgp_200kb[\"hg19.kgXref.geneSymbol\"]))\n",
    "\n",
    "File_GenesComuns_CLR_1_200kb=open(\"IndiaResults/CLR/FinalResultsGenes/1%/CLR_GenesComuns_GreaterOnePercent_200kb_10SNPs.txt\", \"w\")\n",
    "\n",
    "for i in range(len(GenesComuns_CLR)):\n",
    "    for a in range(len(Genes_CLR_India_200kb[\"hg19.kgXref.geneSymbol\"])):\n",
    "        if GenesComuns_CLR[i] == Genes_CLR_India_200kb[\"hg19.kgXref.geneSymbol\"][a]:\n",
    "            File_GenesComuns_CLR_1_200kb.write(f\"{Genes_CLR_India_200kb['hg19.knownGene.chrom'][a]}\\t{Genes_CLR_India_200kb['hg19.knownGene.txStart'][a]}\\t{Genes_CLR_India_200kb['hg19.knownGene.txEnd'][a]}\\t{Genes_CLR_India_200kb['#hg19.knownGene.name'][a]}\\t{Genes_CLR_India_200kb['hg19.kgXref.geneSymbol'][a]}\\n\")"
   ]
  },
  {
   "cell_type": "markdown",
   "metadata": {},
   "source": [
    "#### TajimasD"
   ]
  },
  {
   "cell_type": "code",
   "execution_count": 32,
   "metadata": {},
   "outputs": [],
   "source": [
    "GenesComuns_TajimasD_1_100kb=np.intersect1d(np.intersect1d(Genes_TajimasD_India_1_100kb[\"hg19.kgXref.geneSymbol\"],Genes_TajimasD_Caste_1_100kb[\"hg19.kgXref.geneSymbol\"]), np.intersect1d(Genes_TajimasD_Tribe_1_100kb[\"hg19.kgXref.geneSymbol\"],Genes_TajimasD_India1kgp_1_100kb[\"hg19.kgXref.geneSymbol\"]))\n",
    "\n",
    "File_GenesComuns_TajimasD_1_100kb=open(\"IndiaResults/TajimasD/FinalResultsGenes/TajimasD_GenesComuns_GreaterOnePercent.txt\", \"w\")\n",
    "\n",
    "for i in range(len(GenesComuns_TajimasD_1_100kb)):\n",
    "    for a in range(len(Genes_TajimasD_India_1_100kb[\"hg19.kgXref.geneSymbol\"])):\n",
    "        if GenesComuns_TajimasD_1_100kb[i] == Genes_TajimasD_India_1_100kb[\"hg19.kgXref.geneSymbol\"][a]:\n",
    "            File_GenesComuns_TajimasD_1_100kb.write(f\"{Genes_TajimasD_India_1_100kb['hg19.knownGene.chrom'][a]}\\t{Genes_TajimasD_India_1_100kb['#hg19.knownGene.name'][a]}\\t{Genes_TajimasD_India_1_100kb['hg19.kgXref.geneSymbol'][a]}\\n\")"
   ]
  },
  {
   "cell_type": "markdown",
   "metadata": {},
   "source": [
    "#### GRoSS"
   ]
  },
  {
   "cell_type": "code",
   "execution_count": null,
   "metadata": {},
   "outputs": [],
   "source": [
    "GenesComuns_GRoSS=np.intersect1d(np.intersect1d(Genes_GRoSS_India_200kb[\"hg19.kgXref.geneSymbol\"],Genes_GRoSS_Caste_200kb[\"hg19.kgXref.geneSymbol\"]), np.intersect1d(Genes_GRoSS_Tribe_200kb[\"hg19.kgXref.geneSymbol\"],Genes_GRoSS_India1kgp_200kb[\"hg19.kgXref.geneSymbol\"]))\n",
    "\n",
    "File_GenesComuns_GRoSS_1_200kb=open(\"IndiaResults/GRoSS/FinalResultsGenes/GRoSS_GenesComuns_GreaterOnePercent_200kb.txt\", \"w\")\n",
    "\n",
    "for i in range(len(GenesComuns_GRoSS)):\n",
    "    for a in range(len(Genes_GRoSS_India_200kb[\"hg19.kgXref.geneSymbol\"])):\n",
    "        if GenesComuns_GRoSS[i] == Genes_GRoSS_India_200kb[\"hg19.kgXref.geneSymbol\"][a]:\n",
    "            File_GenesComuns_GRoSS_1_200kb.write(f\"{Genes_GRoSS_India_200kb['hg19.knownGene.chrom'][a]}\\t{Genes_GRoSS_India_200kb['hg19.knownGene.txStart'][a]}\\t{Genes_GRoSS_India_200kb['hg19.knownGene.txEnd'][a]}\\t{Genes_GRoSS_India_200kb['#hg19.knownGene.name'][a]}\\t{Genes_GRoSS_India_200kb['hg19.kgXref.geneSymbol'][a]}\\n\")"
   ]
  },
  {
   "cell_type": "code",
   "execution_count": null,
   "metadata": {},
   "outputs": [],
   "source": []
  },
  {
   "cell_type": "code",
   "execution_count": 41,
   "metadata": {},
   "outputs": [],
   "source": [
    "Genes_PBS=pd.read_csv('IndiaResults/PBS/FinalResultsGenes/1%/PBS_GenesComuns_GreaterOnePercent.txt', sep=\"\\t\", header=None)\n",
    "Genes_xpEHH_200kb=pd.read_csv('IndiaResults/xpEHH/FinalResultsGenes/1%/xpEHH_GenesComuns_GreaterOnePercent_200kb.txt', sep=\"\\t\", header=None)\n",
    "Genes_iHS_200kb=pd.read_csv('IndiaResults/iHS/FinalResultsGenes/1%/iHS_GenesComuns_GreaterOnePercent_200kb.txt', sep=\"\\t\", header=None)\n",
    "Genes_CLR_200kb=pd.read_csv('IndiaResults/CLR/FinalResultsGenes/1%/CLR_GenesComuns_GreaterOnePercent_200kb_10SNPs.txt', sep=\"\\t\", header=None)\n",
    "Genes_TajimasD_1_100kb=pd.read_csv('IndiaResults/TajimasD/FinalResultsGenes/1%/TajimasD_GenesComuns_GreaterOnePercent.txt', sep=\"\\t\", header=None)\n",
    "Genes_GRoSS_200kb=pd.read_csv('IndiaResults/GRoSS/FinalResultsGenes/1%/GRoSS_GenesComuns_GreaterOnePercent_200kb.txt', sep=\"\\t\", header=None)"
   ]
  },
  {
   "cell_type": "markdown",
   "metadata": {},
   "source": [
    "### Common Genes Between Methods 1%"
   ]
  },
  {
   "cell_type": "markdown",
   "metadata": {},
   "source": [
    "#### PBS+xpEHH"
   ]
  },
  {
   "cell_type": "code",
   "execution_count": 15,
   "metadata": {},
   "outputs": [
    {
     "data": {
      "text/plain": [
       "68"
      ]
     },
     "execution_count": 15,
     "metadata": {},
     "output_type": "execute_result"
    }
   ],
   "source": [
    "len(np.intersect1d(Genes_PBS[2],Genes_xpEHH_200kb[4]))"
   ]
  },
  {
   "cell_type": "code",
   "execution_count": 30,
   "metadata": {},
   "outputs": [],
   "source": [
    "GenesComuns_PBS_xpEHH=(np.intersect1d(Genes_PBS[2],Genes_xpEHH_200kb[4]))\n",
    "\n",
    "File_GenesComuns_PBS_xpEHH=open(\"IndiaResults/PBS_xpEHH_GenesComuns_GreaterOnePercent.txt\", \"w\")\n",
    "lista = []\n",
    "for i in range(len(GenesComuns_PBS_xpEHH)):\n",
    "    for a in range(len(Genes_xpEHH_200kb[4])):\n",
    "        if GenesComuns_PBS_xpEHH[i] == Genes_xpEHH_200kb[4][a]:\n",
    "            lista.append(f\"{Genes_xpEHH_200kb[0][a]}\\t{Genes_xpEHH_200kb[1][a]}\\t{Genes_xpEHH_200kb[2][a]}\\t{Genes_xpEHH_200kb[4][a]}\\n\")\n",
    "lista = set(lista)\n",
    "\n",
    "for conteudo in lista:\n",
    "    File_GenesComuns_PBS_xpEHH.write(conteudo)\n"
   ]
  },
  {
   "cell_type": "markdown",
   "metadata": {},
   "source": [
    "##### PBS+iHS"
   ]
  },
  {
   "cell_type": "code",
   "execution_count": 17,
   "metadata": {},
   "outputs": [
    {
     "data": {
      "text/plain": [
       "13"
      ]
     },
     "execution_count": 17,
     "metadata": {},
     "output_type": "execute_result"
    }
   ],
   "source": [
    "len(np.intersect1d(Genes_PBS[2],Genes_iHS_200kb[4]))"
   ]
  },
  {
   "cell_type": "code",
   "execution_count": 34,
   "metadata": {},
   "outputs": [],
   "source": [
    "GenesComuns_PBS_iHS=(np.intersect1d(Genes_PBS[2],Genes_iHS_200kb[4]))\n",
    "\n",
    "File_GenesComuns_PBS_iHS=open(\"IndiaResults/PBS_iHS_GenesComuns_GreaterOnePercent.txt\", \"w\")\n",
    "lista = []\n",
    "for i in range(len(GenesComuns_PBS_iHS)):\n",
    "    for a in range(len(Genes_iHS_200kb[4])):\n",
    "        if GenesComuns_PBS_iHS[i] == Genes_iHS_200kb[4][a]:\n",
    "            lista.append(f\"{Genes_iHS_200kb[0][a]}\\t{Genes_iHS_200kb[1][a]}\\t{Genes_iHS_200kb[2][a]}\\t{Genes_iHS_200kb[4][a]}\\n\")\n",
    "lista = set(lista)\n",
    "\n",
    "for conteudo in lista:\n",
    "    File_GenesComuns_PBS_iHS.write(conteudo)\n"
   ]
  },
  {
   "cell_type": "markdown",
   "metadata": {},
   "source": [
    "##### PBS+TajimasD"
   ]
  },
  {
   "cell_type": "code",
   "execution_count": 42,
   "metadata": {},
   "outputs": [
    {
     "data": {
      "text/plain": [
       "8"
      ]
     },
     "execution_count": 42,
     "metadata": {},
     "output_type": "execute_result"
    }
   ],
   "source": [
    "len(np.intersect1d(Genes_PBS[2],Genes_TajimasD_1_100kb[2]))"
   ]
  },
  {
   "cell_type": "code",
   "execution_count": 48,
   "metadata": {},
   "outputs": [],
   "source": [
    "GenesComuns_PBS_TajimasD=(np.intersect1d(Genes_PBS[2],Genes_TajimasD_1_100kb[2]))\n",
    "\n",
    "File_GenesComuns_PBS_TajimasD=open(\"IndiaResults/PBS_TajimasD_GenesComuns_GreaterOnePercent.txt\", \"w\")\n",
    "lista = []\n",
    "for i in range(len(GenesComuns_PBS_TajimasD)):\n",
    "    for a in range(len(Genes_PBS[2])):\n",
    "        if GenesComuns_PBS_TajimasD[i] == Genes_PBS[2][a]:\n",
    "            lista.append(f\"{Genes_PBS[0][a]}\\t{Genes_PBS[1][a]}\\t{Genes_PBS[2][a]}\\n\")\n",
    "lista = set(lista)\n",
    "\n",
    "for conteudo in lista:\n",
    "    File_GenesComuns_PBS_TajimasD.write(conteudo)"
   ]
  },
  {
   "cell_type": "markdown",
   "metadata": {},
   "source": [
    "##### PBS+CLR"
   ]
  },
  {
   "cell_type": "code",
   "execution_count": 81,
   "metadata": {},
   "outputs": [
    {
     "name": "stdout",
     "output_type": "stream",
     "text": [
      "['Metazoa_SRP']\n"
     ]
    }
   ],
   "source": [
    "print(np.intersect1d(Genes_PBS[2],Genes_CLR_200kb[4]))"
   ]
  },
  {
   "cell_type": "code",
   "execution_count": 50,
   "metadata": {},
   "outputs": [],
   "source": [
    "GenesComuns_PBS_CLR=(np.intersect1d(Genes_PBS[2],Genes_CLR_200kb[4]))\n",
    "\n",
    "File_GenesComuns_PBS_CLR=open(\"IndiaResults/PBS_CLR10SNPs_GenesComuns_GreaterOnePercent.txt\", \"w\")\n",
    "lista = []\n",
    "for i in range(len(GenesComuns_PBS_CLR)):\n",
    "    for a in range(len(Genes_CLR_200kb[4])):\n",
    "        if GenesComuns_PBS_CLR[i] == Genes_CLR_200kb[4][a]:\n",
    "            lista.append(f\"{Genes_CLR_200kb[0][a]}\\t{Genes_CLR_200kb[1][a]}\\t{Genes_CLR_200kb[2][a]}\\t{Genes_CLR_200kb[4][a]}\\n\")\n",
    "lista = set(lista)\n",
    "\n",
    "for conteudo in lista:\n",
    "    File_GenesComuns_PBS_CLR.write(conteudo)\n"
   ]
  },
  {
   "cell_type": "markdown",
   "metadata": {},
   "source": [
    "##### PBS+GRoSS"
   ]
  },
  {
   "cell_type": "code",
   "execution_count": 22,
   "metadata": {},
   "outputs": [
    {
     "data": {
      "text/plain": [
       "187"
      ]
     },
     "execution_count": 22,
     "metadata": {},
     "output_type": "execute_result"
    }
   ],
   "source": [
    "len(np.intersect1d(Genes_PBS[2],Genes_GRoSS_200kb[4]))"
   ]
  },
  {
   "cell_type": "code",
   "execution_count": 23,
   "metadata": {},
   "outputs": [],
   "source": [
    "GenesComuns_PBS_GRoSS=(np.intersect1d(Genes_PBS[2],Genes_GRoSS_200kb[4]))\n",
    "\n",
    "File_GenesComuns_PBS_GRoSS=open(\"IndiaResults/PBS_GRoSS_GenesComuns_GreaterOnePercent.txt\", \"w\")\n",
    "lista = []\n",
    "for i in range(len(GenesComuns_PBS_GRoSS)):\n",
    "    for a in range(len(Genes_GRoSS_200kb[4])):\n",
    "        if GenesComuns_PBS_GRoSS[i] == Genes_GRoSS_200kb[4][a]:\n",
    "            lista.append(f\"{Genes_GRoSS_200kb[0][a]}\\t{Genes_GRoSS_200kb[1][a]}\\t{Genes_GRoSS_200kb[2][a]}\\t{Genes_GRoSS_200kb[4][a]}\\n\")\n",
    "lista = set(lista)\n",
    "\n",
    "for conteudo in lista:\n",
    "    File_GenesComuns_PBS_GRoSS.write(conteudo)\n"
   ]
  },
  {
   "cell_type": "markdown",
   "metadata": {},
   "source": [
    "#### xpEHH+iHS"
   ]
  },
  {
   "cell_type": "code",
   "execution_count": 22,
   "metadata": {},
   "outputs": [
    {
     "data": {
      "text/plain": [
       "22"
      ]
     },
     "execution_count": 22,
     "metadata": {},
     "output_type": "execute_result"
    }
   ],
   "source": [
    "len(np.intersect1d(Genes_xpEHH_200kb[4],Genes_iHS_200kb[4]))"
   ]
  },
  {
   "cell_type": "code",
   "execution_count": 82,
   "metadata": {},
   "outputs": [],
   "source": [
    "GenesComuns_xpEHH_iHS=(np.intersect1d(Genes_xpEHH_200kb[4],Genes_iHS_200kb[4]))\n",
    "\n",
    "File_GenesComuns_xpEHH_iHS=open(\"IndiaResults/xpEHH_iHS_GenesComuns_GreaterOnePercent.txt\", \"w\")\n",
    "lista = []\n",
    "for i in range(len(GenesComuns_xpEHH_iHS)):\n",
    "    for a in range(len(Genes_iHS_200kb[4])):\n",
    "        if GenesComuns_xpEHH_iHS[i] == Genes_iHS_200kb[4][a]:\n",
    "            lista.append(f\"{Genes_iHS_200kb[0][a]}\\t{Genes_iHS_200kb[1][a]}\\t{Genes_iHS_200kb[2][a]}\\t{Genes_iHS_200kb[4][a]}\\n\")\n",
    "lista = set(lista)\n",
    "\n",
    "for conteudo in lista:\n",
    "    File_GenesComuns_xpEHH_iHS.write(conteudo)\n"
   ]
  },
  {
   "cell_type": "markdown",
   "metadata": {},
   "source": [
    "##### xpEHH+TajimasD"
   ]
  },
  {
   "cell_type": "code",
   "execution_count": 50,
   "metadata": {},
   "outputs": [
    {
     "data": {
      "text/plain": [
       "6"
      ]
     },
     "execution_count": 50,
     "metadata": {},
     "output_type": "execute_result"
    }
   ],
   "source": [
    "len(np.intersect1d(Genes_xpEHH_200kb[4],Genes_TajimasD_1_100kb[2]))"
   ]
  },
  {
   "cell_type": "code",
   "execution_count": 54,
   "metadata": {},
   "outputs": [],
   "source": [
    "GenesComuns_xpEHH_TajimasD=(np.intersect1d(Genes_xpEHH_200kb[4],Genes_TajimasD_1_100kb[2]))\n",
    "\n",
    "File_GenesComuns_xpEHH_TajimasD=open(\"IndiaResults/xpEHH_TajimasD_GenesComuns_GreaterOnePercent.txt\", \"w\")\n",
    "lista = []\n",
    "for i in range(len(GenesComuns_xpEHH_TajimasD)):\n",
    "    for a in range(len(Genes_xpEHH_200kb[4])):\n",
    "        if GenesComuns_xpEHH_TajimasD[i] == Genes_xpEHH_200kb[4][a]:\n",
    "            lista.append(f\"{Genes_xpEHH_200kb[0][a]}\\t{Genes_xpEHH_200kb[1][a]}\\t{Genes_xpEHH_200kb[2][a]}\\t{Genes_xpEHH_200kb[4][a]}\\n\")\n",
    "lista = set(lista)\n",
    "\n",
    "for conteudo in lista:\n",
    "    File_GenesComuns_xpEHH_TajimasD.write(conteudo)\n"
   ]
  },
  {
   "cell_type": "markdown",
   "metadata": {},
   "source": [
    "##### xpEHH+CLR"
   ]
  },
  {
   "cell_type": "code",
   "execution_count": 51,
   "metadata": {},
   "outputs": [
    {
     "data": {
      "text/plain": [
       "2"
      ]
     },
     "execution_count": 51,
     "metadata": {},
     "output_type": "execute_result"
    }
   ],
   "source": [
    "len(np.intersect1d(Genes_xpEHH_200kb[4],Genes_CLR_200kb[4]))"
   ]
  },
  {
   "cell_type": "code",
   "execution_count": 54,
   "metadata": {},
   "outputs": [],
   "source": [
    "GenesComuns_xpEHH_CLR=(np.intersect1d(Genes_xpEHH_200kb[4],Genes_CLR_200kb[4]))\n",
    "\n",
    "File_GenesComuns_xpEHH_CLR=open(\"IndiaResults/xpEHH_CLR10SNPs_GenesComuns_GreaterOnePercent.txt\", \"w\")\n",
    "lista = []\n",
    "for i in range(len(GenesComuns_xpEHH_CLR)):\n",
    "    for a in range(len(Genes_xpEHH_200kb[4])):\n",
    "        if GenesComuns_xpEHH_CLR[i] == Genes_xpEHH_200kb[4][a]:\n",
    "            lista.append(f\"{Genes_xpEHH_200kb[0][a]}\\t{Genes_xpEHH_200kb[1][a]}\\t{Genes_xpEHH_200kb[2][a]}\\t{Genes_xpEHH_200kb[4][a]}\\n\")\n",
    "lista = set(lista)\n",
    "\n",
    "for conteudo in lista:\n",
    "    File_GenesComuns_xpEHH_CLR.write(conteudo)\n"
   ]
  },
  {
   "cell_type": "markdown",
   "metadata": {},
   "source": [
    "##### xpEHH+GRoSS"
   ]
  },
  {
   "cell_type": "code",
   "execution_count": 238,
   "metadata": {},
   "outputs": [
    {
     "data": {
      "text/plain": [
       "187"
      ]
     },
     "execution_count": 238,
     "metadata": {},
     "output_type": "execute_result"
    }
   ],
   "source": [
    "len(np.intersect1d(Genes_xpEHH_200kb[4],Genes_GRoSS_200kb[4]))"
   ]
  },
  {
   "cell_type": "code",
   "execution_count": 86,
   "metadata": {},
   "outputs": [],
   "source": [
    "GenesComuns_xpEHH_GRoSS=(np.intersect1d(Genes_xpEHH_200kb[4],Genes_GRoSS_200kb[4]))\n",
    "\n",
    "File_GenesComuns_xpEHH_GRoSS=open(\"IndiaResults/xpEHH_GRoSS_GenesComuns_GreaterOnePercent.txt\", \"w\")\n",
    "lista = []\n",
    "for i in range(len(GenesComuns_xpEHH_GRoSS)):\n",
    "    for a in range(len(Genes_xpEHH_200kb[4])):\n",
    "        if GenesComuns_xpEHH_GRoSS[i] == Genes_xpEHH_200kb[4][a]:\n",
    "            lista.append(f\"{Genes_xpEHH_200kb[0][a]}\\t{Genes_xpEHH_200kb[1][a]}\\t{Genes_xpEHH_200kb[2][a]}\\t{Genes_xpEHH_200kb[4][a]}\\n\")\n",
    "lista = set(lista)\n",
    "\n",
    "for conteudo in lista:\n",
    "    File_GenesComuns_xpEHH_GRoSS.write(conteudo)\n"
   ]
  },
  {
   "cell_type": "markdown",
   "metadata": {},
   "source": [
    "##### iHS+TajimasD"
   ]
  },
  {
   "cell_type": "code",
   "execution_count": 55,
   "metadata": {},
   "outputs": [
    {
     "data": {
      "text/plain": [
       "7"
      ]
     },
     "execution_count": 55,
     "metadata": {},
     "output_type": "execute_result"
    }
   ],
   "source": [
    "len(np.intersect1d(Genes_iHS_200kb[4],Genes_TajimasD_1_100kb[2]))"
   ]
  },
  {
   "cell_type": "code",
   "execution_count": 57,
   "metadata": {},
   "outputs": [],
   "source": [
    "GenesComuns_iHS_TajimasD=(np.intersect1d(Genes_iHS_200kb[4],Genes_TajimasD_1_100kb[2]))\n",
    "\n",
    "File_GenesComuns_iHS_TajimasD=open(\"IndiaResults/iHS_TajimasD_GenesComuns_GreaterOnePercent.txt\", \"w\")\n",
    "lista = []\n",
    "for i in range(len(GenesComuns_iHS_TajimasD)):\n",
    "    for a in range(len(Genes_iHS_200kb[4])):\n",
    "        if GenesComuns_iHS_TajimasD[i] == Genes_iHS_200kb[4][a]:\n",
    "            lista.append(f\"{Genes_iHS_200kb[0][a]}\\t{Genes_iHS_200kb[1][a]}\\t{Genes_iHS_200kb[2][a]}\\t{Genes_iHS_200kb[4][a]}\\n\")\n",
    "lista = set(lista)\n",
    "\n",
    "for conteudo in lista:\n",
    "    File_GenesComuns_iHS_TajimasD.write(conteudo)\n"
   ]
  },
  {
   "cell_type": "markdown",
   "metadata": {},
   "source": [
    "###### iHS+ CLR"
   ]
  },
  {
   "cell_type": "code",
   "execution_count": 61,
   "metadata": {},
   "outputs": [
    {
     "name": "stdout",
     "output_type": "stream",
     "text": [
      "['CELSR1' 'CHMP1B' 'GNAL' 'MPPE1' 'Metazoa_SRP']\n"
     ]
    }
   ],
   "source": [
    "print(np.intersect1d(Genes_iHS_200kb[4],Genes_CLR_200kb[4]))"
   ]
  },
  {
   "cell_type": "code",
   "execution_count": 60,
   "metadata": {},
   "outputs": [],
   "source": [
    "GenesComuns_iHS_CLR=(np.intersect1d(Genes_iHS_200kb[4],Genes_CLR_200kb[4]))\n",
    "\n",
    "File_GenesComuns_iHS_CLR=open(\"IndiaResults/iHS_CLR_GenesComuns_GreaterOnePercent.txt\", \"w\")\n",
    "lista = []\n",
    "for i in range(len(GenesComuns_iHS_CLR)):\n",
    "    for a in range(len(Genes_iHS_200kb[4])):\n",
    "        if GenesComuns_iHS_CLR[i] == Genes_iHS_200kb[4][a]:\n",
    "            lista.append(f\"{Genes_iHS_200kb[0][a]}\\t{Genes_iHS_200kb[1][a]}\\t{Genes_iHS_200kb[2][a]}\\t{Genes_iHS_200kb[4][a]}\\n\")\n",
    "lista = set(lista)\n",
    "\n",
    "for conteudo in lista:\n",
    "    File_GenesComuns_iHS_CLR.write(conteudo)"
   ]
  },
  {
   "cell_type": "markdown",
   "metadata": {},
   "source": [
    "##### iHS+GRoSS"
   ]
  },
  {
   "cell_type": "code",
   "execution_count": 159,
   "metadata": {},
   "outputs": [
    {
     "data": {
      "text/plain": [
       "8"
      ]
     },
     "execution_count": 159,
     "metadata": {},
     "output_type": "execute_result"
    }
   ],
   "source": [
    "len(np.intersect1d(Genes_iHS_200kb[4],Genes_GRoSS_200kb[4]))"
   ]
  },
  {
   "cell_type": "code",
   "execution_count": 89,
   "metadata": {},
   "outputs": [],
   "source": [
    "GenesComuns_iHS_GRoSS=(np.intersect1d(Genes_iHS_200kb[4],Genes_GRoSS_200kb[4]))\n",
    "\n",
    "File_GenesComuns_iHS_GRoSS=open(\"IndiaResults/iHS_GRoSS_GenesComuns_GreaterOnePercent.txt\", \"w\")\n",
    "lista = []\n",
    "for i in range(len(GenesComuns_iHS_GRoSS)):\n",
    "    for a in range(len(Genes_iHS_200kb[4])):\n",
    "        if GenesComuns_iHS_GRoSS[i] == Genes_iHS_200kb[4][a]:\n",
    "            lista.append(f\"{Genes_iHS_200kb[0][a]}\\t{Genes_iHS_200kb[1][a]}\\t{Genes_iHS_200kb[2][a]}\\t{Genes_iHS_200kb[4][a]}\\n\")\n",
    "lista = set(lista)\n",
    "\n",
    "for conteudo in lista:\n",
    "    File_GenesComuns_iHS_GRoSS.write(conteudo)\n"
   ]
  },
  {
   "cell_type": "markdown",
   "metadata": {},
   "source": [
    "##### TajimasD + CLR"
   ]
  },
  {
   "cell_type": "code",
   "execution_count": 71,
   "metadata": {},
   "outputs": [
    {
     "data": {
      "text/plain": [
       "11"
      ]
     },
     "execution_count": 71,
     "metadata": {},
     "output_type": "execute_result"
    }
   ],
   "source": [
    "len(np.intersect1d(Genes_TajimasD_1_100kb[2],Genes_CLR_200kb[4]))"
   ]
  },
  {
   "cell_type": "code",
   "execution_count": 80,
   "metadata": {},
   "outputs": [],
   "source": [
    "GenesComuns_CLR_TajimasD=(np.intersect1d(Genes_CLR_200kb[4],Genes_TajimasD_1_100kb[2]))\n",
    "\n",
    "File_GenesComuns_CLR_TajimasD=open(\"IndiaResults/CLR_TajimasD_GenesComuns_GreaterOnePercent.txt\", \"w\")\n",
    "lista = []\n",
    "for i in range(len(GenesComuns_CLR_TajimasD)):\n",
    "    for a in range(len(Genes_CLR_200kb[4])):\n",
    "        if GenesComuns_CLR_TajimasD[i] == Genes_CLR_200kb[4][a]:\n",
    "            lista.append(f\"{Genes_CLR_200kb[0][a]}\\t{Genes_CLR_200kb[1][a]}\\t{Genes_CLR_200kb[2][a]}\\t{Genes_CLR_200kb[4][a]}\\n\")\n",
    "lista = set(lista)\n",
    "\n",
    "for conteudo in lista:\n",
    "    File_GenesComuns_CLR_TajimasD.write(conteudo)\n"
   ]
  },
  {
   "cell_type": "markdown",
   "metadata": {},
   "source": [
    "##### TajimasD+GRoSS"
   ]
  },
  {
   "cell_type": "code",
   "execution_count": 8,
   "metadata": {},
   "outputs": [
    {
     "data": {
      "text/plain": [
       "13"
      ]
     },
     "execution_count": 8,
     "metadata": {},
     "output_type": "execute_result"
    }
   ],
   "source": [
    "len(np.intersect1d(Genes_TajimasD_1_100kb[2],Genes_GRoSS_200kb[4]))"
   ]
  },
  {
   "cell_type": "code",
   "execution_count": 12,
   "metadata": {},
   "outputs": [],
   "source": [
    "GenesComuns_GRoSS_TajimasD=(np.intersect1d(Genes_GRoSS_200kb[4],Genes_TajimasD_1_100kb[2]))\n",
    "\n",
    "File_GenesComuns_GRoSS_TajimasD=open(\"IndiaResults/GRoSS_TajimasD_GenesComuns_GreaterOnePercent.txt\", \"w\")\n",
    "lista = []\n",
    "for i in range(len(GenesComuns_GRoSS_TajimasD)):\n",
    "    for a in range(len(Genes_GRoSS_200kb[4])):\n",
    "        if GenesComuns_GRoSS_TajimasD[i] == Genes_GRoSS_200kb[4][a]:\n",
    "            lista.append(f\"{Genes_GRoSS_200kb[0][a]}\\t{Genes_GRoSS_200kb[1][a]}\\t{Genes_GRoSS_200kb[2][a]}\\t{Genes_GRoSS_200kb[4][a]}\\n\")\n",
    "lista = set(lista)\n",
    "\n",
    "for conteudo in lista:\n",
    "    File_GenesComuns_GRoSS_TajimasD.write(conteudo)\n"
   ]
  },
  {
   "cell_type": "markdown",
   "metadata": {},
   "source": [
    "##### CLR + GRoSS"
   ]
  },
  {
   "cell_type": "code",
   "execution_count": 63,
   "metadata": {},
   "outputs": [
    {
     "data": {
      "text/plain": [
       "13"
      ]
     },
     "execution_count": 63,
     "metadata": {},
     "output_type": "execute_result"
    }
   ],
   "source": [
    "len(np.intersect1d(Genes_CLR_200kb[4],Genes_GRoSS_200kb[4]))"
   ]
  },
  {
   "cell_type": "code",
   "execution_count": 69,
   "metadata": {},
   "outputs": [],
   "source": [
    "GenesComuns_GRoSS_CLR=(np.intersect1d(Genes_GRoSS_200kb[4],Genes_CLR_200kb[4]))\n",
    "\n",
    "File_GenesComuns_GRoSS_CLR=open(\"IndiaResults/GRoSS_CLR_GenesComuns_GreaterOnePercent.txt\", \"w\")\n",
    "lista = []\n",
    "for i in range(len(GenesComuns_GRoSS_CLR)):\n",
    "    for a in range(len(Genes_GRoSS_200kb[4])):\n",
    "        if GenesComuns_GRoSS_CLR[i] == Genes_GRoSS_200kb[4][a]:\n",
    "            lista.append(f\"{Genes_GRoSS_200kb[0][a]}\\t{Genes_GRoSS_200kb[1][a]}\\t{Genes_GRoSS_200kb[2][a]}\\t{Genes_GRoSS_200kb[4][a]}\\n\")\n",
    "lista = set(lista)\n",
    "\n",
    "for conteudo in lista:\n",
    "    File_GenesComuns_GRoSS_CLR.write(conteudo)\n"
   ]
  },
  {
   "cell_type": "markdown",
   "metadata": {},
   "source": [
    "### Common Genes Between Groups 0.5%"
   ]
  },
  {
   "cell_type": "markdown",
   "metadata": {},
   "source": [
    "#### PBS"
   ]
  },
  {
   "cell_type": "code",
   "execution_count": 41,
   "metadata": {},
   "outputs": [],
   "source": [
    "GenesComuns_PBS_05=np.intersect1d(np.intersect1d(Genes_PBS_India_05['hg19.kgXref.geneSymbol'],Genes_PBS_Caste_05['hg19.kgXref.geneSymbol']), np.intersect1d(Genes_PBS_Tribe_05['hg19.kgXref.geneSymbol'],Genes_PBS_India5kgp_05['hg19.kgXref.geneSymbol']))\n",
    "\n",
    "File_GenesComuns_PBS_05=open(\"IndiaResults/PBS/FinalResultsGenes/0.5%/PBS_GenesComuns_GreaterZeroCincoPercent.txt\", \"w\")\n",
    "\n",
    "for i in range(len(GenesComuns_PBS_05)):\n",
    "    for a in range(len(Genes_PBS_India_05[\"hg19.kgXref.geneSymbol\"])):\n",
    "        if GenesComuns_PBS_05[i] == Genes_PBS_India_05[\"hg19.kgXref.geneSymbol\"][a]:\n",
    "            File_GenesComuns_PBS_05.write(f\"{Genes_PBS_India_05['hg19.knownGene.chrom'][a]}\\t{Genes_PBS_India_05['hg19.knownGene.txStart'][a]}\\t{Genes_PBS_India_05['hg19.knownGene.txEnd'][a]}\\t{Genes_PBS_India_05['#hg19.knownGene.name'][a]}\\t{Genes_PBS_India_05['hg19.kgXref.geneSymbol'][a]}\\n\")"
   ]
  },
  {
   "cell_type": "markdown",
   "metadata": {},
   "source": [
    "#### xpEHH"
   ]
  },
  {
   "cell_type": "code",
   "execution_count": 79,
   "metadata": {},
   "outputs": [],
   "source": [
    "GenesComuns_xpEHH_05_200kb=np.intersect1d(np.intersect1d(Genes_xpEHH_India_05_200kb['hg19.kgXref.geneSymbol'],Genes_xpEHH_Caste_05_200kb['hg19.kgXref.geneSymbol']), np.intersect1d(Genes_xpEHH_Tribe_05_200kb['hg19.kgXref.geneSymbol'],Genes_xpEHH_India5kgp_05_200kb['hg19.kgXref.geneSymbol']))\n",
    "\n",
    "File_GenesComuns_xpEHH_05_200kb=open(\"IndiaResults/xpEHH/FinalResultsGenes/0.5%/xpEHH_GenesComuns_GreaterZeroCincoPercent.txt\", \"w\")\n",
    "\n",
    "for i in range(len(GenesComuns_xpEHH_05_200kb)):\n",
    "    for a in range(len(Genes_xpEHH_India_05_200kb[\"hg19.kgXref.geneSymbol\"])):\n",
    "        if GenesComuns_xpEHH_05_200kb[i] == Genes_xpEHH_India_05_200kb[\"hg19.kgXref.geneSymbol\"][a]:\n",
    "            File_GenesComuns_xpEHH_05_200kb.write(f\"{Genes_xpEHH_India_05_200kb['hg19.knownGene.chrom'][a]}\\t{Genes_xpEHH_India_05_200kb['hg19.knownGene.txStart'][a]}\\t{Genes_xpEHH_India_05_200kb['hg19.knownGene.txEnd'][a]}\\t{Genes_xpEHH_India_05_200kb['#hg19.knownGene.name'][a]}\\t{Genes_xpEHH_India_05_200kb['hg19.kgXref.geneSymbol'][a]}\\n\")"
   ]
  },
  {
   "cell_type": "markdown",
   "metadata": {},
   "source": [
    "#### iHS"
   ]
  },
  {
   "cell_type": "code",
   "execution_count": 86,
   "metadata": {},
   "outputs": [],
   "source": [
    "GenesComuns_iHS_05_200kb=np.intersect1d(np.intersect1d(Genes_iHS_India_05_200kb['hg19.kgXref.geneSymbol'],Genes_iHS_Caste_05_200kb['hg19.kgXref.geneSymbol']), np.intersect1d(Genes_iHS_Tribe_05_200kb['hg19.kgXref.geneSymbol'],Genes_iHS_India5kgp_05_200kb['hg19.kgXref.geneSymbol']))\n",
    "\n",
    "File_GenesComuns_iHS_05_200kb=open(\"IndiaResults/iHS/FinalResultsGenes/0.5%/iHS_GenesComuns_GreaterZeroCincoPercent.txt\", \"w\")\n",
    "\n",
    "for i in range(len(GenesComuns_iHS_05_200kb)):\n",
    "    for a in range(len(Genes_iHS_India_05_200kb[\"hg19.kgXref.geneSymbol\"])):\n",
    "        if GenesComuns_iHS_05_200kb[i] == Genes_iHS_India_05_200kb[\"hg19.kgXref.geneSymbol\"][a]:\n",
    "            File_GenesComuns_iHS_05_200kb.write(f\"{Genes_iHS_India_05_200kb['hg19.knownGene.chrom'][a]}\\t{Genes_iHS_India_05_200kb['hg19.knownGene.txStart'][a]}\\t{Genes_iHS_India_05_200kb['hg19.knownGene.txEnd'][a]}\\t{Genes_iHS_India_05_200kb['#hg19.knownGene.name'][a]}\\t{Genes_iHS_India_05_200kb['hg19.kgXref.geneSymbol'][a]}\\n\")"
   ]
  },
  {
   "cell_type": "markdown",
   "metadata": {},
   "source": [
    "#### TajimasD"
   ]
  },
  {
   "cell_type": "code",
   "execution_count": 23,
   "metadata": {},
   "outputs": [
    {
     "data": {
      "text/html": [
       "<div>\n",
       "<style scoped>\n",
       "    .dataframe tbody tr th:only-of-type {\n",
       "        vertical-align: middle;\n",
       "    }\n",
       "\n",
       "    .dataframe tbody tr th {\n",
       "        vertical-align: top;\n",
       "    }\n",
       "\n",
       "    .dataframe thead th {\n",
       "        text-align: right;\n",
       "    }\n",
       "</style>\n",
       "<table border=\"1\" class=\"dataframe\">\n",
       "  <thead>\n",
       "    <tr style=\"text-align: right;\">\n",
       "      <th></th>\n",
       "      <th>#hg19.knownGene.name</th>\n",
       "      <th>hg19.knownGene.chrom</th>\n",
       "      <th>hg19.knownGene.txStart</th>\n",
       "      <th>hg19.knownGene.txEnd</th>\n",
       "      <th>hg19.kgXref.geneSymbol</th>\n",
       "    </tr>\n",
       "  </thead>\n",
       "  <tbody>\n",
       "    <tr>\n",
       "      <th>0</th>\n",
       "      <td>uc010wow.1</td>\n",
       "      <td>chr17</td>\n",
       "      <td>58755171</td>\n",
       "      <td>59115415</td>\n",
       "      <td>BCAS3</td>\n",
       "    </tr>\n",
       "    <tr>\n",
       "      <th>1</th>\n",
       "      <td>uc002iyv.4</td>\n",
       "      <td>chr17</td>\n",
       "      <td>58755171</td>\n",
       "      <td>59470199</td>\n",
       "      <td>BCAS3</td>\n",
       "    </tr>\n",
       "    <tr>\n",
       "      <th>2</th>\n",
       "      <td>uc002iyu.4</td>\n",
       "      <td>chr17</td>\n",
       "      <td>58755171</td>\n",
       "      <td>59470199</td>\n",
       "      <td>BCAS3</td>\n",
       "    </tr>\n",
       "    <tr>\n",
       "      <th>3</th>\n",
       "      <td>uc002iyw.4</td>\n",
       "      <td>chr17</td>\n",
       "      <td>58755171</td>\n",
       "      <td>59470199</td>\n",
       "      <td>BCAS3</td>\n",
       "    </tr>\n",
       "    <tr>\n",
       "      <th>4</th>\n",
       "      <td>uc021ubb.1</td>\n",
       "      <td>chr17</td>\n",
       "      <td>58863592</td>\n",
       "      <td>58863663</td>\n",
       "      <td>TRNA_Sup</td>\n",
       "    </tr>\n",
       "    <tr>\n",
       "      <th>...</th>\n",
       "      <td>...</td>\n",
       "      <td>...</td>\n",
       "      <td>...</td>\n",
       "      <td>...</td>\n",
       "      <td>...</td>\n",
       "    </tr>\n",
       "    <tr>\n",
       "      <th>638</th>\n",
       "      <td>uc001cwq.3</td>\n",
       "      <td>chr1</td>\n",
       "      <td>54497348</td>\n",
       "      <td>54519111</td>\n",
       "      <td>TMEM59</td>\n",
       "    </tr>\n",
       "    <tr>\n",
       "      <th>639</th>\n",
       "      <td>uc010eye.3</td>\n",
       "      <td>chr2</td>\n",
       "      <td>24787178</td>\n",
       "      <td>24993570</td>\n",
       "      <td>NCOA1</td>\n",
       "    </tr>\n",
       "    <tr>\n",
       "      <th>640</th>\n",
       "      <td>uc002rfi.3</td>\n",
       "      <td>chr2</td>\n",
       "      <td>24787178</td>\n",
       "      <td>24993570</td>\n",
       "      <td>NCOA1</td>\n",
       "    </tr>\n",
       "    <tr>\n",
       "      <th>641</th>\n",
       "      <td>uc002xwy.3</td>\n",
       "      <td>chr20</td>\n",
       "      <td>53092265</td>\n",
       "      <td>53267710</td>\n",
       "      <td>DOK5</td>\n",
       "    </tr>\n",
       "    <tr>\n",
       "      <th>642</th>\n",
       "      <td>uc011bmu.2</td>\n",
       "      <td>chr3</td>\n",
       "      <td>138951833</td>\n",
       "      <td>138952364</td>\n",
       "      <td>PISRT1</td>\n",
       "    </tr>\n",
       "  </tbody>\n",
       "</table>\n",
       "<p>643 rows × 5 columns</p>\n",
       "</div>"
      ],
      "text/plain": [
       "    #hg19.knownGene.name hg19.knownGene.chrom  hg19.knownGene.txStart  \\\n",
       "0             uc010wow.1                chr17                58755171   \n",
       "1             uc002iyv.4                chr17                58755171   \n",
       "2             uc002iyu.4                chr17                58755171   \n",
       "3             uc002iyw.4                chr17                58755171   \n",
       "4             uc021ubb.1                chr17                58863592   \n",
       "..                   ...                  ...                     ...   \n",
       "638           uc001cwq.3                 chr1                54497348   \n",
       "639           uc010eye.3                 chr2                24787178   \n",
       "640           uc002rfi.3                 chr2                24787178   \n",
       "641           uc002xwy.3                chr20                53092265   \n",
       "642           uc011bmu.2                 chr3               138951833   \n",
       "\n",
       "     hg19.knownGene.txEnd hg19.kgXref.geneSymbol  \n",
       "0                59115415                  BCAS3  \n",
       "1                59470199                  BCAS3  \n",
       "2                59470199                  BCAS3  \n",
       "3                59470199                  BCAS3  \n",
       "4                58863663               TRNA_Sup  \n",
       "..                    ...                    ...  \n",
       "638              54519111                 TMEM59  \n",
       "639              24993570                  NCOA1  \n",
       "640              24993570                  NCOA1  \n",
       "641              53267710                   DOK5  \n",
       "642             138952364                 PISRT1  \n",
       "\n",
       "[643 rows x 5 columns]"
      ]
     },
     "execution_count": 23,
     "metadata": {},
     "output_type": "execute_result"
    }
   ],
   "source": [
    "Genes_TajimasD_Caste_05_100kb"
   ]
  },
  {
   "cell_type": "code",
   "execution_count": 34,
   "metadata": {},
   "outputs": [],
   "source": [
    "GenesComuns_TajimasD_05_100kb=np.intersect1d(np.intersect1d(Genes_TajimasD_India_05_100kb['hg19.kgXref.geneSymbol'],Genes_TajimasD_Caste_05_100kb['hg19.kgXref.geneSymbol']), np.intersect1d(Genes_TajimasD_Tribe_05_100kb['hg19.kgXref.geneSymbol'],Genes_TajimasD_India5kgp_05_100kb['hg19.kgXref.geneSymbol']))\n",
    "\n",
    "File_GenesComuns_TajimasD_05_100kb=open(\"IndiaResults/TajimasD/FinalResultsGenes/0.5%/TajimasD_GenesComuns_GreaterZeroCincoPercent_100kb.txt\", \"w\")\n",
    "\n",
    "for i in range(len(GenesComuns_TajimasD_05_100kb)):\n",
    "    for a in range(len(Genes_TajimasD_India_05_100kb[\"hg19.kgXref.geneSymbol\"])):\n",
    "        if GenesComuns_TajimasD_05_100kb[i] == Genes_TajimasD_India_05_100kb[\"hg19.kgXref.geneSymbol\"][a]:\n",
    "            File_GenesComuns_TajimasD_05_100kb.write(f\"{Genes_TajimasD_India_05_100kb['hg19.knownGene.chrom'][a]}\\t{Genes_TajimasD_India_05_100kb['hg19.knownGene.txStart'][a]}\\t{Genes_TajimasD_India_05_100kb['hg19.knownGene.txEnd'][a]}\\t{Genes_TajimasD_India_05_100kb['#hg19.knownGene.name'][a]}\\t{Genes_TajimasD_India_05_100kb['hg19.kgXref.geneSymbol'][a]}\\n\")"
   ]
  },
  {
   "cell_type": "markdown",
   "metadata": {},
   "source": [
    "#### CLR"
   ]
  },
  {
   "cell_type": "code",
   "execution_count": 88,
   "metadata": {},
   "outputs": [],
   "source": [
    "GenesComuns_CLR_05_200kb=np.intersect1d(np.intersect1d(Genes_CLR_India_05_200kb['hg19.kgXref.geneSymbol'],Genes_CLR_Caste_05_200kb['hg19.kgXref.geneSymbol']), np.intersect1d(Genes_CLR_Tribe_05_200kb['hg19.kgXref.geneSymbol'],Genes_CLR_India5kgp_05_200kb['hg19.kgXref.geneSymbol']))\n",
    "\n",
    "File_GenesComuns_CLR_05_200kb=open(\"IndiaResults/CLR/FinalResultsGenes/0.5%/CLR10SNPs_GenesComuns_GreaterZeroCincoPercent.txt\", \"w\")\n",
    "\n",
    "for i in range(len(GenesComuns_CLR_05_200kb)):\n",
    "    for a in range(len(Genes_CLR_India_05_200kb[\"hg19.kgXref.geneSymbol\"])):\n",
    "        if GenesComuns_CLR_05_200kb[i] == Genes_CLR_India_05_200kb[\"hg19.kgXref.geneSymbol\"][a]:\n",
    "            File_GenesComuns_CLR_05_200kb.write(f\"{Genes_CLR_India_05_200kb['hg19.knownGene.chrom'][a]}\\t{Genes_CLR_India_05_200kb['hg19.knownGene.txStart'][a]}\\t{Genes_CLR_India_05_200kb['hg19.knownGene.txEnd'][a]}\\t{Genes_CLR_India_05_200kb['#hg19.knownGene.name'][a]}\\t{Genes_CLR_India_05_200kb['hg19.kgXref.geneSymbol'][a]}\\n\")"
   ]
  },
  {
   "cell_type": "markdown",
   "metadata": {},
   "source": [
    "#### GRoSS"
   ]
  },
  {
   "cell_type": "code",
   "execution_count": 88,
   "metadata": {},
   "outputs": [],
   "source": [
    "GenesComuns_GRoSS_05_200kb=np.intersect1d(np.intersect1d(Genes_GRoSS_India_05_200kb['hg19.kgXref.geneSymbol'],Genes_GRoSS_Caste_05_200kb['hg19.kgXref.geneSymbol']), np.intersect1d(Genes_GRoSS_Tribe_05_200kb['hg19.kgXref.geneSymbol'],Genes_GRoSS_India5kgp_05_200kb['hg19.kgXref.geneSymbol']))\n",
    "\n",
    "File_GenesComuns_GRoSS_05_200kb=open(\"IndiaResults/GRoSS/FinalResultsGenes/0.5%/GRoSS_GenesComuns_GreaterZeroCincoPercent.txt\", \"w\")\n",
    "\n",
    "for i in range(len(GenesComuns_GRoSS_05_200kb)):\n",
    "    for a in range(len(Genes_GRoSS_India_05_200kb[\"hg19.kgXref.geneSymbol\"])):\n",
    "        if GenesComuns_GRoSS_05_200kb[i] == Genes_GRoSS_India_05_200kb[\"hg19.kgXref.geneSymbol\"][a]:\n",
    "            File_GenesComuns_GRoSS_05_200kb.write(f\"{Genes_GRoSS_India_05_200kb['hg19.knownGene.chrom'][a]}\\t{Genes_GRoSS_India_05_200kb['hg19.knownGene.txStart'][a]}\\t{Genes_GRoSS_India_05_200kb['hg19.knownGene.txEnd'][a]}\\t{Genes_GRoSS_India_05_200kb['#hg19.knownGene.name'][a]}\\t{Genes_GRoSS_India_05_200kb['hg19.kgXref.geneSymbol'][a]}\\n\")"
   ]
  },
  {
   "cell_type": "markdown",
   "metadata": {},
   "source": [
    "### Common Genes Between Methods 0.5%"
   ]
  },
  {
   "cell_type": "code",
   "execution_count": 37,
   "metadata": {},
   "outputs": [],
   "source": [
    "Genes_PBS_05=pd.read_csv('IndiaResults/PBS/FinalResultsGenes/0.5%/PBS_GenesComuns_GreaterZeroCincoPercent.txt', sep=\"\\t\", header=None)\n",
    "Genes_xpEHH_05_200kb=pd.read_csv('IndiaResults/xpEHH/FinalResultsGenes/0.5%/xpEHH_GenesComuns_GreaterZeroCincoPercent.txt', sep=\"\\t\", header=None)\n",
    "Genes_iHS_05_200kb=pd.read_csv('IndiaResults/iHS/FinalResultsGenes/0.5%/iHS_GenesComuns_GreaterZeroCincoPercent.txt', sep=\"\\t\", header=None)\n",
    "Genes_TajimasD_05_100kb=pd.read_csv('IndiaResults/TajimasD/FinalResultsGenes/0.5%/TajimasD_GenesComuns_GreaterZeroCincoPercent_100kb.txt', sep=\"\\t\", header=None)\n",
    "Genes_CLR_05_200kb=pd.read_csv('IndiaResults/CLR/FinalResultsGenes/0.5%/CLR_GenesComuns_GreaterZeroCincoPercent.txt', sep=\"\\t\", header=None)\n",
    "Genes_GRoSS_05_200kb=pd.read_csv('IndiaResults/GRoSS/FinalResultsGenes/0.5%/GRoSS_GenesComuns_GreaterZeroCincoPercent.txt', sep=\"\\t\", header=None)\n"
   ]
  },
  {
   "cell_type": "markdown",
   "metadata": {},
   "source": [
    "#### PBS + xpEHH"
   ]
  },
  {
   "cell_type": "code",
   "execution_count": 74,
   "metadata": {},
   "outputs": [],
   "source": [
    "GenesComuns_PBS_xpEHH_05=(np.intersect1d(Genes_PBS_05[4],Genes_xpEHH_05_200kb[4]))\n",
    "\n",
    "File_GenesComuns_PBS_xpEHH_05=open(\"IndiaResults/ComunsBetweenMethods/0.5%/PBS_xpEHH200kb_GenesComuns_GreaterZeroCincoPercent.txt\", \"w\")\n",
    "lista = []\n",
    "for i in range(len(GenesComuns_PBS_xpEHH_05)):\n",
    "    for a in range(len(Genes_xpEHH_05_200kb[4])):\n",
    "        if GenesComuns_PBS_xpEHH_05[i] == Genes_xpEHH_05_200kb[4][a]:\n",
    "            lista.append(f\"{Genes_xpEHH_05_200kb[0][a]}\\t{Genes_xpEHH_05_200kb[1][a]}\\t{Genes_xpEHH_05_200kb[2][a]}\\t{Genes_xpEHH_05_200kb[4][a]}\\n\")\n",
    "lista = set(lista)\n",
    "\n",
    "for conteudo in lista:\n",
    "    File_GenesComuns_PBS_xpEHH_05.write(conteudo)\n"
   ]
  },
  {
   "cell_type": "markdown",
   "metadata": {},
   "source": [
    "#### PBS + iHS"
   ]
  },
  {
   "cell_type": "code",
   "execution_count": 97,
   "metadata": {},
   "outputs": [],
   "source": [
    "GenesComuns_PBS_iHS_05=(np.intersect1d(Genes_PBS_05[4],Genes_iHS_05_200kb[4]))\n",
    "\n",
    "File_GenesComuns_PBS_iHS_05=open(\"IndiaResults/ComunsBetweenMethods/0.5%/PBS_iHS200kb_GenesComuns_GreaterZeroCincoPercent.txt\", \"w\")\n",
    "lista = []\n",
    "for i in range(len(GenesComuns_PBS_iHS_05)):\n",
    "    for a in range(len(Genes_iHS_05_200kb[4])):\n",
    "        if GenesComuns_PBS_iHS_05[i] == Genes_iHS_05_200kb[4][a]:\n",
    "            lista.append(f\"{Genes_iHS_05_200kb[0][a]}\\t{Genes_iHS_05_200kb[1][a]}\\t{Genes_iHS_05_200kb[2][a]}\\t{Genes_iHS_05_200kb[4][a]}\\n\")\n",
    "lista = set(lista)\n",
    "\n",
    "for conteudo in lista:\n",
    "    File_GenesComuns_PBS_iHS_05.write(conteudo)\n"
   ]
  },
  {
   "cell_type": "markdown",
   "metadata": {},
   "source": [
    "#### PBS + TajimasD"
   ]
  },
  {
   "cell_type": "code",
   "execution_count": 41,
   "metadata": {},
   "outputs": [],
   "source": [
    "GenesComuns_PBS_TajimasD_05=(np.intersect1d(Genes_PBS_05[4],Genes_TajimasD_05_100kb[4]))\n",
    "\n",
    "File_GenesComuns_PBS_TajimasD_05=open(\"IndiaResults/ComunsBetweenMethods/0.5%/PBS_TajimasD200kb_GenesComuns_GreaterZeroCincoPercent.txt\", \"w\")\n",
    "lista = []\n",
    "for i in range(len(GenesComuns_PBS_TajimasD_05)):\n",
    "    for a in range(len(Genes_TajimasD_05_100kb[4])):\n",
    "        if GenesComuns_PBS_TajimasD_05[i] == Genes_TajimasD_05_100kb[4][a]:\n",
    "            lista.append(f\"{Genes_TajimasD_05[0][a]}\\t{Genes_TajimasD_05_100kb[1][a]}\\t{Genes_TajimasD_05_100kb[2][a]}\\t{Genes_TajimasD_05_100kb[4][a]}\\n\")\n",
    "lista = set(lista)\n",
    "\n",
    "for conteudo in lista:\n",
    "    File_GenesComuns_PBS_TajimasD_05.write(conteudo)\n"
   ]
  },
  {
   "cell_type": "markdown",
   "metadata": {},
   "source": [
    "#### PBS + CLR"
   ]
  },
  {
   "cell_type": "code",
   "execution_count": 99,
   "metadata": {},
   "outputs": [],
   "source": [
    "GenesComuns_PBS_CLR_05=(np.intersect1d(Genes_PBS_05[4],Genes_CLR_05_200kb[4]))\n",
    "\n",
    "File_GenesComuns_PBS_CLR_05=open(\"IndiaResults/ComunsBetweenMethods/0.5%/PBS_CLR200kb_GenesComuns_GreaterZeroCincoPercent.txt\", \"w\")\n",
    "lista = []\n",
    "for i in range(len(GenesComuns_PBS_CLR_05)):\n",
    "    for a in range(len(Genes_CLR_05_200kb[4])):\n",
    "        if GenesComuns_PBS_CLR_05[i] == Genes_CLR_05_200kb[4][a]:\n",
    "            lista.append(f\"{Genes_CLR_05_200kb[0][a]}\\t{Genes_CLR_05_200kb[1][a]}\\t{Genes_CLR_05_200kb[2][a]}\\t{Genes_CLR_05_200kb[4][a]}\\n\")\n",
    "lista = set(lista)\n",
    "\n",
    "for conteudo in lista:\n",
    "    File_GenesComuns_PBS_CLR_05.write(conteudo)\n"
   ]
  },
  {
   "cell_type": "markdown",
   "metadata": {},
   "source": [
    "#### PBS + GRoSS"
   ]
  },
  {
   "cell_type": "code",
   "execution_count": 96,
   "metadata": {},
   "outputs": [],
   "source": [
    "GenesComuns_PBS_GRoSS_05=(np.intersect1d(Genes_PBS_05[4],Genes_GRoSS_05_200kb[4]))\n",
    "\n",
    "File_GenesComuns_PBS_GRoSS_05=open(\"IndiaResults/ComunsBetweenMethods/0.5%/PBS_GRoSS200kb_GenesComuns_GreaterZeroCincoPercent.txt\", \"w\")\n",
    "lista = []\n",
    "for i in range(len(GenesComuns_PBS_GRoSS_05)):\n",
    "    for a in range(len(Genes_GRoSS_05_200kb[4])):\n",
    "        if GenesComuns_PBS_GRoSS_05[i] == Genes_GRoSS_05_200kb[4][a]:\n",
    "            lista.append(f\"{Genes_GRoSS_05_200kb[0][a]}\\t{Genes_GRoSS_05_200kb[1][a]}\\t{Genes_GRoSS_05_200kb[2][a]}\\t{Genes_GRoSS_05_200kb[4][a]}\\n\")\n",
    "lista = set(lista)\n",
    "\n",
    "for conteudo in lista:\n",
    "    File_GenesComuns_PBS_GRoSS_05.write(conteudo)\n"
   ]
  },
  {
   "cell_type": "markdown",
   "metadata": {},
   "source": [
    "#### xpEHH +iHS"
   ]
  },
  {
   "cell_type": "code",
   "execution_count": 102,
   "metadata": {},
   "outputs": [],
   "source": [
    "GenesComuns_xpEHH_iHS_05=(np.intersect1d(Genes_xpEHH_05_200kb[4],Genes_iHS_05_200kb[4]))\n",
    "\n",
    "File_GenesComuns_xpEHH_iHS_05=open(\"IndiaResults/ComunsBetweenMethods/0.5%/xpEHH_iHS200kb_GenesComuns_GreaterZeroCincoPercent.txt\", \"w\")\n",
    "lista = []\n",
    "for i in range(len(GenesComuns_xpEHH_iHS_05)):\n",
    "    for a in range(len(Genes_iHS_05_200kb[4])):\n",
    "        if GenesComuns_xpEHH_iHS_05[i] == Genes_iHS_05_200kb[4][a]:\n",
    "            lista.append(f\"{Genes_iHS_05_200kb[0][a]}\\t{Genes_iHS_05_200kb[1][a]}\\t{Genes_iHS_05_200kb[2][a]}\\t{Genes_iHS_05_200kb[4][a]}\\n\")\n",
    "lista = set(lista)\n",
    "\n",
    "for conteudo in lista:\n",
    "    File_GenesComuns_xpEHH_iHS_05.write(conteudo)\n"
   ]
  },
  {
   "cell_type": "markdown",
   "metadata": {},
   "source": [
    "#### xpEHH + TajimasD"
   ]
  },
  {
   "cell_type": "code",
   "execution_count": 43,
   "metadata": {},
   "outputs": [
    {
     "name": "stdout",
     "output_type": "stream",
     "text": [
      "['MACF1' 'MGAT4C']\n"
     ]
    }
   ],
   "source": [
    "print((np.intersect1d(Genes_xpEHH_05_200kb[4],Genes_TajimasD_05_100kb[4])))"
   ]
  },
  {
   "cell_type": "code",
   "execution_count": 107,
   "metadata": {},
   "outputs": [],
   "source": [
    "GenesComuns_xpEHH_TajimasD_05=(np.intersect1d(Genes_xpEHH_05_200kb[4],Genes_TajimasD_05_100kb[4]))\n",
    "\n",
    "File_GenesComuns_xpEHH_TajimasD_05=open(\"IndiaResults/ComunsBetweenMethods/0.5%/xpEHH_TajimasD200kb_GenesComuns_GreaterZeroCincoPercent.txt\", \"w\")\n",
    "lista = []\n",
    "for i in range(len(GenesComuns_xpEHH_TajimasD_05)):\n",
    "    for a in range(len(Genes_TajimasD_05[4])):\n",
    "        if GenesComuns_xpEHH_TajimasD_05[i] == Genes_TajimasD_05[4][a]:\n",
    "            lista.append(f\"{Genes_TajimasD_05[0][a]}\\t{Genes_TajimasD_05[1][a]}\\t{Genes_TajimasD_05[2][a]}\\t{Genes_TajimasD_05[4][a]}\\n\")\n",
    "lista = set(lista)\n",
    "\n",
    "for conteudo in lista:\n",
    "    File_GenesComuns_xpEHH_TajimasD_05.write(conteudo)\n"
   ]
  },
  {
   "cell_type": "markdown",
   "metadata": {},
   "source": [
    "#### xpEHH + CLR"
   ]
  },
  {
   "cell_type": "code",
   "execution_count": 111,
   "metadata": {},
   "outputs": [],
   "source": [
    "GenesComuns_xpEHH_CLR_05=(np.intersect1d(Genes_xpEHH_05_200kb[4],Genes_CLR_05_200kb[4]))\n",
    "\n",
    "File_GenesComuns_xpEHH_CLR_05=open(\"IndiaResults/ComunsBetweenMethods/0.5%/xpEHH_CLR200kb_GenesComuns_GreaterZeroCincoPercent.txt\", \"w\")\n",
    "lista = []\n",
    "for i in range(len(GenesComuns_xpEHH_CLR_05)):\n",
    "    for a in range(len(Genes_CLR_05_200kb[4])):\n",
    "        if GenesComuns_xpEHH_CLR_05[i] == Genes_CLR_05_200kb[4][a]:\n",
    "            lista.append(f\"{Genes_CLR_05_200kb[0][a]}\\t{Genes_CLR_05_200kb[1][a]}\\t{Genes_CLR_05_200kb[2][a]}\\t{Genes_CLR_05_200kb[4][a]}\\n\")\n",
    "lista = set(lista)\n",
    "\n",
    "for conteudo in lista:\n",
    "    File_GenesComuns_xpEHH_CLR_05.write(conteudo)\n"
   ]
  },
  {
   "cell_type": "markdown",
   "metadata": {},
   "source": [
    "#### xpEHH + GRoSS"
   ]
  },
  {
   "cell_type": "code",
   "execution_count": 115,
   "metadata": {},
   "outputs": [],
   "source": [
    "GenesComuns_xpEHH_GRoSS_05=(np.intersect1d(Genes_xpEHH_05_200kb[4],Genes_GRoSS_05_200kb[4]))\n",
    "\n",
    "File_GenesComuns_xpEHH_GRoSS_05=open(\"IndiaResults/ComunsBetweenMethods/0.5%/xpEHH_GRoSS200kb_GenesComuns_GreaterZeroCincoPercent.txt\", \"w\")\n",
    "lista = []\n",
    "for i in range(len(GenesComuns_xpEHH_GRoSS_05)):\n",
    "    for a in range(len(Genes_GRoSS_05_200kb[4])):\n",
    "        if GenesComuns_xpEHH_GRoSS_05[i] == Genes_GRoSS_05_200kb[4][a]:\n",
    "            lista.append(f\"{Genes_GRoSS_05_200kb[0][a]}\\t{Genes_GRoSS_05_200kb[1][a]}\\t{Genes_GRoSS_05_200kb[2][a]}\\t{Genes_GRoSS_05_200kb[4][a]}\\n\")\n",
    "lista = set(lista)\n",
    "\n",
    "for conteudo in lista:\n",
    "    File_GenesComuns_xpEHH_GRoSS_05.write(conteudo)\n"
   ]
  },
  {
   "cell_type": "markdown",
   "metadata": {},
   "source": [
    "#### iHS + TajimasD"
   ]
  },
  {
   "cell_type": "code",
   "execution_count": 44,
   "metadata": {},
   "outputs": [
    {
     "name": "stdout",
     "output_type": "stream",
     "text": [
      "['TRNA_Leu']\n"
     ]
    }
   ],
   "source": [
    "print(np.intersect1d(Genes_iHS_05_200kb[4],Genes_TajimasD_05_100kb[4]))"
   ]
  },
  {
   "cell_type": "code",
   "execution_count": 122,
   "metadata": {},
   "outputs": [],
   "source": [
    "GenesComuns_iHS_TajimasD_05=(np.intersect1d(Genes_iHS_05_200kb[4],Genes_TajimasD_05[4]))\n",
    "\n",
    "File_GenesComuns_iHS_TajimasD_05=open(\"IndiaResults/ComunsBetweenMethods/0.5%/iHS_TajimasD200kb_GenesComuns_GreaterZeroCincoPercent.txt\", \"w\")\n",
    "lista = []\n",
    "for i in range(len(GenesComuns_iHS_TajimasD_05)):\n",
    "    for a in range(len(Genes_TajimasD_05[4])):\n",
    "        if GenesComuns_iHS_TajimasD_05[i] == Genes_TajimasD_05[4][a]:\n",
    "            lista.append(f\"{Genes_TajimasD_05[0][a]}\\t{Genes_TajimasD_05[1][a]}\\t{Genes_TajimasD_05[2][a]}\\t{Genes_TajimasD_05[4][a]}\\n\")\n",
    "lista = set(lista)\n",
    "\n",
    "for conteudo in lista:\n",
    "    File_GenesComuns_iHS_TajimasD_05.write(conteudo)\n"
   ]
  },
  {
   "cell_type": "markdown",
   "metadata": {},
   "source": [
    "#### iHS + CLR"
   ]
  },
  {
   "cell_type": "code",
   "execution_count": 125,
   "metadata": {},
   "outputs": [],
   "source": [
    "GenesComuns_iHS_CLR_05=(np.intersect1d(Genes_iHS_05_200kb[4],Genes_CLR_05_200kb[4]))\n",
    "\n",
    "File_GenesComuns_iHS_CLR_05=open(\"IndiaResults/ComunsBetweenMethods/0.5%/iHS_CLR200kb_GenesComuns_GreaterZeroCincoPercent.txt\", \"w\")\n",
    "lista = []\n",
    "for i in range(len(GenesComuns_iHS_CLR_05)):\n",
    "    for a in range(len(Genes_CLR_05_200kb[4])):\n",
    "        if GenesComuns_iHS_CLR_05[i] == Genes_CLR_05_200kb[4][a]:\n",
    "            lista.append(f\"{Genes_CLR_05_200kb[0][a]}\\t{Genes_CLR_05_200kb[1][a]}\\t{Genes_CLR_05_200kb[2][a]}\\t{Genes_CLR_05_200kb[4][a]}\\n\")\n",
    "lista = set(lista)\n",
    "\n",
    "for conteudo in lista:\n",
    "    File_GenesComuns_iHS_CLR_05.write(conteudo)\n"
   ]
  },
  {
   "cell_type": "markdown",
   "metadata": {},
   "source": [
    "#### iHS + GRoSS"
   ]
  },
  {
   "cell_type": "code",
   "execution_count": 128,
   "metadata": {},
   "outputs": [],
   "source": [
    "GenesComuns_iHS_GRoSS_05=(np.intersect1d(Genes_iHS_05_200kb[4],Genes_GRoSS_05_200kb[4]))\n",
    "\n",
    "File_GenesComuns_iHS_GRoSS_05=open(\"IndiaResults/ComunsBetweenMethods/0.5%/iHS_GRoSS200kb_GenesComuns_GreaterZeroCincoPercent.txt\", \"w\")\n",
    "lista = []\n",
    "for i in range(len(GenesComuns_iHS_GRoSS_05)):\n",
    "    for a in range(len(Genes_GRoSS_05_200kb[4])):\n",
    "        if GenesComuns_iHS_GRoSS_05[i] == Genes_GRoSS_05_200kb[4][a]:\n",
    "            lista.append(f\"{Genes_GRoSS_05_200kb[0][a]}\\t{Genes_GRoSS_05_200kb[1][a]}\\t{Genes_GRoSS_05_200kb[2][a]}\\t{Genes_GRoSS_05_200kb[4][a]}\\n\")\n",
    "lista = set(lista)\n",
    "\n",
    "for conteudo in lista:\n",
    "    File_GenesComuns_iHS_GRoSS_05.write(conteudo)\n"
   ]
  },
  {
   "cell_type": "markdown",
   "metadata": {},
   "source": [
    "#### TajimasD + CLR"
   ]
  },
  {
   "cell_type": "code",
   "execution_count": 47,
   "metadata": {},
   "outputs": [
    {
     "name": "stdout",
     "output_type": "stream",
     "text": [
      "['CCDC59' 'METTL25' 'SLC25A46' 'SNORA51' 'TMEM232' 'TRNA_Ala' 'TRNA_Leu'\n",
      " 'abParts']\n"
     ]
    }
   ],
   "source": [
    "print(np.intersect1d(Genes_TajimasD_05_100kb[4],Genes_CLR_05_200kb[4]))"
   ]
  },
  {
   "cell_type": "code",
   "execution_count": 137,
   "metadata": {},
   "outputs": [],
   "source": [
    "GenesComuns_TajimasD_CLR_05=(np.intersect1d(Genes_TajimasD_05[4],Genes_CLR_05_200kb[4]))\n",
    "\n",
    "File_GenesComuns_TajimasD_CLR_05=open(\"IndiaResults/ComunsBetweenMethods/0.5%/TajimasD_CLR200kb_GenesComuns_GreaterZeroCincoPercent.txt\", \"w\")\n",
    "lista = []\n",
    "for i in range(len(GenesComuns_TajimasD_CLR_05)):\n",
    "    for a in range(len(Genes_CLR_05_200kb[4])):\n",
    "        if GenesComuns_TajimasD_CLR_05[i] == Genes_CLR_05_200kb[4][a]:\n",
    "            lista.append(f\"{Genes_CLR_05_200kb[0][a]}\\t{Genes_CLR_05_200kb[1][a]}\\t{Genes_CLR_05_200kb[2][a]}\\t{Genes_CLR_05_200kb[4][a]}\\n\")\n",
    "lista = set(lista)\n",
    "\n",
    "for conteudo in lista:\n",
    "    File_GenesComuns_TajimasD_CLR_05.write(conteudo)\n"
   ]
  },
  {
   "cell_type": "markdown",
   "metadata": {},
   "source": [
    "#### TajimasD + GRoSS"
   ]
  },
  {
   "cell_type": "code",
   "execution_count": 48,
   "metadata": {},
   "outputs": [
    {
     "name": "stdout",
     "output_type": "stream",
     "text": [
      "['7SK' 'BCAS3' 'ERC2' 'NPSR1-AS1']\n"
     ]
    }
   ],
   "source": [
    "print(np.intersect1d(Genes_TajimasD_05[4],Genes_GRoSS_05_200kb[4]))"
   ]
  },
  {
   "cell_type": "code",
   "execution_count": 141,
   "metadata": {},
   "outputs": [],
   "source": [
    "GenesComuns_TajimasD_GRoSS_05=(np.intersect1d(Genes_TajimasD_05[4],Genes_GRoSS_05_200kb[4]))\n",
    "\n",
    "File_GenesComuns_TajimasD_GRoSS_05=open(\"IndiaResults/ComunsBetweenMethods/0.5%/TajimasD_GRoSS200kb_GenesComuns_GreaterZeroCincoPercent.txt\", \"w\")\n",
    "lista = []\n",
    "for i in range(len(GenesComuns_TajimasD_GRoSS_05)):\n",
    "    for a in range(len(Genes_GRoSS_05_200kb[4])):\n",
    "        if GenesComuns_TajimasD_GRoSS_05[i] == Genes_GRoSS_05_200kb[4][a]:\n",
    "            lista.append(f\"{Genes_GRoSS_05_200kb[0][a]}\\t{Genes_GRoSS_05_200kb[1][a]}\\t{Genes_GRoSS_05_200kb[2][a]}\\t{Genes_GRoSS_05_200kb[4][a]}\\n\")\n",
    "lista = set(lista)\n",
    "\n",
    "for conteudo in lista:\n",
    "    File_GenesComuns_TajimasD_GRoSS_05.write(conteudo)\n"
   ]
  },
  {
   "cell_type": "markdown",
   "metadata": {},
   "source": [
    "#### CLR + GRoSS"
   ]
  },
  {
   "cell_type": "code",
   "execution_count": 133,
   "metadata": {},
   "outputs": [],
   "source": [
    "GenesComuns_CLR_GRoSS_05=(np.intersect1d(Genes_CLR_05_200kb[4],Genes_GRoSS_05_200kb[4]))\n",
    "\n",
    "File_GenesComuns_CLR_GRoSS_05=open(\"IndiaResults/ComunsBetweenMethods/0.5%/CLR_GRoSS200kb_GenesComuns_GreaterZeroCincoPercent.txt\", \"w\")\n",
    "lista = []\n",
    "for i in range(len(GenesComuns_CLR_GRoSS_05)):\n",
    "    for a in range(len(Genes_GRoSS_05_200kb[4])):\n",
    "        if GenesComuns_CLR_GRoSS_05[i] == Genes_GRoSS_05_200kb[4][a]:\n",
    "            lista.append(f\"{Genes_GRoSS_05_200kb[0][a]}\\t{Genes_GRoSS_05_200kb[1][a]}\\t{Genes_GRoSS_05_200kb[2][a]}\\t{Genes_GRoSS_05_200kb[4][a]}\\n\")\n",
    "lista = set(lista)\n",
    "\n",
    "for conteudo in lista:\n",
    "    File_GenesComuns_CLR_GRoSS_05.write(conteudo)\n"
   ]
  },
  {
   "cell_type": "markdown",
   "metadata": {},
   "source": [
    "### Common Genes Between Groups 0.1%"
   ]
  },
  {
   "cell_type": "markdown",
   "metadata": {},
   "source": [
    "#### PBS"
   ]
  },
  {
   "cell_type": "code",
   "execution_count": 71,
   "metadata": {},
   "outputs": [],
   "source": [
    "GenesComuns_PBS_01=np.intersect1d(np.intersect1d(Genes_PBS_India_01,Genes_PBS_Caste_01), np.intersect1d(Genes_PBS_Tribe_01,Genes_PBS_India1kgp_01))\n",
    "\n",
    "File_GenesComuns_PBS_01=open(\"IndiaResults/PBS/FinalResultsGenes/PBS_GenesComuns_GreaterZeroOnePercent.txt\", \"w\")\n",
    "\n",
    "for i in range(len(GenesComuns_PBS_01)):\n",
    "    for a in range(len(Genes_PBS_India_01[\"hg19.kgXref.geneSymbol\"])):\n",
    "        if GenesComuns_PBS_01[i] == Genes_PBS_India_01[\"hg19.kgXref.geneSymbol\"][a]:\n",
    "            File_GenesComuns_PBS_01.write(f\"{Genes_PBS_India_01['hg19.knownGene.chrom'][a]}\\t{Genes_PBS_India_01['#hg19.knownGene.name'][a]}\\t{Genes_PBS_India_01['hg19.kgXref.geneSymbol'][a]}\\n\")"
   ]
  },
  {
   "cell_type": "markdown",
   "metadata": {},
   "source": [
    "#### xpEHH"
   ]
  },
  {
   "cell_type": "code",
   "execution_count": 63,
   "metadata": {},
   "outputs": [],
   "source": [
    "GenesComuns_xpEHH_01_200kb=np.intersect1d(np.intersect1d(Genes_xpEHH_India_01_200kb[\"hg19.kgXref.geneSymbol\"],Genes_xpEHH_Caste_01_200kb[\"hg19.kgXref.geneSymbol\"]), np.intersect1d(Genes_xpEHH_Tribe_01_200kb[\"hg19.kgXref.geneSymbol\"],Genes_xpEHH_India1kgp_01_200kb[\"hg19.kgXref.geneSymbol\"]))\n",
    "\n",
    "File_GenesComuns_xpEHH_01_200kb=open(\"IndiaResults/xpEHH/FinalResultsGenes/xpEHH_GenesComuns_GreaterZeroOnePercent_200kb.txt\", \"w\")\n",
    "\n",
    "for i in range(len(GenesComuns_xpEHH_01_200kb)):\n",
    "    for a in range(len(Genes_xpEHH_India_01_200kb[\"hg19.kgXref.geneSymbol\"])):\n",
    "        if GenesComuns_xpEHH_01_200kb[i] == Genes_xpEHH_India_01_200kb[\"hg19.kgXref.geneSymbol\"][a]:\n",
    "            File_GenesComuns_xpEHH_01_200kb.write(f\"{Genes_xpEHH_India_01_200kb['hg19.knownGene.chrom'][a]}\\t{Genes_xpEHH_India_01_200kb['hg19.knownGene.txStart'][a]}\\t{Genes_xpEHH_India_01_200kb['hg19.knownGene.txEnd'][a]}\\t{Genes_xpEHH_India_01_200kb['#hg19.knownGene.name'][a]}\\t{Genes_xpEHH_India_01_200kb['hg19.kgXref.geneSymbol'][a]}\\n\")"
   ]
  },
  {
   "cell_type": "markdown",
   "metadata": {},
   "source": [
    "#### iHS"
   ]
  },
  {
   "cell_type": "code",
   "execution_count": 64,
   "metadata": {},
   "outputs": [],
   "source": [
    "GenesComuns_iHS_01_200kb=np.intersect1d(np.intersect1d(Genes_iHS_India_01_200kb[\"hg19.kgXref.geneSymbol\"],Genes_iHS_Caste_01_200kb[\"hg19.kgXref.geneSymbol\"]), np.intersect1d(Genes_iHS_Tribe_01_200kb[\"hg19.kgXref.geneSymbol\"],Genes_iHS_India1kgp_01_200kb[\"hg19.kgXref.geneSymbol\"]))\n",
    "\n",
    "File_GenesComuns_iHS_01_200kb=open(\"IndiaResults/iHS/FinalResultsGenes/iHS_GenesComuns_GreaterZeroOnePercent_200kb.txt\", \"w\")\n",
    "\n",
    "for i in range(len(GenesComuns_iHS_01_200kb)):\n",
    "    for a in range(len(Genes_iHS_India_01_200kb[\"hg19.kgXref.geneSymbol\"])):\n",
    "        if GenesComuns_iHS_01_200kb[i] == Genes_iHS_India_01_200kb[\"hg19.kgXref.geneSymbol\"][a]:\n",
    "            File_GenesComuns_iHS_01_200kb.write(f\"{Genes_iHS_India_01_200kb['hg19.knownGene.chrom'][a]}\\t{Genes_iHS_India_01_200kb['hg19.knownGene.txStart'][a]}\\t{Genes_iHS_India_01_200kb['hg19.knownGene.txEnd'][a]}\\t{Genes_iHS_India_01_200kb['#hg19.knownGene.name'][a]}\\t{Genes_iHS_India_01_200kb['hg19.kgXref.geneSymbol'][a]}\\n\")"
   ]
  },
  {
   "cell_type": "markdown",
   "metadata": {},
   "source": [
    "#### TajimasD"
   ]
  },
  {
   "cell_type": "code",
   "execution_count": 53,
   "metadata": {},
   "outputs": [],
   "source": [
    "GenesComuns_TajimasD_01_100kb=np.intersect1d(np.intersect1d(Genes_TajimasD_India_01_100kb[\"hg19.kgXref.geneSymbol\"],Genes_TajimasD_Caste_01_100kb[\"hg19.kgXref.geneSymbol\"]), np.intersect1d(Genes_TajimasD_Tribe_01_100kb[\"hg19.kgXref.geneSymbol\"],Genes_TajimasD_India1kgp_01_100kb[\"hg19.kgXref.geneSymbol\"]))\n",
    "\n",
    "File_GenesComuns_TajimasD_01_100kb=open(\"IndiaResults/TajimasD/FinalResultsGenes/TajimasD_GenesComuns_GreaterZeroOnePercent_100kb.txt\", \"w\")\n",
    "\n",
    "for i in range(len(GenesComuns_TajimasD_01_100kb)):\n",
    "    for a in range(len(Genes_TajimasD_India_01_100kb[\"hg19.kgXref.geneSymbol\"])):\n",
    "        if GenesComuns_TajimasD_01_100kb[i] == Genes_TajimasD_India_01_100kb[\"hg19.kgXref.geneSymbol\"][a]:\n",
    "            File_GenesComuns_TajimasD_01_100kb.write(f\"{Genes_TajimasD_India_01_100kb['hg19.knownGene.chrom'][a]}\\t{Genes_TajimasD_India_01_100kb['#hg19.knownGene.name'][a]}\\t{Genes_TajimasD_India_01_100kb['hg19.kgXref.geneSymbol'][a]}\\n\")"
   ]
  },
  {
   "cell_type": "markdown",
   "metadata": {},
   "source": [
    "#### CLR"
   ]
  },
  {
   "cell_type": "code",
   "execution_count": 93,
   "metadata": {},
   "outputs": [],
   "source": [
    "GenesComuns_CLR_01_200kb=np.intersect1d(np.intersect1d(Genes_CLR_India_01_200kb[\"hg19.kgXref.geneSymbol\"],Genes_CLR_Caste_01_200kb[\"hg19.kgXref.geneSymbol\"]), np.intersect1d(Genes_CLR_Tribe_01_200kb[\"hg19.kgXref.geneSymbol\"],Genes_CLR_India1kgp_01_200kb[\"hg19.kgXref.geneSymbol\"]))\n",
    "\n",
    "File_GenesComuns_CLR_01_200kb=open(\"IndiaResults/CLR/FinalResultsGenes/CLR10SNPs_GenesComuns_GreaterZeroOnePercent_200kb.txt\", \"w\")\n",
    "\n",
    "for i in range(len(GenesComuns_CLR_01_200kb)):\n",
    "    for a in range(len(Genes_CLR_India_01_200kb[\"hg19.kgXref.geneSymbol\"])):\n",
    "        if GenesComuns_CLR_01_200kb[i] == Genes_CLR_India_01_200kb[\"hg19.kgXref.geneSymbol\"][a]:\n",
    "            File_GenesComuns_CLR_01_200kb.write(f\"{Genes_CLR_India_01_200kb['hg19.knownGene.chrom'][a]}\\t{Genes_CLR_India_01_200kb['hg19.knownGene.txStart'][a]}\\t{Genes_CLR_India_01_200kb['hg19.knownGene.txEnd'][a]}\\t{Genes_CLR_India_01_200kb['#hg19.knownGene.name'][a]}\\t{Genes_CLR_India_01_200kb['hg19.kgXref.geneSymbol'][a]}\\n\")"
   ]
  },
  {
   "cell_type": "code",
   "execution_count": 94,
   "metadata": {},
   "outputs": [
    {
     "data": {
      "text/plain": [
       "6"
      ]
     },
     "execution_count": 94,
     "metadata": {},
     "output_type": "execute_result"
    }
   ],
   "source": [
    "len(GenesComuns_CLR_01_200kb)"
   ]
  },
  {
   "cell_type": "markdown",
   "metadata": {},
   "source": [
    "#### GRoSS"
   ]
  },
  {
   "cell_type": "code",
   "execution_count": 68,
   "metadata": {},
   "outputs": [],
   "source": [
    "GenesComuns_GRoSS_01_200kb=np.intersect1d(np.intersect1d(Genes_GRoSS_India_01_200kb[\"hg19.kgXref.geneSymbol\"],Genes_GRoSS_Caste_01_200kb[\"hg19.kgXref.geneSymbol\"]), np.intersect1d(Genes_GRoSS_Tribe_01_200kb[\"hg19.kgXref.geneSymbol\"],Genes_GRoSS_India1kgp_01_200kb[\"hg19.kgXref.geneSymbol\"]))\n",
    "\n",
    "File_GenesComuns_GRoSS_01_200kb=open(\"IndiaResults/GRoSS/FinalResultsGenes/GRoSS_GenesComuns_GreaterZeroOnePercent_200kb.txt\", \"w\")\n",
    "\n",
    "for i in range(len(GenesComuns_GRoSS_01_200kb)):\n",
    "    for a in range(len(Genes_GRoSS_India_01_200kb[\"hg19.kgXref.geneSymbol\"])):\n",
    "        if GenesComuns_GRoSS_01_200kb[i] == Genes_GRoSS_India_01_200kb[\"hg19.kgXref.geneSymbol\"][a]:\n",
    "            File_GenesComuns_GRoSS_01_200kb.write(f\"{Genes_GRoSS_India_01_200kb['hg19.knownGene.chrom'][a]}\\t{Genes_GRoSS_India_01_200kb['hg19.knownGene.txStart'][a]}\\t{Genes_GRoSS_India_01_200kb['hg19.knownGene.txEnd'][a]}\\t{Genes_GRoSS_India_01_200kb['#hg19.knownGene.name'][a]}\\t{Genes_GRoSS_India_01_200kb['hg19.kgXref.geneSymbol'][a]}\\n\")"
   ]
  },
  {
   "cell_type": "code",
   "execution_count": 69,
   "metadata": {},
   "outputs": [
    {
     "data": {
      "text/plain": [
       "142"
      ]
     },
     "execution_count": 69,
     "metadata": {},
     "output_type": "execute_result"
    }
   ],
   "source": [
    "len(GenesComuns_GRoSS_01_200kb)"
   ]
  },
  {
   "cell_type": "markdown",
   "metadata": {},
   "source": [
    "### Common Genes Between Methods 0.1%"
   ]
  },
  {
   "cell_type": "code",
   "execution_count": 59,
   "metadata": {},
   "outputs": [],
   "source": [
    "Genes_PBS_01=pd.read_csv('IndiaResults/PBS/FinalResultsGenes/0.1%/PBS_GenesComuns_GreaterZeroOnePercent.txt', sep=\"\\t\", header=None)\n",
    "Genes_xpEHH_01_200kb=pd.read_csv('IndiaResults/xpEHH/FinalResultsGenes/0.1%/xpEHH_GenesComuns_GreaterZeroOnePercent_200kb.txt', sep=\"\\t\", header=None)\n",
    "Genes_iHS_01_200kb=pd.read_csv('IndiaResults/iHS/FinalResultsGenes/0.1%/iHS_GenesComuns_GreaterZeroOnePercent_200kb.txt', sep=\"\\t\", header=None)\n",
    "Genes_TajimasD_01_100kb=pd.read_csv('IndiaResults/TajimasD/FinalResultsGenes/TajimasD_GenesComuns_GreaterZeroOnePercent_100kb.txt', sep=\"\\t\", header=None)\n",
    "Genes_CLR_01_200kb=pd.read_csv('IndiaResults/CLR/FinalResultsGenes/0.1%/CLR_GenesComuns_GreaterZeroOnePercent_200kb.txt', sep=\"\\t\", header=None)\n",
    "Genes_GRoSS_01_200kb=pd.read_csv('IndiaResults/GRoSS/FinalResultsGenes/GRoSS_GenesComuns_GreaterZeroOnePercent_200kb.txt', sep=\"\\t\", header=None)\n"
   ]
  },
  {
   "cell_type": "markdown",
   "metadata": {},
   "source": [
    "##### Genes PBS+xpEHH"
   ]
  },
  {
   "cell_type": "code",
   "execution_count": 85,
   "metadata": {},
   "outputs": [
    {
     "data": {
      "text/plain": [
       "100"
      ]
     },
     "execution_count": 85,
     "metadata": {},
     "output_type": "execute_result"
    }
   ],
   "source": [
    "len(np.intersect1d(Genes_PBS_01[1],Genes_xpEHH_01_200kb[3]))"
   ]
  },
  {
   "cell_type": "code",
   "execution_count": 90,
   "metadata": {},
   "outputs": [],
   "source": [
    "GenesComuns_PBS_xpEHH_01=(np.intersect1d(Genes_PBS_01[1],Genes_xpEHH_01_200kb[3]))\n",
    "\n",
    "File_GenesComuns_PBS_xpEHH_01=open(\"IndiaResults/PBS_xpEHH200kb_GenesComuns_GreaterZeroOnePercent.txt\", \"w\")\n",
    "lista = []\n",
    "for i in range(len(GenesComuns_PBS_xpEHH_01)):\n",
    "    for a in range(len(Genes_xpEHH_01_200kb[1])):\n",
    "        if GenesComuns_PBS_xpEHH_01[i] == Genes_xpEHH_01_200kb[3][a]:\n",
    "            lista.append(f\"{Genes_xpEHH_01_200kb[0][a]}\\t{Genes_xpEHH_01_200kb[1][a]}\\t{Genes_xpEHH_01_200kb[2][a]}\\t{Genes_xpEHH_01_200kb[4][a]}\\n\")\n",
    "lista = set(lista)\n",
    "\n",
    "for conteudo in lista:\n",
    "    File_GenesComuns_PBS_xpEHH_01.write(conteudo)\n"
   ]
  },
  {
   "cell_type": "markdown",
   "metadata": {},
   "source": [
    "##### Genes PBS+iHS"
   ]
  },
  {
   "cell_type": "code",
   "execution_count": 91,
   "metadata": {},
   "outputs": [
    {
     "data": {
      "text/plain": [
       "0"
      ]
     },
     "execution_count": 91,
     "metadata": {},
     "output_type": "execute_result"
    }
   ],
   "source": [
    "len(np.intersect1d(Genes_PBS_01[1],Genes_iHS_01_200kb[3]))"
   ]
  },
  {
   "cell_type": "markdown",
   "metadata": {},
   "source": [
    "##### Genes PBS+TajimasD"
   ]
  },
  {
   "cell_type": "code",
   "execution_count": 61,
   "metadata": {},
   "outputs": [
    {
     "data": {
      "text/plain": [
       "0"
      ]
     },
     "execution_count": 61,
     "metadata": {},
     "output_type": "execute_result"
    }
   ],
   "source": [
    "len(np.intersect1d(Genes_PBS_01[1],Genes_TajimasD_01_100kb[1]))"
   ]
  },
  {
   "cell_type": "markdown",
   "metadata": {},
   "source": [
    "##### Genes PBS+CLR"
   ]
  },
  {
   "cell_type": "code",
   "execution_count": 93,
   "metadata": {},
   "outputs": [
    {
     "data": {
      "text/plain": [
       "0"
      ]
     },
     "execution_count": 93,
     "metadata": {},
     "output_type": "execute_result"
    }
   ],
   "source": [
    "len(np.intersect1d(Genes_PBS_01[1],Genes_CLR_01_200kb[3]))"
   ]
  },
  {
   "cell_type": "markdown",
   "metadata": {},
   "source": [
    "##### Genes PBS+GroSS"
   ]
  },
  {
   "cell_type": "code",
   "execution_count": 95,
   "metadata": {},
   "outputs": [
    {
     "data": {
      "text/plain": [
       "148"
      ]
     },
     "execution_count": 95,
     "metadata": {},
     "output_type": "execute_result"
    }
   ],
   "source": [
    "len(np.intersect1d(Genes_PBS_01[1],Genes_GRoSS_01_200kb[3]))"
   ]
  },
  {
   "cell_type": "code",
   "execution_count": 107,
   "metadata": {},
   "outputs": [],
   "source": [
    "GenesComuns_PBS_GRoSS_01=(np.intersect1d(Genes_PBS_01[1],Genes_GRoSS_01_200kb[3]))\n",
    "\n",
    "File_GenesComuns_PBS_GRoSS_01=open(\"IndiaResults/PBS_GRoSS200kb_GenesComuns_GreaterZeroOnePercent.txt\", \"w\")\n",
    "lista = []\n",
    "for i in range(len(GenesComuns_PBS_GRoSS_01)):\n",
    "    for a in range(len(Genes_GRoSS_01_200kb[1])):\n",
    "        if GenesComuns_PBS_GRoSS_01[i] == Genes_GRoSS_01_200kb[3][a]:\n",
    "            lista.append(f\"{Genes_GRoSS_01_200kb[0][a]}\\t{Genes_GRoSS_01_200kb[1][a]}\\t{Genes_GRoSS_01_200kb[2][a]}\\t{Genes_GRoSS_01_200kb[4][a]}\\n\")\n",
    "lista = set(lista)\n",
    "\n",
    "for conteudo in lista:\n",
    "    File_GenesComuns_PBS_GRoSS_01.write(conteudo)\n"
   ]
  },
  {
   "cell_type": "markdown",
   "metadata": {},
   "source": [
    "##### Genes xpEHH+iHS"
   ]
  },
  {
   "cell_type": "code",
   "execution_count": 142,
   "metadata": {},
   "outputs": [
    {
     "data": {
      "text/plain": [
       "0"
      ]
     },
     "execution_count": 142,
     "metadata": {},
     "output_type": "execute_result"
    }
   ],
   "source": [
    "len(np.intersect1d(Genes_xpEHH_01_200kb[3],Genes_iHS_01_200kb[3]))"
   ]
  },
  {
   "cell_type": "markdown",
   "metadata": {},
   "source": [
    "##### Genes xpEHH+TajimasD"
   ]
  },
  {
   "cell_type": "code",
   "execution_count": 60,
   "metadata": {},
   "outputs": [
    {
     "data": {
      "text/plain": [
       "0"
      ]
     },
     "execution_count": 60,
     "metadata": {},
     "output_type": "execute_result"
    }
   ],
   "source": [
    "len(np.intersect1d(Genes_xpEHH_01_200kb[3],Genes_TajimasD_01_100kb[1]))"
   ]
  },
  {
   "cell_type": "markdown",
   "metadata": {},
   "source": [
    "##### Genes xpEHH+CLR"
   ]
  },
  {
   "cell_type": "code",
   "execution_count": 144,
   "metadata": {},
   "outputs": [
    {
     "data": {
      "text/plain": [
       "0"
      ]
     },
     "execution_count": 144,
     "metadata": {},
     "output_type": "execute_result"
    }
   ],
   "source": [
    "len(np.intersect1d(Genes_xpEHH_01_200kb[3],Genes_CLR_01_200kb[3]))"
   ]
  },
  {
   "cell_type": "markdown",
   "metadata": {},
   "source": [
    "##### Genes xpEHH+GroSS"
   ]
  },
  {
   "cell_type": "code",
   "execution_count": 145,
   "metadata": {},
   "outputs": [
    {
     "data": {
      "text/plain": [
       "90"
      ]
     },
     "execution_count": 145,
     "metadata": {},
     "output_type": "execute_result"
    }
   ],
   "source": [
    "len(np.intersect1d(Genes_xpEHH_01_200kb[3],Genes_GRoSS_01_200kb[3]))"
   ]
  },
  {
   "cell_type": "code",
   "execution_count": 172,
   "metadata": {},
   "outputs": [],
   "source": [
    "GenesComuns_xpEHH_GRoSS_01=(np.intersect1d(Genes_xpEHH_01_200kb[3],Genes_GRoSS_01_200kb[3]))\n",
    "\n",
    "File_GenesComuns_xpEHH_GRoSS_01=open(\"IndiaResults/xpEHH_GRoSS200kb_GenesComuns_GreaterZeroOnePercent.txt\", \"w\")\n",
    "lista = []\n",
    "for i in range(len(GenesComuns_xpEHH_GRoSS_01)):\n",
    "    for a in range(len(Genes_GRoSS_01_200kb[3])):\n",
    "        if GenesComuns_xpEHH_GRoSS_01[i] == Genes_GRoSS_01_200kb[3][a]:\n",
    "            lista.append(f\"{Genes_GRoSS_01_200kb[0][a]}\\t{Genes_GRoSS_01_200kb[1][a]}\\t{Genes_GRoSS_01_200kb[2][a]}\\t{Genes_GRoSS_01_200kb[4][a]}\\n\")\n",
    "lista = set(lista)\n",
    "\n",
    "for conteudo in lista:\n",
    "    File_GenesComuns_xpEHH_GRoSS_01.write(conteudo)\n"
   ]
  },
  {
   "cell_type": "markdown",
   "metadata": {},
   "source": [
    "##### Genes iHS+TajimasD"
   ]
  },
  {
   "cell_type": "code",
   "execution_count": 62,
   "metadata": {},
   "outputs": [
    {
     "data": {
      "text/plain": [
       "0"
      ]
     },
     "execution_count": 62,
     "metadata": {},
     "output_type": "execute_result"
    }
   ],
   "source": [
    "len(np.intersect1d(Genes_iHS_01_200kb[3],Genes_TajimasD_01_100kb[1]))"
   ]
  },
  {
   "cell_type": "markdown",
   "metadata": {},
   "source": [
    "##### Genes iHS+CLR"
   ]
  },
  {
   "cell_type": "code",
   "execution_count": 112,
   "metadata": {},
   "outputs": [
    {
     "data": {
      "text/plain": [
       "0"
      ]
     },
     "execution_count": 112,
     "metadata": {},
     "output_type": "execute_result"
    }
   ],
   "source": [
    "len(np.intersect1d(Genes_iHS_01_200kb[3],Genes_CLR_01_200kb[3]))"
   ]
  },
  {
   "cell_type": "markdown",
   "metadata": {},
   "source": [
    "##### Genes iHS+GRoSS"
   ]
  },
  {
   "cell_type": "code",
   "execution_count": 59,
   "metadata": {},
   "outputs": [
    {
     "data": {
      "text/plain": [
       "0"
      ]
     },
     "execution_count": 59,
     "metadata": {},
     "output_type": "execute_result"
    }
   ],
   "source": [
    "len(np.intersect1d(Genes_iHS_01_200kb[3],Genes_GRoSS_01_200kb[3]))"
   ]
  },
  {
   "cell_type": "markdown",
   "metadata": {},
   "source": [
    "##### Genes TajimasD+CLR"
   ]
  },
  {
   "cell_type": "code",
   "execution_count": 66,
   "metadata": {},
   "outputs": [
    {
     "data": {
      "text/plain": [
       "0"
      ]
     },
     "execution_count": 66,
     "metadata": {},
     "output_type": "execute_result"
    }
   ],
   "source": [
    "len(np.intersect1d(Genes_TajimasD_01_100kb[1],Genes_CLR_01_200kb[3]))"
   ]
  },
  {
   "cell_type": "code",
   "execution_count": 181,
   "metadata": {},
   "outputs": [],
   "source": [
    "GenesComuns_TajimasD_CLR_01=(np.intersect1d(Genes_TajimasD_01[1],Genes_CLR_01_200kb[3]))\n",
    "\n",
    "File_GenesComuns_TajimasD_CLR_01=open(\"IndiaResults/TajimasD_CLR200kb_GenesComuns_GreaterZeroOnePercent.txt\", \"w\")\n",
    "lista = []\n",
    "for i in range(len(GenesComuns_TajimasD_CLR_01)):\n",
    "    for a in range(len(Genes_CLR_01_200kb[3])):\n",
    "        if GenesComuns_TajimasD_CLR_01[i] == Genes_CLR_01_200kb[3][a]:\n",
    "            lista.append(f\"{Genes_CLR_01_200kb[0][a]}\\t{Genes_CLR_01_200kb[1][a]}\\t{Genes_CLR_01_200kb[2][a]}\\t{Genes_CLR_01_200kb[4][a]}\\n\")\n",
    "lista = set(lista)\n",
    "\n",
    "for conteudo in lista:\n",
    "    File_GenesComuns_TajimasD_CLR_01.write(conteudo)\n"
   ]
  },
  {
   "cell_type": "markdown",
   "metadata": {},
   "source": [
    "##### Genes TajimasD+GRoSS"
   ]
  },
  {
   "cell_type": "code",
   "execution_count": 67,
   "metadata": {},
   "outputs": [
    {
     "data": {
      "text/plain": [
       "0"
      ]
     },
     "execution_count": 67,
     "metadata": {},
     "output_type": "execute_result"
    }
   ],
   "source": [
    "len(np.intersect1d(Genes_TajimasD_01_100kb[1],Genes_GRoSS_01_200kb[3]))"
   ]
  },
  {
   "cell_type": "markdown",
   "metadata": {},
   "source": [
    "##### Genes CLR+GRoSS"
   ]
  },
  {
   "cell_type": "code",
   "execution_count": 119,
   "metadata": {},
   "outputs": [
    {
     "data": {
      "text/plain": [
       "0"
      ]
     },
     "execution_count": 119,
     "metadata": {},
     "output_type": "execute_result"
    }
   ],
   "source": [
    "len(np.intersect1d(Genes_CLR_01_200kb[3],Genes_GRoSS_01_200kb[3]))"
   ]
  },
  {
   "cell_type": "markdown",
   "metadata": {},
   "source": [
    "#### common\n"
   ]
  },
  {
   "cell_type": "code",
   "execution_count": 3,
   "metadata": {},
   "outputs": [],
   "source": [
    "Genes_01=pd.read_csv('IndiaResults/ComunsBetweenMethods/Genes_2methods_01%.txt', sep=\"\\t\", header=None)\n",
    "Genes_05=pd.read_csv('IndiaResults/ComunsBetweenMethods/Genes_2methods_05%.txt', sep=\"\\t\", header=None)\n",
    "Genes_1=pd.read_csv('IndiaResults/ComunsBetweenMethods/Genes_2methods_1%.txt', sep=\"\\t\", header=None)\n",
    "\n",
    "#Genes_01_bins20=pd.read_csv('IndiaResults/ComunsBetweenMethods/01_bins20_PBS_xpEHH.txt', sep=\"\\t\", header=None)\n",
    "#Genes_01_200kb=pd.read_csv('IndiaResults/ComunsBetweenMethods/01_200kb_PBS_xpEHH.txt', sep=\"\\t\", header=None)\n",
    "#Genes_01_binsE200kb=pd.read_csv('IndiaResults/ComunsBetweenMethods/01_3and2methods_binsE200kb.txt', sep=\"\\t\", header=None)\n"
   ]
  },
  {
   "cell_type": "code",
   "execution_count": 35,
   "metadata": {},
   "outputs": [
    {
     "name": "stdout",
     "output_type": "stream",
     "text": [
      "['AK056973' 'ANKRD39' 'ARID5A' 'BC039500' 'BC073928' 'BCKDK' 'BCL7C'\n",
      " 'BOLA2' 'C16orf93' 'C16orf98' 'CTF1' 'DCTPP1' 'DL489986' 'FAM178B' 'FBRS'\n",
      " 'FBXL19' 'FBXL19-AS1' 'FER1L5' 'FUS' 'HSD3B7' 'ITGAL' 'ITGAM' 'ITGAX'\n",
      " 'KANSL3' 'KAT8' 'LOC100862671' 'LOC730183' 'MIR4518' 'MIR4519' 'MIR762'\n",
      " 'MYLPF' 'ORAI3' 'PHKG2' 'PRR14' 'PRSS36' 'PRSS53' 'PRSS8' 'PYCARD'\n",
      " 'PYDC1' 'RNF40' 'SEMA4C' 'SEPHS2' 'SEPT1' 'SETD1A' 'SNORA30' 'SRCAP'\n",
      " 'STX1B' 'STX4' 'TBC1D10B' 'TLS/FUS-ERG' 'TRIM72']\n"
     ]
    }
   ],
   "source": [
    "print(np.intersect1d(Genes_01_binsE200kb,Genes_PBS[2]))"
   ]
  },
  {
   "cell_type": "code",
   "execution_count": 5,
   "metadata": {},
   "outputs": [
    {
     "data": {
      "text/plain": [
       "47"
      ]
     },
     "execution_count": 5,
     "metadata": {},
     "output_type": "execute_result"
    }
   ],
   "source": [
    "len(np.intersect1d(np.intersect1d(Genes_01,Genes_05),Genes_1))\n"
   ]
  },
  {
   "cell_type": "code",
   "execution_count": 7,
   "metadata": {},
   "outputs": [
    {
     "ename": "ValueError",
     "evalue": "The truth value of a Series is ambiguous. Use a.empty, a.bool(), a.item(), a.any() or a.all().",
     "output_type": "error",
     "traceback": [
      "\u001b[1;31m---------------------------------------------------------------------------\u001b[0m",
      "\u001b[1;31mValueError\u001b[0m                                Traceback (most recent call last)",
      "\u001b[1;32m<ipython-input-7-33a4f858f46c>\u001b[0m in \u001b[0;36m<module>\u001b[1;34m\u001b[0m\n\u001b[0;32m      5\u001b[0m \u001b[1;32mfor\u001b[0m \u001b[0mi\u001b[0m \u001b[1;32min\u001b[0m \u001b[0mrange\u001b[0m\u001b[1;33m(\u001b[0m\u001b[0mlen\u001b[0m\u001b[1;33m(\u001b[0m\u001b[0mGenes_1\u001b[0m\u001b[1;33m)\u001b[0m\u001b[1;33m)\u001b[0m\u001b[1;33m:\u001b[0m\u001b[1;33m\u001b[0m\u001b[1;33m\u001b[0m\u001b[0m\n\u001b[0;32m      6\u001b[0m     \u001b[1;32mfor\u001b[0m \u001b[0ma\u001b[0m \u001b[1;32min\u001b[0m \u001b[0mrange\u001b[0m\u001b[1;33m(\u001b[0m\u001b[0mlen\u001b[0m\u001b[1;33m(\u001b[0m\u001b[0mGenesComuns_01_05_1\u001b[0m\u001b[1;33m)\u001b[0m\u001b[1;33m)\u001b[0m\u001b[1;33m:\u001b[0m\u001b[1;33m\u001b[0m\u001b[1;33m\u001b[0m\u001b[0m\n\u001b[1;32m----> 7\u001b[1;33m         \u001b[1;32mif\u001b[0m \u001b[0mGenes_1\u001b[0m\u001b[1;33m[\u001b[0m\u001b[0mi\u001b[0m\u001b[1;33m]\u001b[0m \u001b[1;33m==\u001b[0m \u001b[0mGenesComuns_01_05_1\u001b[0m\u001b[1;33m[\u001b[0m\u001b[0ma\u001b[0m\u001b[1;33m]\u001b[0m\u001b[1;33m:\u001b[0m\u001b[1;33m\u001b[0m\u001b[1;33m\u001b[0m\u001b[0m\n\u001b[0m\u001b[0;32m      8\u001b[0m             \u001b[0mlista\u001b[0m\u001b[1;33m.\u001b[0m\u001b[0mappend\u001b[0m\u001b[1;33m(\u001b[0m\u001b[1;34mf\"{GenesComuns_01_05_1[a]}\\n\"\u001b[0m\u001b[1;33m)\u001b[0m\u001b[1;33m\u001b[0m\u001b[1;33m\u001b[0m\u001b[0m\n\u001b[0;32m      9\u001b[0m \u001b[1;33m\u001b[0m\u001b[0m\n",
      "\u001b[1;32m~\\anaconda3\\lib\\site-packages\\pandas\\core\\generic.py\u001b[0m in \u001b[0;36m__nonzero__\u001b[1;34m(self)\u001b[0m\n\u001b[0;32m   1477\u001b[0m     \u001b[1;32mdef\u001b[0m \u001b[0m__nonzero__\u001b[0m\u001b[1;33m(\u001b[0m\u001b[0mself\u001b[0m\u001b[1;33m)\u001b[0m\u001b[1;33m:\u001b[0m\u001b[1;33m\u001b[0m\u001b[1;33m\u001b[0m\u001b[0m\n\u001b[0;32m   1478\u001b[0m         raise ValueError(\n\u001b[1;32m-> 1479\u001b[1;33m             \u001b[1;34mf\"The truth value of a {type(self).__name__} is ambiguous. \"\u001b[0m\u001b[1;33m\u001b[0m\u001b[1;33m\u001b[0m\u001b[0m\n\u001b[0m\u001b[0;32m   1480\u001b[0m             \u001b[1;34m\"Use a.empty, a.bool(), a.item(), a.any() or a.all().\"\u001b[0m\u001b[1;33m\u001b[0m\u001b[1;33m\u001b[0m\u001b[0m\n\u001b[0;32m   1481\u001b[0m         )\n",
      "\u001b[1;31mValueError\u001b[0m: The truth value of a Series is ambiguous. Use a.empty, a.bool(), a.item(), a.any() or a.all()."
     ]
    }
   ],
   "source": [
    "GenesComuns_01_05_1=(np.intersect1d(np.intersect1d(Genes_01,Genes_05),Genes_1))\n",
    "\n",
    "File_GenesComuns_01_05_1=open(\"IndiaResults/ComunsBetweenMethods/Genes_01_05_1.txt\", \"w\")\n",
    "lista = []\n",
    "for i in range(len(Genes_1)):\n",
    "    for a in range(len(GenesComuns_01_05_1)):\n",
    "        if Genes_1[i] == GenesComuns_01_05_1[a]:\n",
    "            lista.append(f\"{GenesComuns_01_05_1[a]}\\n\")\n",
    "    \n",
    "lista = set(lista)\n",
    "\n",
    "for conteudo in lista:\n",
    "    File_GenesComuns_01_05_1.write(conteudo)\n",
    "\n"
   ]
  },
  {
   "cell_type": "code",
   "execution_count": 52,
   "metadata": {},
   "outputs": [
    {
     "data": {
      "text/plain": [
       "0"
      ]
     },
     "execution_count": 52,
     "metadata": {},
     "output_type": "execute_result"
    }
   ],
   "source": [
    "len(np.intersect1d(Genes_01_binsE200kb,Genes_iHS_200kb[4]))"
   ]
  },
  {
   "cell_type": "code",
   "execution_count": 53,
   "metadata": {},
   "outputs": [
    {
     "data": {
      "text/plain": [
       "12"
      ]
     },
     "execution_count": 53,
     "metadata": {},
     "output_type": "execute_result"
    }
   ],
   "source": [
    "len(np.intersect1d(Genes_01_binsE200kb,Genes_CLR_200kb[4]))"
   ]
  },
  {
   "cell_type": "code",
   "execution_count": 55,
   "metadata": {},
   "outputs": [],
   "source": [
    "GenesComuns_CLR_1=(np.intersect1d(Genes_01_binsE200kb,Genes_CLR_200kb[4]))\n",
    "\n",
    "File_GenesComuns_CLR_1=open(\"IndiaResults/Genes_01_binsE200kb_CLR_1.txt\", \"w\")\n",
    "lista = []\n",
    "for i in range(len(GenesComuns_CLR_1)):\n",
    "    for a in range(len(Genes_CLR_200kb[4])):\n",
    "        if GenesComuns_CLR_1[i] == Genes_CLR_200kb[4][a]:\n",
    "            lista.append(f\"{Genes_CLR_200kb[4][a]}\\n\")\n",
    "            \n",
    "lista = set(lista)\n",
    "\n",
    "for conteudo in lista:\n",
    "    File_GenesComuns_CLR_1.write(conteudo)\n",
    "\n",
    "\n",
    "    "
   ]
  },
  {
   "cell_type": "code",
   "execution_count": 57,
   "metadata": {},
   "outputs": [
    {
     "name": "stdout",
     "output_type": "stream",
     "text": [
      "['BCAS3']\n"
     ]
    }
   ],
   "source": [
    "print(np.intersect1d(Genes_01_binsE200kb,Genes_TajimasD[2]))"
   ]
  },
  {
   "cell_type": "code",
   "execution_count": 58,
   "metadata": {},
   "outputs": [
    {
     "data": {
      "text/plain": [
       "58"
      ]
     },
     "execution_count": 58,
     "metadata": {},
     "output_type": "execute_result"
    }
   ],
   "source": [
    "len(np.intersect1d(Genes_01_binsE200kb,Genes_GRoSS_200kb[4]))"
   ]
  },
  {
   "cell_type": "code",
   "execution_count": 66,
   "metadata": {},
   "outputs": [],
   "source": [
    "GenesComuns_GRoSS_1=(np.intersect1d(Genes_01_binsE200kb,Genes_GRoSS_200kb[4]))\n",
    "\n",
    "File_GenesComuns_GRoSS_1=open(\"IndiaResults/Genes_01_binsE200kb_GRoSS_1.txt\", \"w\")\n",
    "lista = []\n",
    "for i in range(len(GenesComuns_GRoSS_1)):\n",
    "    for a in range(len(Genes_GRoSS_200kb[4])):\n",
    "        if GenesComuns_GRoSS_1[i] == Genes_GRoSS_200kb[4][a]:\n",
    "            lista.append(f\"{Genes_GRoSS_200kb[4][a]}\\n\")\n",
    "            \n",
    "lista = set(lista)\n",
    "\n",
    "for conteudo in lista:\n",
    "    File_GenesComuns_GRoSS_1.write(conteudo)\n",
    "\n",
    "\n",
    "    "
   ]
  },
  {
   "cell_type": "code",
   "execution_count": 3,
   "metadata": {},
   "outputs": [],
   "source": [
    "Genes_Liu=pd.read_csv('IndianResults_Liu2017.txt', sep=\"\\t\", header=None)\n",
    "Genes_Mendes=pd.read_csv('IndianResults_Mendes2021.txt', sep=\"\\t\", header=None)"
   ]
  },
  {
   "cell_type": "code",
   "execution_count": 5,
   "metadata": {},
   "outputs": [
    {
     "name": "stdout",
     "output_type": "stream",
     "text": [
      "['AGER' 'AGPAT1' 'BMI1' 'BRD2' 'CNTNAP2' 'COMMD3' 'DDR1' 'EGFL8' 'FLOT1'\n",
      " 'GABBR1' 'GPSM3' 'GTF2H4' 'HCP5' 'IER3' 'KCND2' 'LOC100507547' 'MDC1'\n",
      " 'MIR4640' 'MOG' 'MUC22' 'NOTCH4' 'NRM' 'OR2H2' 'PBX2' 'PPP1R18' 'PPT2'\n",
      " 'PRRT1' 'RNF5' 'SNORD32B' 'SPAG6' 'TUBB' 'VARS2' 'ZFP57']\n"
     ]
    }
   ],
   "source": [
    "print(np.intersect1d(Genes_Liu,Genes_Mendes))"
   ]
  }
 ],
 "metadata": {
  "kernelspec": {
   "display_name": "Python 3 (ipykernel)",
   "language": "python",
   "name": "python3"
  },
  "language_info": {
   "codemirror_mode": {
    "name": "ipython",
    "version": 3
   },
   "file_extension": ".py",
   "mimetype": "text/x-python",
   "name": "python",
   "nbconvert_exporter": "python",
   "pygments_lexer": "ipython3",
   "version": "3.9.6"
  }
 },
 "nbformat": 4,
 "nbformat_minor": 4
}
